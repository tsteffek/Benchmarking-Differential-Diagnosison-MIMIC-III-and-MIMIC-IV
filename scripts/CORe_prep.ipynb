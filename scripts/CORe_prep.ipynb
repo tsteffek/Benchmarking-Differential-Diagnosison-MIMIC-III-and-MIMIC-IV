{
 "cells": [
  {
   "cell_type": "code",
   "execution_count": 1,
   "outputs": [],
   "source": [
    "import pandas as pd\n",
    "from pandas import DataFrame\n",
    "from pathlib import Path\n",
    "\n",
    "data_dir = Path('../../mimic4-pg/data/')\n",
    "adm_sub_ids = ['subject_id', 'hadm_id']"
   ],
   "metadata": {
    "collapsed": false,
    "ExecuteTime": {
     "end_time": "2023-09-08T13:23:24.688532800Z",
     "start_time": "2023-09-08T13:23:23.998998500Z"
    }
   }
  },
  {
   "cell_type": "markdown",
   "source": [
    "# Data Loading"
   ],
   "metadata": {
    "collapsed": false
   }
  },
  {
   "cell_type": "code",
   "execution_count": 2,
   "outputs": [],
   "source": [
    "mimic4_hosp_dir = data_dir / 'mimic-iv-2.2/hosp/'\n",
    "admission_times = ['admittime', 'dischtime', 'deathtime', 'edregtime', 'edouttime']\n",
    "\n",
    "required_files = ['patients', 'd_icd_diagnoses', 'd_icd_procedures']\n",
    "hosp_tables: dict[str, DataFrame] = {f: pd.read_csv(mimic4_hosp_dir / (f + '.csv.gz')) for f in required_files}\n",
    "patients = hosp_tables['patients']\n",
    "admissions = pd.read_csv(mimic4_hosp_dir / 'admissions.csv.gz', parse_dates=admission_times)\n",
    "diagnoses = pd.read_csv(mimic4_hosp_dir / 'diagnoses_icd.csv.gz', dtype={'icd_code': str})\n",
    "procedures = pd.read_csv(mimic4_hosp_dir / 'procedures_icd.csv.gz', dtype={'icd_code': str})\n",
    "d_icd_diagnoses = hosp_tables['d_icd_diagnoses']\n",
    "d_icd_procedures = hosp_tables['d_icd_procedures']"
   ],
   "metadata": {
    "collapsed": false,
    "ExecuteTime": {
     "end_time": "2023-09-08T13:23:28.346069Z",
     "start_time": "2023-09-08T13:23:24.346226200Z"
    }
   }
  },
  {
   "cell_type": "code",
   "execution_count": 3,
   "outputs": [],
   "source": [
    "icu_stays = pd.read_csv(data_dir / 'mimic-iv-2.2/icu/icustays.csv.gz', parse_dates=['intime', 'outtime'])\n",
    "\n",
    "icu_stays = pd.merge(icu_stays, patients[['subject_id', 'anchor_year_group']], on='subject_id')\n",
    "icu_patients = pd.merge(icu_stays['subject_id'], patients, on='subject_id').drop_duplicates('subject_id')"
   ],
   "metadata": {
    "collapsed": false,
    "ExecuteTime": {
     "end_time": "2023-09-08T13:23:28.635805300Z",
     "start_time": "2023-09-08T13:23:28.347069700Z"
    }
   }
  },
  {
   "cell_type": "code",
   "execution_count": 4,
   "outputs": [],
   "source": [
    "carevue_dir = data_dir / 'mimiciii-carevue'\n",
    "\n",
    "carevue_patients = pd.read_csv(carevue_dir / 'PATIENTS.csv.gz')\n",
    "carevue_adm = pd.read_csv(carevue_dir / 'ADMISSIONS.csv.gz')"
   ],
   "metadata": {
    "collapsed": false,
    "ExecuteTime": {
     "end_time": "2023-09-08T13:23:28.747192200Z",
     "start_time": "2023-09-08T13:23:28.636794200Z"
    }
   }
  },
  {
   "cell_type": "code",
   "execution_count": 5,
   "outputs": [],
   "source": [
    "mimiciii_dir = data_dir / 'mimiciii'\n",
    "\n",
    "iii_adm = pd.read_csv(mimiciii_dir / 'ADMISSIONS.csv', parse_dates=list(map(str.upper, admission_times)))\n",
    "iii_patients = pd.read_csv(mimiciii_dir / 'PATIENTS.csv.gz')\n",
    "iii_diagnoses = pd.read_csv(mimiciii_dir / 'DIAGNOSES_ICD.csv', dtype={'ICD9_CODE': str}).rename({'ICD9_CODE': 'icd_code'}, axis=1)\n",
    "iii_procedures = pd.read_csv(mimiciii_dir / 'PROCEDURES_ICD.csv', dtype={'ICD9_CODE': str}).rename({'ICD9_CODE': 'icd_code'}, axis=1)\n",
    "\n",
    "for df in [iii_adm, iii_patients, iii_diagnoses, iii_procedures]:\n",
    "    df.drop('ROW_ID', axis=1, inplace=True)\n",
    "    df.rename(str.lower, axis=1, inplace=True)"
   ],
   "metadata": {
    "collapsed": false,
    "ExecuteTime": {
     "end_time": "2023-09-08T13:23:29.352950Z",
     "start_time": "2023-09-08T13:23:28.749702500Z"
    }
   }
  },
  {
   "cell_type": "markdown",
   "source": [
    "# Admissions"
   ],
   "metadata": {
    "collapsed": false
   }
  },
  {
   "cell_type": "code",
   "execution_count": 6,
   "outputs": [],
   "source": [
    "def combine_icd_codes(df: DataFrame, type: str):\n",
    "    combined = (df\n",
    "                .groupby(['hadm_id', 'subject_id', 'icd_version'])\n",
    "                .agg(set)\n",
    "                .reset_index('icd_version')\n",
    "                .rename({'icd_version': type + '_version', 'icd_code': type + '_codes'}, axis=1)\n",
    "                )\n",
    "    return combined\n",
    "\n",
    "if 'pro_codes' not in admissions.columns:\n",
    "    admissions = pd.merge(admissions, combine_icd_codes(diagnoses, 'dia'), how='left', on=adm_sub_ids)\n",
    "    admissions = pd.merge(admissions, combine_icd_codes(procedures, 'pro'), how='left', on=adm_sub_ids, suffixes=('dia', 'pro'))\n",
    "\n",
    "    admissions.loc[admissions.dia_codes.isna(), 'dia_codes'] = admissions.dia_codes[admissions.dia_codes.isna()].apply(lambda x: set())\n",
    "    admissions.loc[admissions.pro_codes.isna(), 'pro_codes'] = admissions.pro_codes[admissions.pro_codes.isna()].apply(lambda x: set())"
   ],
   "metadata": {
    "collapsed": false,
    "ExecuteTime": {
     "end_time": "2023-09-08T13:23:51.752081800Z",
     "start_time": "2023-09-08T13:23:29.353939400Z"
    }
   }
  },
  {
   "cell_type": "code",
   "execution_count": 7,
   "outputs": [],
   "source": [
    "def combine_icd_codes_iii(df: DataFrame, type: str):\n",
    "    combined = (df\n",
    "                .dropna()\n",
    "                .groupby(['hadm_id', 'subject_id'])\n",
    "                .agg(set)\n",
    "                .rename({'icd_code': type + '_codes'}, axis=1)\n",
    "                )\n",
    "    return combined\n",
    "\n",
    "if 'pro_codes' not in iii_adm.columns:\n",
    "    iii_adm = pd.merge(iii_adm, combine_icd_codes_iii(iii_diagnoses, 'dia'), how='left', on=adm_sub_ids)\n",
    "    iii_adm = pd.merge(iii_adm, combine_icd_codes_iii(iii_procedures, 'pro'), how='left', on=adm_sub_ids)\n",
    "\n",
    "    iii_adm.loc[iii_adm.dia_codes.isna(), 'dia_codes'] = iii_adm.dia_codes[iii_adm.dia_codes.isna()].apply(lambda x: set())\n",
    "    iii_adm.loc[iii_adm.pro_codes.isna(), 'pro_codes'] = iii_adm.pro_codes[iii_adm.pro_codes.isna()].apply(lambda x: set())"
   ],
   "metadata": {
    "collapsed": false,
    "ExecuteTime": {
     "end_time": "2023-09-08T13:23:55.543205700Z",
     "start_time": "2023-09-08T13:23:51.756081300Z"
    }
   }
  },
  {
   "cell_type": "code",
   "execution_count": 8,
   "outputs": [],
   "source": [
    "times = 'admittime', 'dischtime', 'deathtime', 'edregtime', 'edouttime'\n",
    "moments = [t.replace('time', 'moment') for t in times]\n",
    "intervals = [t.replace('time', 'interval') for t in times if t != 'admittime']\n",
    "\n",
    "def times_to_moment(df: DataFrame, *times: str):\n",
    "    for t in times:\n",
    "        df[t.replace('time', 'moment')] = df[t].dt.time\n",
    "        if t != 'admittime':\n",
    "            df[t.replace('time', 'interval')] = (df[t] - df['admittime']).dt.total_seconds()\n",
    "\n",
    "times_to_moment(admissions, *times)\n",
    "times_to_moment(iii_adm, *times)"
   ],
   "metadata": {
    "collapsed": false,
    "ExecuteTime": {
     "end_time": "2023-09-08T13:23:56.066640Z",
     "start_time": "2023-09-08T13:23:55.647075500Z"
    }
   }
  },
  {
   "cell_type": "markdown",
   "source": [
    "# Patients"
   ],
   "metadata": {
    "collapsed": false
   }
  },
  {
   "cell_type": "code",
   "execution_count": 9,
   "outputs": [],
   "source": [
    "def counts_with_percentage(df: DataFrame):\n",
    "    counts = df.value_counts()\n",
    "    return pd.concat((counts.rename('total'), round((counts / df.size) * 100, 2).rename('relative')), axis=1)\n",
    "\n",
    "\n",
    "def unique_patient_adms(df: DataFrame, cols=adm_sub_ids):\n",
    "    return df[cols].nunique().rename('total')"
   ],
   "metadata": {
    "collapsed": false,
    "ExecuteTime": {
     "end_time": "2023-09-08T13:23:56.073530600Z",
     "start_time": "2023-09-08T13:23:56.068639900Z"
    }
   }
  },
  {
   "cell_type": "code",
   "execution_count": 10,
   "outputs": [
    {
     "data": {
      "text/plain": "                   total  relative\nanchor_year_group                 \n2008 - 2010        96695     32.26\n2011 - 2013        72458     24.18\n2014 - 2016        68131     22.73\n2017 - 2019        62426     20.83\n2020 - 2022            2      0.00",
      "text/html": "<div>\n<style scoped>\n    .dataframe tbody tr th:only-of-type {\n        vertical-align: middle;\n    }\n\n    .dataframe tbody tr th {\n        vertical-align: top;\n    }\n\n    .dataframe thead th {\n        text-align: right;\n    }\n</style>\n<table border=\"1\" class=\"dataframe\">\n  <thead>\n    <tr style=\"text-align: right;\">\n      <th></th>\n      <th>total</th>\n      <th>relative</th>\n    </tr>\n    <tr>\n      <th>anchor_year_group</th>\n      <th></th>\n      <th></th>\n    </tr>\n  </thead>\n  <tbody>\n    <tr>\n      <th>2008 - 2010</th>\n      <td>96695</td>\n      <td>32.26</td>\n    </tr>\n    <tr>\n      <th>2011 - 2013</th>\n      <td>72458</td>\n      <td>24.18</td>\n    </tr>\n    <tr>\n      <th>2014 - 2016</th>\n      <td>68131</td>\n      <td>22.73</td>\n    </tr>\n    <tr>\n      <th>2017 - 2019</th>\n      <td>62426</td>\n      <td>20.83</td>\n    </tr>\n    <tr>\n      <th>2020 - 2022</th>\n      <td>2</td>\n      <td>0.00</td>\n    </tr>\n  </tbody>\n</table>\n</div>"
     },
     "execution_count": 10,
     "metadata": {},
     "output_type": "execute_result"
    }
   ],
   "source": [
    "patients['year_diff'] = patients['anchor_year'] - patients['anchor_year_group'].str[:4].astype('int')\n",
    "counts_with_percentage(patients.anchor_year_group)"
   ],
   "metadata": {
    "collapsed": false,
    "ExecuteTime": {
     "end_time": "2023-09-08T13:23:56.175945300Z",
     "start_time": "2023-09-08T13:23:56.072526500Z"
    }
   }
  },
  {
   "cell_type": "code",
   "execution_count": 11,
   "outputs": [
    {
     "data": {
      "text/plain": "                   total  relative\nanchor_year_group                 \n2008 - 2010        16155     31.73\n2011 - 2013        12217     23.99\n2014 - 2016        11940     23.45\n2017 - 2019        10608     20.83",
      "text/html": "<div>\n<style scoped>\n    .dataframe tbody tr th:only-of-type {\n        vertical-align: middle;\n    }\n\n    .dataframe tbody tr th {\n        vertical-align: top;\n    }\n\n    .dataframe thead th {\n        text-align: right;\n    }\n</style>\n<table border=\"1\" class=\"dataframe\">\n  <thead>\n    <tr style=\"text-align: right;\">\n      <th></th>\n      <th>total</th>\n      <th>relative</th>\n    </tr>\n    <tr>\n      <th>anchor_year_group</th>\n      <th></th>\n      <th></th>\n    </tr>\n  </thead>\n  <tbody>\n    <tr>\n      <th>2008 - 2010</th>\n      <td>16155</td>\n      <td>31.73</td>\n    </tr>\n    <tr>\n      <th>2011 - 2013</th>\n      <td>12217</td>\n      <td>23.99</td>\n    </tr>\n    <tr>\n      <th>2014 - 2016</th>\n      <td>11940</td>\n      <td>23.45</td>\n    </tr>\n    <tr>\n      <th>2017 - 2019</th>\n      <td>10608</td>\n      <td>20.83</td>\n    </tr>\n  </tbody>\n</table>\n</div>"
     },
     "execution_count": 11,
     "metadata": {},
     "output_type": "execute_result"
    }
   ],
   "source": [
    "counts_with_percentage(icu_patients.anchor_year_group)"
   ],
   "metadata": {
    "collapsed": false,
    "ExecuteTime": {
     "end_time": "2023-09-08T13:23:56.175945300Z",
     "start_time": "2023-09-08T13:23:56.158948Z"
    }
   }
  },
  {
   "cell_type": "markdown",
   "source": [
    "# ICU Stays"
   ],
   "metadata": {
    "collapsed": false
   }
  },
  {
   "cell_type": "markdown",
   "source": [
    "There are icu stays that are broken up by ward stays:"
   ],
   "metadata": {
    "collapsed": false
   }
  },
  {
   "cell_type": "code",
   "execution_count": 12,
   "outputs": [
    {
     "data": {
      "text/plain": "            total  broken_up_icu_stays\nsubject_id  50920                 5476\nhadm_id     66239                 5820",
      "text/html": "<div>\n<style scoped>\n    .dataframe tbody tr th:only-of-type {\n        vertical-align: middle;\n    }\n\n    .dataframe tbody tr th {\n        vertical-align: top;\n    }\n\n    .dataframe thead th {\n        text-align: right;\n    }\n</style>\n<table border=\"1\" class=\"dataframe\">\n  <thead>\n    <tr style=\"text-align: right;\">\n      <th></th>\n      <th>total</th>\n      <th>broken_up_icu_stays</th>\n    </tr>\n  </thead>\n  <tbody>\n    <tr>\n      <th>subject_id</th>\n      <td>50920</td>\n      <td>5476</td>\n    </tr>\n    <tr>\n      <th>hadm_id</th>\n      <td>66239</td>\n      <td>5820</td>\n    </tr>\n  </tbody>\n</table>\n</div>"
     },
     "execution_count": 12,
     "metadata": {},
     "output_type": "execute_result"
    }
   ],
   "source": [
    "pd.concat((\n",
    "    unique_patient_adms(icu_stays),\n",
    "    icu_stays[icu_stays['hadm_id'].duplicated(keep=False)][adm_sub_ids].nunique().rename(\n",
    "        'broken_up_icu_stays')\n",
    "), axis=1)"
   ],
   "metadata": {
    "collapsed": false,
    "ExecuteTime": {
     "end_time": "2023-09-08T13:23:56.201437200Z",
     "start_time": "2023-09-08T13:23:56.167419700Z"
    }
   }
  },
  {
   "cell_type": "code",
   "execution_count": 13,
   "outputs": [
    {
     "data": {
      "text/plain": "count                          5820\nmean      9 days 12:34:05.728865979\nstd      11 days 21:30:28.364107979\nmin                 0 days 00:02:49\n25%          2 days 18:22:43.500000\n50%                 5 days 20:56:22\n75%         11 days 19:02:22.250000\nmax               200 days 15:17:54\nName: duplicated_icu_stay_time_differences, dtype: object"
     },
     "execution_count": 13,
     "metadata": {},
     "output_type": "execute_result"
    }
   ],
   "source": [
    "# time between these broken up stays\n",
    "abs(icu_stays[icu_stays['hadm_id'].duplicated(keep=False)].groupby('hadm_id')['intime'].agg(['max', 'min']).diff(\n",
    "    axis=1)['min']).describe().rename('duplicated_icu_stay_time_differences')"
   ],
   "metadata": {
    "collapsed": false,
    "ExecuteTime": {
     "end_time": "2023-09-08T13:23:56.255965200Z",
     "start_time": "2023-09-08T13:23:56.183295600Z"
    }
   }
  },
  {
   "cell_type": "code",
   "execution_count": 14,
   "outputs": [
    {
     "data": {
      "text/plain": "                   total  relative\nanchor_year_group                 \n2008 - 2010        26710     36.50\n2011 - 2013        17215     23.52\n2014 - 2016        15989     21.85\n2017 - 2019        13267     18.13",
      "text/html": "<div>\n<style scoped>\n    .dataframe tbody tr th:only-of-type {\n        vertical-align: middle;\n    }\n\n    .dataframe tbody tr th {\n        vertical-align: top;\n    }\n\n    .dataframe thead th {\n        text-align: right;\n    }\n</style>\n<table border=\"1\" class=\"dataframe\">\n  <thead>\n    <tr style=\"text-align: right;\">\n      <th></th>\n      <th>total</th>\n      <th>relative</th>\n    </tr>\n    <tr>\n      <th>anchor_year_group</th>\n      <th></th>\n      <th></th>\n    </tr>\n  </thead>\n  <tbody>\n    <tr>\n      <th>2008 - 2010</th>\n      <td>26710</td>\n      <td>36.50</td>\n    </tr>\n    <tr>\n      <th>2011 - 2013</th>\n      <td>17215</td>\n      <td>23.52</td>\n    </tr>\n    <tr>\n      <th>2014 - 2016</th>\n      <td>15989</td>\n      <td>21.85</td>\n    </tr>\n    <tr>\n      <th>2017 - 2019</th>\n      <td>13267</td>\n      <td>18.13</td>\n    </tr>\n  </tbody>\n</table>\n</div>"
     },
     "execution_count": 14,
     "metadata": {},
     "output_type": "execute_result"
    }
   ],
   "source": [
    "counts_with_percentage(icu_stays.anchor_year_group)"
   ],
   "metadata": {
    "collapsed": false,
    "ExecuteTime": {
     "end_time": "2023-09-08T13:23:56.307055700Z",
     "start_time": "2023-09-08T13:23:56.199427100Z"
    }
   }
  },
  {
   "cell_type": "markdown",
   "source": [
    "# ICU Admissions"
   ],
   "metadata": {
    "collapsed": false
   }
  },
  {
   "cell_type": "code",
   "execution_count": 15,
   "outputs": [
    {
     "data": {
      "text/plain": "subject_id    50920\nhadm_id       66239\nName: total, dtype: int64"
     },
     "execution_count": 15,
     "metadata": {},
     "output_type": "execute_result"
    }
   ],
   "source": [
    "if 'year_diff' not in admissions.columns:\n",
    "    admissions = pd.merge(admissions, patients[['subject_id', 'anchor_year_group', 'year_diff']], on='subject_id')\n",
    "admissions['earliest_possible_dischyear'] = admissions['dischtime'].dt.year - admissions.year_diff\n",
    "\n",
    "adm_icu = pd.merge(admissions, icu_stays[['subject_id', 'hadm_id']], on=['subject_id', 'hadm_id'])\n",
    "\n",
    "unique_patient_adms(adm_icu)"
   ],
   "metadata": {
    "collapsed": false,
    "ExecuteTime": {
     "end_time": "2023-09-08T13:23:56.717469700Z",
     "start_time": "2023-09-08T13:23:56.210692900Z"
    }
   }
  },
  {
   "cell_type": "code",
   "execution_count": 16,
   "outputs": [
    {
     "data": {
      "text/plain": "                   total  relative\nanchor_year_group                 \n2008 - 2010        26710     36.50\n2011 - 2013        17215     23.52",
      "text/html": "<div>\n<style scoped>\n    .dataframe tbody tr th:only-of-type {\n        vertical-align: middle;\n    }\n\n    .dataframe tbody tr th {\n        vertical-align: top;\n    }\n\n    .dataframe thead th {\n        text-align: right;\n    }\n</style>\n<table border=\"1\" class=\"dataframe\">\n  <thead>\n    <tr style=\"text-align: right;\">\n      <th></th>\n      <th>total</th>\n      <th>relative</th>\n    </tr>\n    <tr>\n      <th>anchor_year_group</th>\n      <th></th>\n      <th></th>\n    </tr>\n  </thead>\n  <tbody>\n    <tr>\n      <th>2008 - 2010</th>\n      <td>26710</td>\n      <td>36.50</td>\n    </tr>\n    <tr>\n      <th>2011 - 2013</th>\n      <td>17215</td>\n      <td>23.52</td>\n    </tr>\n  </tbody>\n</table>\n</div>"
     },
     "execution_count": 16,
     "metadata": {},
     "output_type": "execute_result"
    }
   ],
   "source": [
    "contaminated_ranges = ['2008 - 2010', '2011 - 2013']\n",
    "counts_with_percentage(adm_icu.anchor_year_group).loc[contaminated_ranges]"
   ],
   "metadata": {
    "collapsed": false,
    "ExecuteTime": {
     "end_time": "2023-09-08T13:23:56.717469700Z",
     "start_time": "2023-09-08T13:23:56.554947700Z"
    }
   }
  },
  {
   "cell_type": "markdown",
   "source": [
    "# ICU Separation"
   ],
   "metadata": {
    "collapsed": false
   }
  },
  {
   "cell_type": "code",
   "execution_count": 17,
   "outputs": [
    {
     "data": {
      "text/plain": "       subject_id   hadm_id           admittime           dischtime  \\\n0        10000032  29079034 2180-07-23 12:35:00 2180-07-25 17:55:00   \n1        10000980  26913865 2189-06-27 07:38:00 2189-07-03 03:00:00   \n2        10001217  24597018 2157-11-18 22:56:00 2157-11-25 18:00:00   \n3        10001217  27703517 2157-12-18 16:58:00 2157-12-24 14:55:00   \n4        10001725  25563031 2110-04-11 15:08:00 2110-04-14 15:00:00   \n...           ...       ...                 ...                 ...   \n73176    19999442  26785317 2148-11-19 10:00:00 2148-12-04 16:25:00   \n73177    19999625  25304202 2139-10-10 18:06:00 2139-10-16 03:30:00   \n73178    19999828  25744818 2149-01-08 16:44:00 2149-01-18 17:00:00   \n73179    19999840  21033226 2164-09-10 13:47:00 2164-09-17 13:42:00   \n73180    19999987  23865745 2145-11-02 21:38:00 2145-11-11 12:57:00   \n\n                deathtime admission_type admit_provider_id  \\\n0                     NaT       EW EMER.            P30KEH   \n1                     NaT       EW EMER.            P30KEH   \n2                     NaT       EW EMER.            P4645A   \n3                     NaT   DIRECT EMER.            P99698   \n4                     NaT       EW EMER.            P35SU0   \n...                   ...            ...               ...   \n73176                 NaT       ELECTIVE            P147HV   \n73177                 NaT       EW EMER.            P46LSC   \n73178                 NaT       EW EMER.            P75BG6   \n73179 2164-09-17 13:42:00       EW EMER.            P58A9J   \n73180                 NaT       EW EMER.            P09IS0   \n\n           admission_location discharge_location insurance  ... dischinterval  \\\n0              EMERGENCY ROOM               HOME  Medicaid  ...      192000.0   \n1              EMERGENCY ROOM   HOME HEALTH CARE  Medicare  ...      501720.0   \n2              EMERGENCY ROOM   HOME HEALTH CARE     Other  ...      587040.0   \n3          PHYSICIAN REFERRAL   HOME HEALTH CARE     Other  ...      511020.0   \n4                        PACU               HOME     Other  ...      258720.0   \n...                       ...                ...       ...  ...           ...   \n73176      PHYSICIAN REFERRAL              REHAB  Medicaid  ...     1319100.0   \n73177          EMERGENCY ROOM   HOME HEALTH CARE  Medicare  ...      465840.0   \n73178  TRANSFER FROM HOSPITAL   HOME HEALTH CARE     Other  ...      864960.0   \n73179          EMERGENCY ROOM               DIED     Other  ...      604500.0   \n73180          EMERGENCY ROOM              REHAB     Other  ...      746340.0   \n\n      deathmoment deathinterval edregmoment edreginterval  edoutmoment  \\\n0             NaN           NaN    05:54:00      -24060.0     14:00:00   \n1             NaN           NaN    06:25:00       -4380.0     08:42:00   \n2             NaN           NaN    17:38:00      -19080.0     01:24:00   \n3             NaN           NaN         NaT           NaN          NaT   \n4             NaN           NaN         NaT           NaN          NaT   \n...           ...           ...         ...           ...          ...   \n73176         NaT           NaN         NaT           NaN          NaT   \n73177         NaT           NaN    16:44:00       -4920.0     19:18:00   \n73178         NaT           NaN    09:11:00      -27180.0     18:12:00   \n73179    13:42:00      604500.0    11:09:00       -9480.0     14:46:00   \n73180         NaT           NaN    19:28:00       -7800.0     22:59:00   \n\n       edoutinterval anchor_year_group year_diff  earliest_possible_dischyear  \n0             5100.0       2014 - 2016       166                         2014  \n1             3840.0       2008 - 2010       178                         2011  \n2             8880.0       2011 - 2013       146                         2011  \n3                NaN       2011 - 2013       146                         2011  \n4                NaN       2011 - 2013        99                         2011  \n...              ...               ...       ...                          ...  \n73176            NaN       2008 - 2010       138                         2010  \n73177         4320.0       2008 - 2010       130                         2009  \n73178         5280.0       2017 - 2019       130                         2019  \n73179         3540.0       2008 - 2010       156                         2008  \n73180         4860.0       2011 - 2013       134                         2011  \n\n[73181 rows x 35 columns]",
      "text/html": "<div>\n<style scoped>\n    .dataframe tbody tr th:only-of-type {\n        vertical-align: middle;\n    }\n\n    .dataframe tbody tr th {\n        vertical-align: top;\n    }\n\n    .dataframe thead th {\n        text-align: right;\n    }\n</style>\n<table border=\"1\" class=\"dataframe\">\n  <thead>\n    <tr style=\"text-align: right;\">\n      <th></th>\n      <th>subject_id</th>\n      <th>hadm_id</th>\n      <th>admittime</th>\n      <th>dischtime</th>\n      <th>deathtime</th>\n      <th>admission_type</th>\n      <th>admit_provider_id</th>\n      <th>admission_location</th>\n      <th>discharge_location</th>\n      <th>insurance</th>\n      <th>...</th>\n      <th>dischinterval</th>\n      <th>deathmoment</th>\n      <th>deathinterval</th>\n      <th>edregmoment</th>\n      <th>edreginterval</th>\n      <th>edoutmoment</th>\n      <th>edoutinterval</th>\n      <th>anchor_year_group</th>\n      <th>year_diff</th>\n      <th>earliest_possible_dischyear</th>\n    </tr>\n  </thead>\n  <tbody>\n    <tr>\n      <th>0</th>\n      <td>10000032</td>\n      <td>29079034</td>\n      <td>2180-07-23 12:35:00</td>\n      <td>2180-07-25 17:55:00</td>\n      <td>NaT</td>\n      <td>EW EMER.</td>\n      <td>P30KEH</td>\n      <td>EMERGENCY ROOM</td>\n      <td>HOME</td>\n      <td>Medicaid</td>\n      <td>...</td>\n      <td>192000.0</td>\n      <td>NaN</td>\n      <td>NaN</td>\n      <td>05:54:00</td>\n      <td>-24060.0</td>\n      <td>14:00:00</td>\n      <td>5100.0</td>\n      <td>2014 - 2016</td>\n      <td>166</td>\n      <td>2014</td>\n    </tr>\n    <tr>\n      <th>1</th>\n      <td>10000980</td>\n      <td>26913865</td>\n      <td>2189-06-27 07:38:00</td>\n      <td>2189-07-03 03:00:00</td>\n      <td>NaT</td>\n      <td>EW EMER.</td>\n      <td>P30KEH</td>\n      <td>EMERGENCY ROOM</td>\n      <td>HOME HEALTH CARE</td>\n      <td>Medicare</td>\n      <td>...</td>\n      <td>501720.0</td>\n      <td>NaN</td>\n      <td>NaN</td>\n      <td>06:25:00</td>\n      <td>-4380.0</td>\n      <td>08:42:00</td>\n      <td>3840.0</td>\n      <td>2008 - 2010</td>\n      <td>178</td>\n      <td>2011</td>\n    </tr>\n    <tr>\n      <th>2</th>\n      <td>10001217</td>\n      <td>24597018</td>\n      <td>2157-11-18 22:56:00</td>\n      <td>2157-11-25 18:00:00</td>\n      <td>NaT</td>\n      <td>EW EMER.</td>\n      <td>P4645A</td>\n      <td>EMERGENCY ROOM</td>\n      <td>HOME HEALTH CARE</td>\n      <td>Other</td>\n      <td>...</td>\n      <td>587040.0</td>\n      <td>NaN</td>\n      <td>NaN</td>\n      <td>17:38:00</td>\n      <td>-19080.0</td>\n      <td>01:24:00</td>\n      <td>8880.0</td>\n      <td>2011 - 2013</td>\n      <td>146</td>\n      <td>2011</td>\n    </tr>\n    <tr>\n      <th>3</th>\n      <td>10001217</td>\n      <td>27703517</td>\n      <td>2157-12-18 16:58:00</td>\n      <td>2157-12-24 14:55:00</td>\n      <td>NaT</td>\n      <td>DIRECT EMER.</td>\n      <td>P99698</td>\n      <td>PHYSICIAN REFERRAL</td>\n      <td>HOME HEALTH CARE</td>\n      <td>Other</td>\n      <td>...</td>\n      <td>511020.0</td>\n      <td>NaN</td>\n      <td>NaN</td>\n      <td>NaT</td>\n      <td>NaN</td>\n      <td>NaT</td>\n      <td>NaN</td>\n      <td>2011 - 2013</td>\n      <td>146</td>\n      <td>2011</td>\n    </tr>\n    <tr>\n      <th>4</th>\n      <td>10001725</td>\n      <td>25563031</td>\n      <td>2110-04-11 15:08:00</td>\n      <td>2110-04-14 15:00:00</td>\n      <td>NaT</td>\n      <td>EW EMER.</td>\n      <td>P35SU0</td>\n      <td>PACU</td>\n      <td>HOME</td>\n      <td>Other</td>\n      <td>...</td>\n      <td>258720.0</td>\n      <td>NaN</td>\n      <td>NaN</td>\n      <td>NaT</td>\n      <td>NaN</td>\n      <td>NaT</td>\n      <td>NaN</td>\n      <td>2011 - 2013</td>\n      <td>99</td>\n      <td>2011</td>\n    </tr>\n    <tr>\n      <th>...</th>\n      <td>...</td>\n      <td>...</td>\n      <td>...</td>\n      <td>...</td>\n      <td>...</td>\n      <td>...</td>\n      <td>...</td>\n      <td>...</td>\n      <td>...</td>\n      <td>...</td>\n      <td>...</td>\n      <td>...</td>\n      <td>...</td>\n      <td>...</td>\n      <td>...</td>\n      <td>...</td>\n      <td>...</td>\n      <td>...</td>\n      <td>...</td>\n      <td>...</td>\n      <td>...</td>\n    </tr>\n    <tr>\n      <th>73176</th>\n      <td>19999442</td>\n      <td>26785317</td>\n      <td>2148-11-19 10:00:00</td>\n      <td>2148-12-04 16:25:00</td>\n      <td>NaT</td>\n      <td>ELECTIVE</td>\n      <td>P147HV</td>\n      <td>PHYSICIAN REFERRAL</td>\n      <td>REHAB</td>\n      <td>Medicaid</td>\n      <td>...</td>\n      <td>1319100.0</td>\n      <td>NaT</td>\n      <td>NaN</td>\n      <td>NaT</td>\n      <td>NaN</td>\n      <td>NaT</td>\n      <td>NaN</td>\n      <td>2008 - 2010</td>\n      <td>138</td>\n      <td>2010</td>\n    </tr>\n    <tr>\n      <th>73177</th>\n      <td>19999625</td>\n      <td>25304202</td>\n      <td>2139-10-10 18:06:00</td>\n      <td>2139-10-16 03:30:00</td>\n      <td>NaT</td>\n      <td>EW EMER.</td>\n      <td>P46LSC</td>\n      <td>EMERGENCY ROOM</td>\n      <td>HOME HEALTH CARE</td>\n      <td>Medicare</td>\n      <td>...</td>\n      <td>465840.0</td>\n      <td>NaT</td>\n      <td>NaN</td>\n      <td>16:44:00</td>\n      <td>-4920.0</td>\n      <td>19:18:00</td>\n      <td>4320.0</td>\n      <td>2008 - 2010</td>\n      <td>130</td>\n      <td>2009</td>\n    </tr>\n    <tr>\n      <th>73178</th>\n      <td>19999828</td>\n      <td>25744818</td>\n      <td>2149-01-08 16:44:00</td>\n      <td>2149-01-18 17:00:00</td>\n      <td>NaT</td>\n      <td>EW EMER.</td>\n      <td>P75BG6</td>\n      <td>TRANSFER FROM HOSPITAL</td>\n      <td>HOME HEALTH CARE</td>\n      <td>Other</td>\n      <td>...</td>\n      <td>864960.0</td>\n      <td>NaT</td>\n      <td>NaN</td>\n      <td>09:11:00</td>\n      <td>-27180.0</td>\n      <td>18:12:00</td>\n      <td>5280.0</td>\n      <td>2017 - 2019</td>\n      <td>130</td>\n      <td>2019</td>\n    </tr>\n    <tr>\n      <th>73179</th>\n      <td>19999840</td>\n      <td>21033226</td>\n      <td>2164-09-10 13:47:00</td>\n      <td>2164-09-17 13:42:00</td>\n      <td>2164-09-17 13:42:00</td>\n      <td>EW EMER.</td>\n      <td>P58A9J</td>\n      <td>EMERGENCY ROOM</td>\n      <td>DIED</td>\n      <td>Other</td>\n      <td>...</td>\n      <td>604500.0</td>\n      <td>13:42:00</td>\n      <td>604500.0</td>\n      <td>11:09:00</td>\n      <td>-9480.0</td>\n      <td>14:46:00</td>\n      <td>3540.0</td>\n      <td>2008 - 2010</td>\n      <td>156</td>\n      <td>2008</td>\n    </tr>\n    <tr>\n      <th>73180</th>\n      <td>19999987</td>\n      <td>23865745</td>\n      <td>2145-11-02 21:38:00</td>\n      <td>2145-11-11 12:57:00</td>\n      <td>NaT</td>\n      <td>EW EMER.</td>\n      <td>P09IS0</td>\n      <td>EMERGENCY ROOM</td>\n      <td>REHAB</td>\n      <td>Other</td>\n      <td>...</td>\n      <td>746340.0</td>\n      <td>NaT</td>\n      <td>NaN</td>\n      <td>19:28:00</td>\n      <td>-7800.0</td>\n      <td>22:59:00</td>\n      <td>4860.0</td>\n      <td>2011 - 2013</td>\n      <td>134</td>\n      <td>2011</td>\n    </tr>\n  </tbody>\n</table>\n<p>73181 rows × 35 columns</p>\n</div>"
     },
     "execution_count": 17,
     "metadata": {},
     "output_type": "execute_result"
    }
   ],
   "source": [
    "adm_icu"
   ],
   "metadata": {
    "collapsed": false,
    "ExecuteTime": {
     "end_time": "2023-09-08T13:23:56.718978600Z",
     "start_time": "2023-09-08T13:23:56.559001600Z"
    }
   }
  },
  {
   "cell_type": "code",
   "execution_count": 18,
   "outputs": [
    {
     "data": {
      "text/plain": "            anchor_year_group  earliest_possible  carevue estimate  epe/ICU  \\\nsubject_id              28372              22941             23294     45.1   \nhadm_id                 43925              28877             32140     43.6   \n\n            cve/ICU  \nsubject_id     45.7  \nhadm_id        48.5  ",
      "text/html": "<div>\n<style scoped>\n    .dataframe tbody tr th:only-of-type {\n        vertical-align: middle;\n    }\n\n    .dataframe tbody tr th {\n        vertical-align: top;\n    }\n\n    .dataframe thead th {\n        text-align: right;\n    }\n</style>\n<table border=\"1\" class=\"dataframe\">\n  <thead>\n    <tr style=\"text-align: right;\">\n      <th></th>\n      <th>anchor_year_group</th>\n      <th>earliest_possible</th>\n      <th>carevue estimate</th>\n      <th>epe/ICU</th>\n      <th>cve/ICU</th>\n    </tr>\n  </thead>\n  <tbody>\n    <tr>\n      <th>subject_id</th>\n      <td>28372</td>\n      <td>22941</td>\n      <td>23294</td>\n      <td>45.1</td>\n      <td>45.7</td>\n    </tr>\n    <tr>\n      <th>hadm_id</th>\n      <td>43925</td>\n      <td>28877</td>\n      <td>32140</td>\n      <td>43.6</td>\n      <td>48.5</td>\n    </tr>\n  </tbody>\n</table>\n</div>"
     },
     "execution_count": 18,
     "metadata": {},
     "output_type": "execute_result"
    }
   ],
   "source": [
    "adm_overlap = pd.merge(iii_adm[adm_sub_ids], carevue_adm, on=adm_sub_ids)\n",
    "just_iii_adm = iii_adm[~iii_adm.hadm_id.isin(adm_overlap.hadm_id)]\n",
    "\n",
    "pre2012_icu_admissions = adm_icu[adm_icu['earliest_possible_dischyear'] <= 2012]\n",
    "\n",
    "earliest_possible_estimate = unique_patient_adms(pre2012_icu_admissions).rename('earliest_possible')\n",
    "carevue_estimate = unique_patient_adms(just_iii_adm).rename('carevue estimate')\n",
    "\n",
    "pd.concat((\n",
    "    pd.Series(\n",
    "        (\n",
    "            counts_with_percentage(icu_patients.anchor_year_group).loc[contaminated_ranges].sum()['total'],\n",
    "            counts_with_percentage(adm_icu.anchor_year_group).loc[contaminated_ranges].sum()['total']\n",
    "        ),\n",
    "        index=['subject_id', 'hadm_id'], dtype=int, name='anchor_year_group'),\n",
    "\n",
    "    earliest_possible_estimate,\n",
    "    carevue_estimate,\n",
    "\n",
    "    round(earliest_possible_estimate / unique_patient_adms(icu_stays) * 100, 1).rename('epe/ICU'),\n",
    "    round(carevue_estimate / unique_patient_adms(icu_stays) * 100, 1).rename('cve/ICU')\n",
    "\n",
    "), axis=1)"
   ],
   "metadata": {
    "collapsed": false,
    "ExecuteTime": {
     "end_time": "2023-09-08T13:23:56.798817200Z",
     "start_time": "2023-09-08T13:23:56.618877500Z"
    }
   }
  },
  {
   "cell_type": "code",
   "execution_count": 19,
   "outputs": [
    {
     "data": {
      "text/plain": "row_id         23692\nsubject_id     23692\ngender             2\ndob            19754\ndod             7946\ndod_hosp        4680\ndod_ssn         7449\nexpire_flag        2\ndtype: int64"
     },
     "execution_count": 19,
     "metadata": {},
     "output_type": "execute_result"
    }
   ],
   "source": [
    "carevue_patients.nunique()"
   ],
   "metadata": {
    "collapsed": false,
    "ExecuteTime": {
     "end_time": "2023-09-08T13:23:56.798817200Z",
     "start_time": "2023-09-08T13:23:56.684951300Z"
    }
   }
  },
  {
   "cell_type": "code",
   "execution_count": 20,
   "outputs": [
    {
     "data": {
      "text/plain": "subject_id    29986\nhadm_id       37362\nName: total, dtype: int64"
     },
     "execution_count": 20,
     "metadata": {},
     "output_type": "execute_result"
    }
   ],
   "source": [
    "post2012_icu_admissions = adm_icu[adm_icu['earliest_possible_dischyear'] > 2012]\n",
    "unique_patient_adms(post2012_icu_admissions)"
   ],
   "metadata": {
    "collapsed": false,
    "ExecuteTime": {
     "end_time": "2023-09-08T13:23:56.863898800Z",
     "start_time": "2023-09-08T13:23:56.697409Z"
    }
   }
  },
  {
   "cell_type": "markdown",
   "source": [
    "# ICD Spread"
   ],
   "metadata": {
    "collapsed": false
   }
  },
  {
   "cell_type": "code",
   "execution_count": 21,
   "outputs": [],
   "source": [
    "pre2012_diagnoses = pd.merge(pre2012_icu_admissions[adm_sub_ids], admissions, on=adm_sub_ids)\n",
    "post2012_diagnoses = pd.merge(post2012_icu_admissions[adm_sub_ids], admissions, on=adm_sub_ids)"
   ],
   "metadata": {
    "collapsed": false,
    "ExecuteTime": {
     "end_time": "2023-09-08T13:24:01.347237400Z",
     "start_time": "2023-09-08T13:24:00.879689Z"
    }
   }
  },
  {
   "cell_type": "code",
   "execution_count": 22,
   "outputs": [
    {
     "data": {
      "text/plain": "            total_iii  anti_carevue  carevue  overlap  total_carevue\nsubject_id      46520         23294    23692     -466          46986\nhadm_id         58976         32140    26836        0          58976",
      "text/html": "<div>\n<style scoped>\n    .dataframe tbody tr th:only-of-type {\n        vertical-align: middle;\n    }\n\n    .dataframe tbody tr th {\n        vertical-align: top;\n    }\n\n    .dataframe thead th {\n        text-align: right;\n    }\n</style>\n<table border=\"1\" class=\"dataframe\">\n  <thead>\n    <tr style=\"text-align: right;\">\n      <th></th>\n      <th>total_iii</th>\n      <th>anti_carevue</th>\n      <th>carevue</th>\n      <th>overlap</th>\n      <th>total_carevue</th>\n    </tr>\n  </thead>\n  <tbody>\n    <tr>\n      <th>subject_id</th>\n      <td>46520</td>\n      <td>23294</td>\n      <td>23692</td>\n      <td>-466</td>\n      <td>46986</td>\n    </tr>\n    <tr>\n      <th>hadm_id</th>\n      <td>58976</td>\n      <td>32140</td>\n      <td>26836</td>\n      <td>0</td>\n      <td>58976</td>\n    </tr>\n  </tbody>\n</table>\n</div>"
     },
     "execution_count": 22,
     "metadata": {},
     "output_type": "execute_result"
    }
   ],
   "source": [
    "iii_totals = pd.concat(\n",
    "    (\n",
    "        unique_patient_adms(iii_adm).rename('total_iii'),\n",
    "        unique_patient_adms(just_iii_adm).rename('anti_carevue'),\n",
    "        unique_patient_adms(carevue_adm).rename('carevue')\n",
    "    ), axis=1\n",
    ")\n",
    "iii_totals['overlap'] = iii_totals.total_iii - (iii_totals.carevue + iii_totals.anti_carevue)\n",
    "iii_totals['total_carevue'] = (iii_totals.carevue + iii_totals.anti_carevue)\n",
    "iii_totals"
   ],
   "metadata": {
    "collapsed": false,
    "ExecuteTime": {
     "end_time": "2023-09-08T13:24:02.413733800Z",
     "start_time": "2023-09-08T13:24:02.388686300Z"
    }
   }
  },
  {
   "cell_type": "code",
   "execution_count": 23,
   "outputs": [
    {
     "data": {
      "text/plain": "            total_iii  anti_carevue  carevue  overlap  total_carevue\nsubject_id      38888         23202    16040     -354          39242\nhadm_id         51113         32047    19066        0          51113",
      "text/html": "<div>\n<style scoped>\n    .dataframe tbody tr th:only-of-type {\n        vertical-align: middle;\n    }\n\n    .dataframe tbody tr th {\n        vertical-align: top;\n    }\n\n    .dataframe thead th {\n        text-align: right;\n    }\n</style>\n<table border=\"1\" class=\"dataframe\">\n  <thead>\n    <tr style=\"text-align: right;\">\n      <th></th>\n      <th>total_iii</th>\n      <th>anti_carevue</th>\n      <th>carevue</th>\n      <th>overlap</th>\n      <th>total_carevue</th>\n    </tr>\n  </thead>\n  <tbody>\n    <tr>\n      <th>subject_id</th>\n      <td>38888</td>\n      <td>23202</td>\n      <td>16040</td>\n      <td>-354</td>\n      <td>39242</td>\n    </tr>\n    <tr>\n      <th>hadm_id</th>\n      <td>51113</td>\n      <td>32047</td>\n      <td>19066</td>\n      <td>0</td>\n      <td>51113</td>\n    </tr>\n  </tbody>\n</table>\n</div>"
     },
     "execution_count": 23,
     "metadata": {},
     "output_type": "execute_result"
    }
   ],
   "source": [
    "iii_totals_wo_newborn = pd.concat(\n",
    "    (\n",
    "        unique_patient_adms(iii_adm[iii_adm.admission_type != 'NEWBORN']).rename('total_iii'),\n",
    "        unique_patient_adms(just_iii_adm[just_iii_adm.admission_type != 'NEWBORN']).rename('anti_carevue'),\n",
    "        unique_patient_adms(carevue_adm[carevue_adm.admission_type != 'NEWBORN']).rename('carevue')\n",
    "    ), axis=1\n",
    ")\n",
    "iii_totals_wo_newborn['overlap'] = iii_totals_wo_newborn.total_iii - (\n",
    "        iii_totals_wo_newborn.carevue + iii_totals_wo_newborn.anti_carevue)\n",
    "iii_totals_wo_newborn['total_carevue'] = (iii_totals_wo_newborn.carevue + iii_totals_wo_newborn.anti_carevue)\n",
    "iii_totals_wo_newborn"
   ],
   "metadata": {
    "collapsed": false,
    "ExecuteTime": {
     "end_time": "2023-09-08T13:24:03.235663500Z",
     "start_time": "2023-09-08T13:24:03.174624900Z"
    }
   }
  },
  {
   "cell_type": "code",
   "execution_count": 24,
   "outputs": [
    {
     "data": {
      "text/plain": "admission_type\nEMERGENCY    42071\nNEWBORN       7863\nELECTIVE      7706\nURGENT        1336\nName: count, dtype: int64"
     },
     "execution_count": 24,
     "metadata": {},
     "output_type": "execute_result"
    }
   ],
   "source": [
    "iii_adm.admission_type.value_counts()"
   ],
   "metadata": {
    "collapsed": false,
    "ExecuteTime": {
     "end_time": "2023-09-08T13:24:03.849016Z",
     "start_time": "2023-09-08T13:24:03.819771300Z"
    }
   }
  },
  {
   "cell_type": "code",
   "execution_count": 25,
   "outputs": [
    {
     "data": {
      "text/plain": "subject_id    49.1\nhadm_id       54.5\ndtype: float64"
     },
     "execution_count": 25,
     "metadata": {},
     "output_type": "execute_result"
    }
   ],
   "source": [
    "round((iii_totals.anti_carevue + iii_totals.overlap) / iii_totals.total_iii * 100, 1)"
   ],
   "metadata": {
    "collapsed": false,
    "ExecuteTime": {
     "end_time": "2023-09-08T13:24:04.522873Z",
     "start_time": "2023-09-08T13:24:04.490535300Z"
    }
   }
  },
  {
   "cell_type": "code",
   "execution_count": 31,
   "outputs": [],
   "source": [
    "admissions_9 = admissions[(admissions.dia_version != 10) & (admissions.pro_version != 10)]"
   ],
   "metadata": {
    "collapsed": false,
    "ExecuteTime": {
     "end_time": "2023-09-08T13:25:03.753993800Z",
     "start_time": "2023-09-08T13:25:03.672592900Z"
    }
   }
  },
  {
   "cell_type": "code",
   "execution_count": 35,
   "outputs": [
    {
     "data": {
      "text/plain": "subject_id    124703\nhadm_id       277164\nName: total, dtype: int64"
     },
     "execution_count": 35,
     "metadata": {},
     "output_type": "execute_result"
    }
   ],
   "source": [
    "match_columns = ['admitmoment', 'dischmoment', 'dischinterval',]                 \n",
    "# match_columns = moments + intervals                 \n",
    "\n",
    "matching_admissions = pd.merge(admissions_9, iii_adm, on=match_columns, suffixes=('', '_iii'))\n",
    "matching_admissions = matching_admissions[sorted(matching_admissions.columns)]\n",
    "unique_patient_adms(matching_admissions)"
   ],
   "metadata": {
    "collapsed": false,
    "ExecuteTime": {
     "end_time": "2023-09-08T13:29:04.995977900Z",
     "start_time": "2023-09-08T13:26:27.743998400Z"
    }
   }
  },
  {
   "cell_type": "code",
   "execution_count": 36,
   "outputs": [
    {
     "data": {
      "text/plain": "23918"
     },
     "execution_count": 36,
     "metadata": {},
     "output_type": "execute_result"
    }
   ],
   "source": [
    "matching_admissions_9ap = matching_admissions[((matching_admissions.pro_codes == matching_admissions.pro_codes_iii) & (matching_admissions.dia_codes == matching_admissions.dia_codes_iii))]\n",
    "len(matching_admissions_9ap)"
   ],
   "metadata": {
    "collapsed": false,
    "ExecuteTime": {
     "end_time": "2023-09-08T13:29:38.644944600Z",
     "start_time": "2023-09-08T13:29:30.188818400Z"
    }
   }
  },
  {
   "cell_type": "code",
   "execution_count": 27,
   "outputs": [
    {
     "data": {
      "text/plain": "          admission_location     admission_location_iii  \\\n0      WALK-IN/SELF REFERRAL  CLINIC REFERRAL/PREMATURE   \n1             EMERGENCY ROOM  CLINIC REFERRAL/PREMATURE   \n2         PHYSICIAN REFERRAL  PHYS REFERRAL/NORMAL DELI   \n3         PHYSICIAN REFERRAL  PHYS REFERRAL/NORMAL DELI   \n4         PHYSICIAN REFERRAL  PHYS REFERRAL/NORMAL DELI   \n...                      ...                        ...   \n50796         EMERGENCY ROOM       EMERGENCY ROOM ADMIT   \n50797         EMERGENCY ROOM  CLINIC REFERRAL/PREMATURE   \n50798     PHYSICIAN REFERRAL  PHYS REFERRAL/NORMAL DELI   \n50799         EMERGENCY ROOM       EMERGENCY ROOM ADMIT   \n50800         EMERGENCY ROOM       EMERGENCY ROOM ADMIT   \n\n                    admission_type anchor_year_group  \\\n0                         EW EMER.       2017 - 2019   \n1                         EW EMER.       2008 - 2010   \n2      SURGICAL SAME DAY ADMISSION       2011 - 2013   \n3                         ELECTIVE       2008 - 2010   \n4      SURGICAL SAME DAY ADMISSION       2011 - 2013   \n...                            ...               ...   \n50796                     EW EMER.       2008 - 2010   \n50797                     EW EMER.       2011 - 2013   \n50798                     ELECTIVE       2008 - 2010   \n50799                     EW EMER.       2008 - 2010   \n50800                     EW EMER.       2008 - 2010   \n\n                                              chartdate  deathinterval  \\\n0                                                   NaN            NaN   \n1                                          {2195-10-31}            NaN   \n2                                          {2190-07-19}            NaN   \n3                                          {2167-03-17}            NaN   \n4                                          {2151-03-29}            NaN   \n...                                                 ...            ...   \n50796                                      {2132-03-31}            NaN   \n50797                                      {2161-08-25}            NaN   \n50798                          {2148-11-22, 2148-11-19}            NaN   \n50799                          {2139-10-14, 2139-10-10}            NaN   \n50800  {2164-09-16, 2164-09-13, 2164-09-14, 2164-09-12}       604500.0   \n\n       deathinterval_iii                                          dia_codes  \\\n0                    NaN            {Z8546, G3183, R296, F0280, E785, R441}   \n1                    NaN  {11284, 27401, 78009, 5854, 29421, 2760, 27739...   \n2                    NaN  {73399, 73819, V153, 5559, V8741, 99832, 1123,...   \n3                    NaN  {5723, 5715, 5856, 28521, V4511, 56984, 25208,...   \n4                    NaN                                             {1890}   \n...                  ...                                                ...   \n50796                NaN              {2859, 5712, 5780, 5771, 25000, 2875}   \n50797                NaN  {920, 53081, 2910, 37230, 7813, 79319, 30391, ...   \n50798                NaN  {11284, 43491, 5990, 34881, 7843, 311, 34541, ...   \n50799                NaN  {486, 5849, 70720, V4589, 32742, 33182, 2760, ...   \n50800           604500.0  {E912, 43811, 5180, 51881, 3453, 5070, 2724, 4...   \n\n                                           dia_codes_iii  dia_version  ...  \\\n0      {11284, 27401, 78009, 5854, 29421, 2760, 27739...         10.0  ...   \n1      {11284, 27401, 78009, 5854, 29421, 2760, 27739...          9.0  ...   \n2      {44101, 60001, 5939, 27800, 25000, 4019, 7213,...          9.0  ...   \n3      {44101, 60001, 5939, 27800, 25000, 4019, 7213,...          9.0  ...   \n4      {44101, 60001, 5939, 27800, 25000, 4019, 7213,...          9.0  ...   \n...                                                  ...          ...  ...   \n50796              {2859, 5712, 5780, 5771, 25000, 2875}          9.0  ...   \n50797  {920, 53081, 2910, 37230, 7813, 79319, 30391, ...          9.0  ...   \n50798  {11284, 43491, 5990, 34881, 7843, 311, 34541, ...          9.0  ...   \n50799  {486, 5849, 70720, V4589, 32742, 33182, 2760, ...          9.0  ...   \n50800  {E912, 43811, 5180, 51881, 3453, 5070, 2724, 4...          9.0  ...   \n\n      language_iii marital_status  marital_status_iii  \\\n0             ENGL        MARRIED              SINGLE   \n1             ENGL         SINGLE              SINGLE   \n2             ENGL        MARRIED             MARRIED   \n3             ENGL         SINGLE             MARRIED   \n4             ENGL         SINGLE             MARRIED   \n...            ...            ...                 ...   \n50796         ENGL         SINGLE              SINGLE   \n50797         ENGL       DIVORCED            DIVORCED   \n50798         ENGL       DIVORCED              SINGLE   \n50799         GREE        MARRIED             MARRIED   \n50800         ENGL        WIDOWED             WIDOWED   \n\n                     pro_codes            pro_codes_iii  pro_version  \\\n0                           {}                   {4516}          NaN   \n1                       {4516}                   {4516}          9.0   \n2                 {0207, 8674}       {9604, 5794, 8872}          9.0   \n3                       {0689}       {9604, 5794, 8872}          9.0   \n4                  {5551, 403}       {9604, 5794, 8872}          9.0   \n...                        ...                      ...          ...   \n50796                   {4513}                   {4513}          9.0   \n50797             {9671, 9604}             {9671, 9604}          9.0   \n50798  {9671, 0153, 966, 9604}  {9671, 0153, 966, 9604}          9.0   \n50799              {966, 9390}              {966, 9390}          9.0   \n50800  {0331, 966, 9672, 9604}  {0331, 966, 9672, 9604}          9.0   \n\n                                               seq_num_x        seq_num_y  \\\n0      {1.0, 2.0, 3.0, 4.0, 5.0, 6.0, 7.0, 8.0, 9.0, ...              {1}   \n1      {1.0, 2.0, 3.0, 4.0, 5.0, 6.0, 7.0, 8.0, 9.0, ...              {1}   \n2               {1.0, 2.0, 3.0, 4.0, 5.0, 6.0, 7.0, 8.0}        {1, 2, 3}   \n3               {1.0, 2.0, 3.0, 4.0, 5.0, 6.0, 7.0, 8.0}        {1, 2, 3}   \n4               {1.0, 2.0, 3.0, 4.0, 5.0, 6.0, 7.0, 8.0}        {1, 2, 3}   \n...                                                  ...              ...   \n50796                     {1.0, 2.0, 3.0, 4.0, 5.0, 6.0}              {1}   \n50797  {1.0, 2.0, 3.0, 4.0, 5.0, 6.0, 7.0, 8.0, 9.0, ...           {1, 2}   \n50798  {1.0, 2.0, 3.0, 4.0, 5.0, 6.0, 7.0, 8.0, 9.0, ...     {1, 2, 3, 4}   \n50799  {1.0, 2.0, 3.0, 4.0, 5.0, 6.0, 7.0, 8.0, 9.0, ...           {1, 2}   \n50800  {1.0, 2.0, 3.0, 4.0, 5.0, 6.0, 7.0, 8.0, 9.0, ...  {1, 2, 3, 4, 5}   \n\n                                              seq_numdia       seq_numpro  \n0                                     {1, 2, 3, 4, 5, 6}              NaN  \n1      {1, 2, 3, 4, 5, 6, 7, 8, 9, 10, 11, 12, 13, 14...              {1}  \n2                               {1, 2, 3, 4, 5, 6, 7, 8}           {1, 2}  \n3                    {1, 2, 3, 4, 5, 6, 7, 8, 9, 10, 11}              {1}  \n4                                                    {1}           {1, 2}  \n...                                                  ...              ...  \n50796                                 {1, 2, 3, 4, 5, 6}              {1}  \n50797            {1, 2, 3, 4, 5, 6, 7, 8, 9, 10, 11, 12}           {1, 2}  \n50798        {1, 2, 3, 4, 5, 6, 7, 8, 9, 10, 11, 12, 13}     {1, 2, 3, 4}  \n50799  {1, 2, 3, 4, 5, 6, 7, 8, 9, 10, 11, 12, 13, 14...           {1, 2}  \n50800            {1, 2, 3, 4, 5, 6, 7, 8, 9, 10, 11, 12}  {1, 2, 3, 4, 5}  \n\n[50801 rows x 35 columns]",
      "text/html": "<div>\n<style scoped>\n    .dataframe tbody tr th:only-of-type {\n        vertical-align: middle;\n    }\n\n    .dataframe tbody tr th {\n        vertical-align: top;\n    }\n\n    .dataframe thead th {\n        text-align: right;\n    }\n</style>\n<table border=\"1\" class=\"dataframe\">\n  <thead>\n    <tr style=\"text-align: right;\">\n      <th></th>\n      <th>admission_location</th>\n      <th>admission_location_iii</th>\n      <th>admission_type</th>\n      <th>anchor_year_group</th>\n      <th>chartdate</th>\n      <th>deathinterval</th>\n      <th>deathinterval_iii</th>\n      <th>dia_codes</th>\n      <th>dia_codes_iii</th>\n      <th>dia_version</th>\n      <th>...</th>\n      <th>language_iii</th>\n      <th>marital_status</th>\n      <th>marital_status_iii</th>\n      <th>pro_codes</th>\n      <th>pro_codes_iii</th>\n      <th>pro_version</th>\n      <th>seq_num_x</th>\n      <th>seq_num_y</th>\n      <th>seq_numdia</th>\n      <th>seq_numpro</th>\n    </tr>\n  </thead>\n  <tbody>\n    <tr>\n      <th>0</th>\n      <td>WALK-IN/SELF REFERRAL</td>\n      <td>CLINIC REFERRAL/PREMATURE</td>\n      <td>EW EMER.</td>\n      <td>2017 - 2019</td>\n      <td>NaN</td>\n      <td>NaN</td>\n      <td>NaN</td>\n      <td>{Z8546, G3183, R296, F0280, E785, R441}</td>\n      <td>{11284, 27401, 78009, 5854, 29421, 2760, 27739...</td>\n      <td>10.0</td>\n      <td>...</td>\n      <td>ENGL</td>\n      <td>MARRIED</td>\n      <td>SINGLE</td>\n      <td>{}</td>\n      <td>{4516}</td>\n      <td>NaN</td>\n      <td>{1.0, 2.0, 3.0, 4.0, 5.0, 6.0, 7.0, 8.0, 9.0, ...</td>\n      <td>{1}</td>\n      <td>{1, 2, 3, 4, 5, 6}</td>\n      <td>NaN</td>\n    </tr>\n    <tr>\n      <th>1</th>\n      <td>EMERGENCY ROOM</td>\n      <td>CLINIC REFERRAL/PREMATURE</td>\n      <td>EW EMER.</td>\n      <td>2008 - 2010</td>\n      <td>{2195-10-31}</td>\n      <td>NaN</td>\n      <td>NaN</td>\n      <td>{11284, 27401, 78009, 5854, 29421, 2760, 27739...</td>\n      <td>{11284, 27401, 78009, 5854, 29421, 2760, 27739...</td>\n      <td>9.0</td>\n      <td>...</td>\n      <td>ENGL</td>\n      <td>SINGLE</td>\n      <td>SINGLE</td>\n      <td>{4516}</td>\n      <td>{4516}</td>\n      <td>9.0</td>\n      <td>{1.0, 2.0, 3.0, 4.0, 5.0, 6.0, 7.0, 8.0, 9.0, ...</td>\n      <td>{1}</td>\n      <td>{1, 2, 3, 4, 5, 6, 7, 8, 9, 10, 11, 12, 13, 14...</td>\n      <td>{1}</td>\n    </tr>\n    <tr>\n      <th>2</th>\n      <td>PHYSICIAN REFERRAL</td>\n      <td>PHYS REFERRAL/NORMAL DELI</td>\n      <td>SURGICAL SAME DAY ADMISSION</td>\n      <td>2011 - 2013</td>\n      <td>{2190-07-19}</td>\n      <td>NaN</td>\n      <td>NaN</td>\n      <td>{73399, 73819, V153, 5559, V8741, 99832, 1123,...</td>\n      <td>{44101, 60001, 5939, 27800, 25000, 4019, 7213,...</td>\n      <td>9.0</td>\n      <td>...</td>\n      <td>ENGL</td>\n      <td>MARRIED</td>\n      <td>MARRIED</td>\n      <td>{0207, 8674}</td>\n      <td>{9604, 5794, 8872}</td>\n      <td>9.0</td>\n      <td>{1.0, 2.0, 3.0, 4.0, 5.0, 6.0, 7.0, 8.0}</td>\n      <td>{1, 2, 3}</td>\n      <td>{1, 2, 3, 4, 5, 6, 7, 8}</td>\n      <td>{1, 2}</td>\n    </tr>\n    <tr>\n      <th>3</th>\n      <td>PHYSICIAN REFERRAL</td>\n      <td>PHYS REFERRAL/NORMAL DELI</td>\n      <td>ELECTIVE</td>\n      <td>2008 - 2010</td>\n      <td>{2167-03-17}</td>\n      <td>NaN</td>\n      <td>NaN</td>\n      <td>{5723, 5715, 5856, 28521, V4511, 56984, 25208,...</td>\n      <td>{44101, 60001, 5939, 27800, 25000, 4019, 7213,...</td>\n      <td>9.0</td>\n      <td>...</td>\n      <td>ENGL</td>\n      <td>SINGLE</td>\n      <td>MARRIED</td>\n      <td>{0689}</td>\n      <td>{9604, 5794, 8872}</td>\n      <td>9.0</td>\n      <td>{1.0, 2.0, 3.0, 4.0, 5.0, 6.0, 7.0, 8.0}</td>\n      <td>{1, 2, 3}</td>\n      <td>{1, 2, 3, 4, 5, 6, 7, 8, 9, 10, 11}</td>\n      <td>{1}</td>\n    </tr>\n    <tr>\n      <th>4</th>\n      <td>PHYSICIAN REFERRAL</td>\n      <td>PHYS REFERRAL/NORMAL DELI</td>\n      <td>SURGICAL SAME DAY ADMISSION</td>\n      <td>2011 - 2013</td>\n      <td>{2151-03-29}</td>\n      <td>NaN</td>\n      <td>NaN</td>\n      <td>{1890}</td>\n      <td>{44101, 60001, 5939, 27800, 25000, 4019, 7213,...</td>\n      <td>9.0</td>\n      <td>...</td>\n      <td>ENGL</td>\n      <td>SINGLE</td>\n      <td>MARRIED</td>\n      <td>{5551, 403}</td>\n      <td>{9604, 5794, 8872}</td>\n      <td>9.0</td>\n      <td>{1.0, 2.0, 3.0, 4.0, 5.0, 6.0, 7.0, 8.0}</td>\n      <td>{1, 2, 3}</td>\n      <td>{1}</td>\n      <td>{1, 2}</td>\n    </tr>\n    <tr>\n      <th>...</th>\n      <td>...</td>\n      <td>...</td>\n      <td>...</td>\n      <td>...</td>\n      <td>...</td>\n      <td>...</td>\n      <td>...</td>\n      <td>...</td>\n      <td>...</td>\n      <td>...</td>\n      <td>...</td>\n      <td>...</td>\n      <td>...</td>\n      <td>...</td>\n      <td>...</td>\n      <td>...</td>\n      <td>...</td>\n      <td>...</td>\n      <td>...</td>\n      <td>...</td>\n      <td>...</td>\n    </tr>\n    <tr>\n      <th>50796</th>\n      <td>EMERGENCY ROOM</td>\n      <td>EMERGENCY ROOM ADMIT</td>\n      <td>EW EMER.</td>\n      <td>2008 - 2010</td>\n      <td>{2132-03-31}</td>\n      <td>NaN</td>\n      <td>NaN</td>\n      <td>{2859, 5712, 5780, 5771, 25000, 2875}</td>\n      <td>{2859, 5712, 5780, 5771, 25000, 2875}</td>\n      <td>9.0</td>\n      <td>...</td>\n      <td>ENGL</td>\n      <td>SINGLE</td>\n      <td>SINGLE</td>\n      <td>{4513}</td>\n      <td>{4513}</td>\n      <td>9.0</td>\n      <td>{1.0, 2.0, 3.0, 4.0, 5.0, 6.0}</td>\n      <td>{1}</td>\n      <td>{1, 2, 3, 4, 5, 6}</td>\n      <td>{1}</td>\n    </tr>\n    <tr>\n      <th>50797</th>\n      <td>EMERGENCY ROOM</td>\n      <td>CLINIC REFERRAL/PREMATURE</td>\n      <td>EW EMER.</td>\n      <td>2011 - 2013</td>\n      <td>{2161-08-25}</td>\n      <td>NaN</td>\n      <td>NaN</td>\n      <td>{920, 53081, 2910, 37230, 7813, 79319, 30391, ...</td>\n      <td>{920, 53081, 2910, 37230, 7813, 79319, 30391, ...</td>\n      <td>9.0</td>\n      <td>...</td>\n      <td>ENGL</td>\n      <td>DIVORCED</td>\n      <td>DIVORCED</td>\n      <td>{9671, 9604}</td>\n      <td>{9671, 9604}</td>\n      <td>9.0</td>\n      <td>{1.0, 2.0, 3.0, 4.0, 5.0, 6.0, 7.0, 8.0, 9.0, ...</td>\n      <td>{1, 2}</td>\n      <td>{1, 2, 3, 4, 5, 6, 7, 8, 9, 10, 11, 12}</td>\n      <td>{1, 2}</td>\n    </tr>\n    <tr>\n      <th>50798</th>\n      <td>PHYSICIAN REFERRAL</td>\n      <td>PHYS REFERRAL/NORMAL DELI</td>\n      <td>ELECTIVE</td>\n      <td>2008 - 2010</td>\n      <td>{2148-11-22, 2148-11-19}</td>\n      <td>NaN</td>\n      <td>NaN</td>\n      <td>{11284, 43491, 5990, 34881, 7843, 311, 34541, ...</td>\n      <td>{11284, 43491, 5990, 34881, 7843, 311, 34541, ...</td>\n      <td>9.0</td>\n      <td>...</td>\n      <td>ENGL</td>\n      <td>DIVORCED</td>\n      <td>SINGLE</td>\n      <td>{9671, 0153, 966, 9604}</td>\n      <td>{9671, 0153, 966, 9604}</td>\n      <td>9.0</td>\n      <td>{1.0, 2.0, 3.0, 4.0, 5.0, 6.0, 7.0, 8.0, 9.0, ...</td>\n      <td>{1, 2, 3, 4}</td>\n      <td>{1, 2, 3, 4, 5, 6, 7, 8, 9, 10, 11, 12, 13}</td>\n      <td>{1, 2, 3, 4}</td>\n    </tr>\n    <tr>\n      <th>50799</th>\n      <td>EMERGENCY ROOM</td>\n      <td>EMERGENCY ROOM ADMIT</td>\n      <td>EW EMER.</td>\n      <td>2008 - 2010</td>\n      <td>{2139-10-14, 2139-10-10}</td>\n      <td>NaN</td>\n      <td>NaN</td>\n      <td>{486, 5849, 70720, V4589, 32742, 33182, 2760, ...</td>\n      <td>{486, 5849, 70720, V4589, 32742, 33182, 2760, ...</td>\n      <td>9.0</td>\n      <td>...</td>\n      <td>GREE</td>\n      <td>MARRIED</td>\n      <td>MARRIED</td>\n      <td>{966, 9390}</td>\n      <td>{966, 9390}</td>\n      <td>9.0</td>\n      <td>{1.0, 2.0, 3.0, 4.0, 5.0, 6.0, 7.0, 8.0, 9.0, ...</td>\n      <td>{1, 2}</td>\n      <td>{1, 2, 3, 4, 5, 6, 7, 8, 9, 10, 11, 12, 13, 14...</td>\n      <td>{1, 2}</td>\n    </tr>\n    <tr>\n      <th>50800</th>\n      <td>EMERGENCY ROOM</td>\n      <td>EMERGENCY ROOM ADMIT</td>\n      <td>EW EMER.</td>\n      <td>2008 - 2010</td>\n      <td>{2164-09-16, 2164-09-13, 2164-09-14, 2164-09-12}</td>\n      <td>604500.0</td>\n      <td>604500.0</td>\n      <td>{E912, 43811, 5180, 51881, 3453, 5070, 2724, 4...</td>\n      <td>{E912, 43811, 5180, 51881, 3453, 5070, 2724, 4...</td>\n      <td>9.0</td>\n      <td>...</td>\n      <td>ENGL</td>\n      <td>WIDOWED</td>\n      <td>WIDOWED</td>\n      <td>{0331, 966, 9672, 9604}</td>\n      <td>{0331, 966, 9672, 9604}</td>\n      <td>9.0</td>\n      <td>{1.0, 2.0, 3.0, 4.0, 5.0, 6.0, 7.0, 8.0, 9.0, ...</td>\n      <td>{1, 2, 3, 4, 5}</td>\n      <td>{1, 2, 3, 4, 5, 6, 7, 8, 9, 10, 11, 12}</td>\n      <td>{1, 2, 3, 4, 5}</td>\n    </tr>\n  </tbody>\n</table>\n<p>50801 rows × 35 columns</p>\n</div>"
     },
     "execution_count": 27,
     "metadata": {},
     "output_type": "execute_result"
    }
   ],
   "source": [
    "filter_columns = ['diagnosis', 'admit_provider_id', 'row_id', 'race', 'religion', 'admission_type_iii',\n",
    "                  'admission_type_iv', 'has_chartevents_data', 'icd_version', 'icd9_code', 'icd_code',\n",
    "                  'year_diff'] + match_columns\n",
    "cols = sorted([col for col in matching_admissions.columns if\n",
    "               col not in filter_columns and 'time' not in col and 'moment' not in col and 'subject_id' not in col])\n",
    "matching_admissions[cols]"
   ],
   "metadata": {
    "collapsed": false,
    "ExecuteTime": {
     "end_time": "2023-09-08T13:24:06.384027300Z",
     "start_time": "2023-09-08T13:24:06.275062900Z"
    }
   }
  },
  {
   "cell_type": "code",
   "execution_count": 41,
   "outputs": [
    {
     "data": {
      "text/plain": "earliest_possible_dischyear\n2008    11289\n2011     6350\n2009     3018\n2010     1866\n2012     1228\n2013      130\n2014       13\n2007        9\n2005        6\n2006        4\n2016        3\n2017        2\nName: count, dtype: int64"
     },
     "execution_count": 41,
     "metadata": {},
     "output_type": "execute_result"
    }
   ],
   "source": [
    "matching_admissions_9ap.earliest_possible_dischyear.value_counts()"
   ],
   "metadata": {
    "collapsed": false,
    "ExecuteTime": {
     "end_time": "2023-09-08T13:32:11.307009400Z",
     "start_time": "2023-09-08T13:32:11.299376900Z"
    }
   }
  },
  {
   "cell_type": "code",
   "execution_count": 33,
   "outputs": [
    {
     "data": {
      "text/plain": "subject_id    18502\nhadm_id       23413\nName: total, dtype: int64"
     },
     "execution_count": 33,
     "metadata": {},
     "output_type": "execute_result"
    }
   ],
   "source": [
    "unique_patient_adms(matching_admissions_9ap)"
   ],
   "metadata": {
    "collapsed": false,
    "ExecuteTime": {
     "end_time": "2023-09-08T12:55:05.057040600Z",
     "start_time": "2023-09-08T12:55:04.901993200Z"
    }
   }
  },
  {
   "cell_type": "code",
   "execution_count": 34,
   "outputs": [],
   "source": [
    "icu_matching = pd.merge(icu_stays[adm_sub_ids + ['los']], matching_admissions_9ap, on=adm_sub_ids, how='outer')"
   ],
   "metadata": {
    "collapsed": false,
    "ExecuteTime": {
     "end_time": "2023-09-08T12:55:05.318751Z",
     "start_time": "2023-09-08T12:55:04.908991500Z"
    }
   }
  },
  {
   "cell_type": "code",
   "execution_count": 35,
   "outputs": [
    {
     "data": {
      "text/plain": "subject_id    22941\nhadm_id       28877\nName: total, dtype: int64"
     },
     "execution_count": 35,
     "metadata": {},
     "output_type": "execute_result"
    }
   ],
   "source": [
    "unique_patient_adms(pre2012_icu_admissions)"
   ],
   "metadata": {
    "collapsed": false,
    "ExecuteTime": {
     "end_time": "2023-09-08T12:55:05.319774700Z",
     "start_time": "2023-09-08T12:55:05.020493Z"
    }
   }
  },
  {
   "cell_type": "code",
   "execution_count": 36,
   "outputs": [
    {
     "data": {
      "text/plain": "earliest_possible_dischyear\n2011    12349\n2008    10166\n2012     3603\n2009     3304\n2010     2296\nName: count, dtype: int64"
     },
     "execution_count": 36,
     "metadata": {},
     "output_type": "execute_result"
    }
   ],
   "source": [
    "pre2012_icu_admissions.earliest_possible_dischyear.value_counts()"
   ],
   "metadata": {
    "collapsed": false,
    "ExecuteTime": {
     "end_time": "2023-09-08T12:55:05.319774700Z",
     "start_time": "2023-09-08T12:55:05.028348100Z"
    }
   }
  },
  {
   "cell_type": "code",
   "execution_count": 37,
   "outputs": [],
   "source": [
    "pre2012_matching = pd.merge(pre2012_icu_admissions[adm_sub_ids + ['earliest_possible_dischyear']], matching_admissions_9ap, on=adm_sub_ids, how='outer', suffixes=['_pre', ''])"
   ],
   "metadata": {
    "collapsed": false,
    "ExecuteTime": {
     "end_time": "2023-09-08T12:55:05.441128600Z",
     "start_time": "2023-09-08T12:55:05.035456300Z"
    }
   }
  },
  {
   "cell_type": "code",
   "execution_count": 38,
   "outputs": [
    {
     "data": {
      "text/plain": "subject_id    24977\nhadm_id       31936\nName: total, dtype: int64"
     },
     "execution_count": 38,
     "metadata": {},
     "output_type": "execute_result"
    }
   ],
   "source": [
    "unique_patient_adms(pre2012_matching)"
   ],
   "metadata": {
    "collapsed": false,
    "ExecuteTime": {
     "end_time": "2023-09-08T12:55:05.460197500Z",
     "start_time": "2023-09-08T12:55:05.120389400Z"
    }
   }
  },
  {
   "cell_type": "code",
   "execution_count": 39,
   "outputs": [
    {
     "data": {
      "text/plain": "       admission_location     admission_location_iii  \\\n2202   PHYSICIAN REFERRAL  PHYS REFERRAL/NORMAL DELI   \n2357   PHYSICIAN REFERRAL  PHYS REFERRAL/NORMAL DELI   \n4291   PHYSICIAN REFERRAL  PHYS REFERRAL/NORMAL DELI   \n9375       EMERGENCY ROOM  CLINIC REFERRAL/PREMATURE   \n10111      EMERGENCY ROOM  CLINIC REFERRAL/PREMATURE   \n...                   ...                        ...   \n49313  PHYSICIAN REFERRAL  PHYS REFERRAL/NORMAL DELI   \n49316      EMERGENCY ROOM  CLINIC REFERRAL/PREMATURE   \n50230      EMERGENCY ROOM  CLINIC REFERRAL/PREMATURE   \n50343      EMERGENCY ROOM  CLINIC REFERRAL/PREMATURE   \n50436      EMERGENCY ROOM  CLINIC REFERRAL/PREMATURE   \n\n                    admission_type admission_type_iii admit_provider_id  \\\n2202                      ELECTIVE           ELECTIVE            P34LOL   \n2357   SURGICAL SAME DAY ADMISSION           ELECTIVE            P47SIK   \n4291                      ELECTIVE           ELECTIVE            P34LOL   \n9375                      EW EMER.          EMERGENCY            P34SFE   \n10111                     EW EMER.          EMERGENCY            P03G4D   \n...                            ...                ...               ...   \n49313  SURGICAL SAME DAY ADMISSION           ELECTIVE            P60ZCO   \n49316                     EW EMER.          EMERGENCY            P3529J   \n50230                     EW EMER.          EMERGENCY            P27588   \n50343                     EW EMER.          EMERGENCY            P072C5   \n50436                     EW EMER.          EMERGENCY            P38TI6   \n\n      admitmoment           admittime       admittime_iii anchor_year_group  \\\n2202     00:00:00 2112-04-09 00:00:00 2183-10-14 00:00:00       2011 - 2013   \n2357     07:15:00 2134-03-23 07:15:00 2119-07-24 07:15:00       2008 - 2010   \n4291     11:00:00 2112-03-19 11:00:00 2183-09-23 11:00:00       2011 - 2013   \n9375     18:41:00 2156-01-07 18:41:00 2150-07-03 18:41:00       2011 - 2013   \n10111    03:34:00 2172-01-29 03:34:00 2138-03-16 03:34:00       2008 - 2010   \n...           ...                 ...                 ...               ...   \n49313    10:00:00 2154-02-25 10:00:00 2179-06-21 10:00:00       2008 - 2010   \n49316    17:38:00 2154-01-08 17:38:00 2179-05-04 17:38:00       2008 - 2010   \n50230    04:07:00 2161-02-08 04:07:00 2173-11-02 04:07:00       2011 - 2013   \n50343    00:19:00 2185-01-03 00:19:00 2195-07-15 00:19:00       2008 - 2010   \n50436    18:51:00 2191-03-07 18:51:00 2155-11-21 18:51:00       2008 - 2010   \n\n                                  chartdate  ...  pro_version  \\\n2202                           {2112-04-09}  ...          9.0   \n2357                           {2134-03-23}  ...          9.0   \n4291                           {2112-03-19}  ...          9.0   \n9375               {2156-01-08, 2156-01-19}  ...          9.0   \n10111                          {2172-02-01}  ...          9.0   \n...                                     ...  ...          ...   \n49313                          {2154-02-25}  ...          9.0   \n49316                          {2154-01-08}  ...          9.0   \n50230                                   NaN  ...          NaN   \n50343  {2185-01-03, 2185-01-06, 2185-01-04}  ...          9.0   \n50436                                   NaN  ...          NaN   \n\n                         race           religion  \\\n2202                    OTHER           CATHOLIC   \n2357   BLACK/AFRICAN AMERICAN      NOT SPECIFIED   \n4291                    OTHER           CATHOLIC   \n9375   BLACK/AFRICAN AMERICAN  PROTESTANT QUAKER   \n10111                   WHITE      NOT SPECIFIED   \n...                       ...                ...   \n49313                   WHITE           CATHOLIC   \n49316                   WHITE           CATHOLIC   \n50230                   WHITE             JEWISH   \n50343  BLACK/AFRICAN AMERICAN  PROTESTANT QUAKER   \n50436                   WHITE             JEWISH   \n\n                                               seq_num_x        seq_num_y  \\\n2202                 {1.0, 2.0, 3.0, 4.0, 5.0, 6.0, 7.0}              {1}   \n2357   {1.0, 2.0, 3.0, 4.0, 5.0, 6.0, 7.0, 8.0, 9.0, ...        {1, 2, 3}   \n4291       {1.0, 2.0, 3.0, 4.0, 5.0, 6.0, 7.0, 8.0, 9.0}           {1, 2}   \n9375   {1.0, 2.0, 3.0, 4.0, 5.0, 6.0, 7.0, 8.0, 9.0, ...           {1, 2}   \n10111  {1.0, 2.0, 3.0, 4.0, 5.0, 6.0, 7.0, 8.0, 9.0, ...           {1, 2}   \n...                                                  ...              ...   \n49313  {1.0, 2.0, 3.0, 4.0, 5.0, 6.0, 7.0, 8.0, 9.0, ...        {1, 2, 3}   \n49316  {1.0, 2.0, 3.0, 4.0, 5.0, 6.0, 7.0, 8.0, 9.0, ...              {1}   \n50230  {1.0, 2.0, 3.0, 4.0, 5.0, 6.0, 7.0, 8.0, 9.0, ...              NaN   \n50343  {1.0, 2.0, 3.0, 4.0, 5.0, 6.0, 7.0, 8.0, 9.0, ...  {1, 2, 3, 4, 5}   \n50436  {1.0, 2.0, 3.0, 4.0, 5.0, 6.0, 7.0, 8.0, 9.0, ...              NaN   \n\n                                              seq_numdia       seq_numpro  \\\n2202                               {1, 2, 3, 4, 5, 6, 7}              {1}   \n2357     {1, 2, 3, 4, 5, 6, 7, 8, 9, 10, 11, 12, 13, 14}        {1, 2, 3}   \n4291                         {1, 2, 3, 4, 5, 6, 7, 8, 9}           {1, 2}   \n9375   {1, 2, 3, 4, 5, 6, 7, 8, 9, 10, 11, 12, 13, 14...           {1, 2}   \n10111  {1, 2, 3, 4, 5, 6, 7, 8, 9, 10, 11, 12, 13, 14...           {1, 2}   \n...                                                  ...              ...   \n49313  {1, 2, 3, 4, 5, 6, 7, 8, 9, 10, 11, 12, 13, 14...        {1, 2, 3}   \n49316  {1, 2, 3, 4, 5, 6, 7, 8, 9, 10, 11, 12, 13, 14...              {1}   \n50230  {1, 2, 3, 4, 5, 6, 7, 8, 9, 10, 11, 12, 13, 14...              NaN   \n50343  {1, 2, 3, 4, 5, 6, 7, 8, 9, 10, 11, 12, 13, 14...  {1, 2, 3, 4, 5}   \n50436  {1, 2, 3, 4, 5, 6, 7, 8, 9, 10, 11, 12, 13, 14...              NaN   \n\n      subject_id  subject_id_iii year_diff  \n2202    16361542           63637        99  \n2357    19209496           70807       121  \n4291    16361542           63637        99  \n9375    10310992           55523       143  \n10111   10388429            5193       159  \n...          ...             ...       ...  \n49313   19391968           76479       141  \n49316   19391968           76479       141  \n50230   19774387           44741       148  \n50343   19819996           20124       172  \n50436   19857858            7589       178  \n\n[128 rows x 63 columns]",
      "text/html": "<div>\n<style scoped>\n    .dataframe tbody tr th:only-of-type {\n        vertical-align: middle;\n    }\n\n    .dataframe tbody tr th {\n        vertical-align: top;\n    }\n\n    .dataframe thead th {\n        text-align: right;\n    }\n</style>\n<table border=\"1\" class=\"dataframe\">\n  <thead>\n    <tr style=\"text-align: right;\">\n      <th></th>\n      <th>admission_location</th>\n      <th>admission_location_iii</th>\n      <th>admission_type</th>\n      <th>admission_type_iii</th>\n      <th>admit_provider_id</th>\n      <th>admitmoment</th>\n      <th>admittime</th>\n      <th>admittime_iii</th>\n      <th>anchor_year_group</th>\n      <th>chartdate</th>\n      <th>...</th>\n      <th>pro_version</th>\n      <th>race</th>\n      <th>religion</th>\n      <th>seq_num_x</th>\n      <th>seq_num_y</th>\n      <th>seq_numdia</th>\n      <th>seq_numpro</th>\n      <th>subject_id</th>\n      <th>subject_id_iii</th>\n      <th>year_diff</th>\n    </tr>\n  </thead>\n  <tbody>\n    <tr>\n      <th>2202</th>\n      <td>PHYSICIAN REFERRAL</td>\n      <td>PHYS REFERRAL/NORMAL DELI</td>\n      <td>ELECTIVE</td>\n      <td>ELECTIVE</td>\n      <td>P34LOL</td>\n      <td>00:00:00</td>\n      <td>2112-04-09 00:00:00</td>\n      <td>2183-10-14 00:00:00</td>\n      <td>2011 - 2013</td>\n      <td>{2112-04-09}</td>\n      <td>...</td>\n      <td>9.0</td>\n      <td>OTHER</td>\n      <td>CATHOLIC</td>\n      <td>{1.0, 2.0, 3.0, 4.0, 5.0, 6.0, 7.0}</td>\n      <td>{1}</td>\n      <td>{1, 2, 3, 4, 5, 6, 7}</td>\n      <td>{1}</td>\n      <td>16361542</td>\n      <td>63637</td>\n      <td>99</td>\n    </tr>\n    <tr>\n      <th>2357</th>\n      <td>PHYSICIAN REFERRAL</td>\n      <td>PHYS REFERRAL/NORMAL DELI</td>\n      <td>SURGICAL SAME DAY ADMISSION</td>\n      <td>ELECTIVE</td>\n      <td>P47SIK</td>\n      <td>07:15:00</td>\n      <td>2134-03-23 07:15:00</td>\n      <td>2119-07-24 07:15:00</td>\n      <td>2008 - 2010</td>\n      <td>{2134-03-23}</td>\n      <td>...</td>\n      <td>9.0</td>\n      <td>BLACK/AFRICAN AMERICAN</td>\n      <td>NOT SPECIFIED</td>\n      <td>{1.0, 2.0, 3.0, 4.0, 5.0, 6.0, 7.0, 8.0, 9.0, ...</td>\n      <td>{1, 2, 3}</td>\n      <td>{1, 2, 3, 4, 5, 6, 7, 8, 9, 10, 11, 12, 13, 14}</td>\n      <td>{1, 2, 3}</td>\n      <td>19209496</td>\n      <td>70807</td>\n      <td>121</td>\n    </tr>\n    <tr>\n      <th>4291</th>\n      <td>PHYSICIAN REFERRAL</td>\n      <td>PHYS REFERRAL/NORMAL DELI</td>\n      <td>ELECTIVE</td>\n      <td>ELECTIVE</td>\n      <td>P34LOL</td>\n      <td>11:00:00</td>\n      <td>2112-03-19 11:00:00</td>\n      <td>2183-09-23 11:00:00</td>\n      <td>2011 - 2013</td>\n      <td>{2112-03-19}</td>\n      <td>...</td>\n      <td>9.0</td>\n      <td>OTHER</td>\n      <td>CATHOLIC</td>\n      <td>{1.0, 2.0, 3.0, 4.0, 5.0, 6.0, 7.0, 8.0, 9.0}</td>\n      <td>{1, 2}</td>\n      <td>{1, 2, 3, 4, 5, 6, 7, 8, 9}</td>\n      <td>{1, 2}</td>\n      <td>16361542</td>\n      <td>63637</td>\n      <td>99</td>\n    </tr>\n    <tr>\n      <th>9375</th>\n      <td>EMERGENCY ROOM</td>\n      <td>CLINIC REFERRAL/PREMATURE</td>\n      <td>EW EMER.</td>\n      <td>EMERGENCY</td>\n      <td>P34SFE</td>\n      <td>18:41:00</td>\n      <td>2156-01-07 18:41:00</td>\n      <td>2150-07-03 18:41:00</td>\n      <td>2011 - 2013</td>\n      <td>{2156-01-08, 2156-01-19}</td>\n      <td>...</td>\n      <td>9.0</td>\n      <td>BLACK/AFRICAN AMERICAN</td>\n      <td>PROTESTANT QUAKER</td>\n      <td>{1.0, 2.0, 3.0, 4.0, 5.0, 6.0, 7.0, 8.0, 9.0, ...</td>\n      <td>{1, 2}</td>\n      <td>{1, 2, 3, 4, 5, 6, 7, 8, 9, 10, 11, 12, 13, 14...</td>\n      <td>{1, 2}</td>\n      <td>10310992</td>\n      <td>55523</td>\n      <td>143</td>\n    </tr>\n    <tr>\n      <th>10111</th>\n      <td>EMERGENCY ROOM</td>\n      <td>CLINIC REFERRAL/PREMATURE</td>\n      <td>EW EMER.</td>\n      <td>EMERGENCY</td>\n      <td>P03G4D</td>\n      <td>03:34:00</td>\n      <td>2172-01-29 03:34:00</td>\n      <td>2138-03-16 03:34:00</td>\n      <td>2008 - 2010</td>\n      <td>{2172-02-01}</td>\n      <td>...</td>\n      <td>9.0</td>\n      <td>WHITE</td>\n      <td>NOT SPECIFIED</td>\n      <td>{1.0, 2.0, 3.0, 4.0, 5.0, 6.0, 7.0, 8.0, 9.0, ...</td>\n      <td>{1, 2}</td>\n      <td>{1, 2, 3, 4, 5, 6, 7, 8, 9, 10, 11, 12, 13, 14...</td>\n      <td>{1, 2}</td>\n      <td>10388429</td>\n      <td>5193</td>\n      <td>159</td>\n    </tr>\n    <tr>\n      <th>...</th>\n      <td>...</td>\n      <td>...</td>\n      <td>...</td>\n      <td>...</td>\n      <td>...</td>\n      <td>...</td>\n      <td>...</td>\n      <td>...</td>\n      <td>...</td>\n      <td>...</td>\n      <td>...</td>\n      <td>...</td>\n      <td>...</td>\n      <td>...</td>\n      <td>...</td>\n      <td>...</td>\n      <td>...</td>\n      <td>...</td>\n      <td>...</td>\n      <td>...</td>\n      <td>...</td>\n    </tr>\n    <tr>\n      <th>49313</th>\n      <td>PHYSICIAN REFERRAL</td>\n      <td>PHYS REFERRAL/NORMAL DELI</td>\n      <td>SURGICAL SAME DAY ADMISSION</td>\n      <td>ELECTIVE</td>\n      <td>P60ZCO</td>\n      <td>10:00:00</td>\n      <td>2154-02-25 10:00:00</td>\n      <td>2179-06-21 10:00:00</td>\n      <td>2008 - 2010</td>\n      <td>{2154-02-25}</td>\n      <td>...</td>\n      <td>9.0</td>\n      <td>WHITE</td>\n      <td>CATHOLIC</td>\n      <td>{1.0, 2.0, 3.0, 4.0, 5.0, 6.0, 7.0, 8.0, 9.0, ...</td>\n      <td>{1, 2, 3}</td>\n      <td>{1, 2, 3, 4, 5, 6, 7, 8, 9, 10, 11, 12, 13, 14...</td>\n      <td>{1, 2, 3}</td>\n      <td>19391968</td>\n      <td>76479</td>\n      <td>141</td>\n    </tr>\n    <tr>\n      <th>49316</th>\n      <td>EMERGENCY ROOM</td>\n      <td>CLINIC REFERRAL/PREMATURE</td>\n      <td>EW EMER.</td>\n      <td>EMERGENCY</td>\n      <td>P3529J</td>\n      <td>17:38:00</td>\n      <td>2154-01-08 17:38:00</td>\n      <td>2179-05-04 17:38:00</td>\n      <td>2008 - 2010</td>\n      <td>{2154-01-08}</td>\n      <td>...</td>\n      <td>9.0</td>\n      <td>WHITE</td>\n      <td>CATHOLIC</td>\n      <td>{1.0, 2.0, 3.0, 4.0, 5.0, 6.0, 7.0, 8.0, 9.0, ...</td>\n      <td>{1}</td>\n      <td>{1, 2, 3, 4, 5, 6, 7, 8, 9, 10, 11, 12, 13, 14...</td>\n      <td>{1}</td>\n      <td>19391968</td>\n      <td>76479</td>\n      <td>141</td>\n    </tr>\n    <tr>\n      <th>50230</th>\n      <td>EMERGENCY ROOM</td>\n      <td>CLINIC REFERRAL/PREMATURE</td>\n      <td>EW EMER.</td>\n      <td>EMERGENCY</td>\n      <td>P27588</td>\n      <td>04:07:00</td>\n      <td>2161-02-08 04:07:00</td>\n      <td>2173-11-02 04:07:00</td>\n      <td>2011 - 2013</td>\n      <td>NaN</td>\n      <td>...</td>\n      <td>NaN</td>\n      <td>WHITE</td>\n      <td>JEWISH</td>\n      <td>{1.0, 2.0, 3.0, 4.0, 5.0, 6.0, 7.0, 8.0, 9.0, ...</td>\n      <td>NaN</td>\n      <td>{1, 2, 3, 4, 5, 6, 7, 8, 9, 10, 11, 12, 13, 14...</td>\n      <td>NaN</td>\n      <td>19774387</td>\n      <td>44741</td>\n      <td>148</td>\n    </tr>\n    <tr>\n      <th>50343</th>\n      <td>EMERGENCY ROOM</td>\n      <td>CLINIC REFERRAL/PREMATURE</td>\n      <td>EW EMER.</td>\n      <td>EMERGENCY</td>\n      <td>P072C5</td>\n      <td>00:19:00</td>\n      <td>2185-01-03 00:19:00</td>\n      <td>2195-07-15 00:19:00</td>\n      <td>2008 - 2010</td>\n      <td>{2185-01-03, 2185-01-06, 2185-01-04}</td>\n      <td>...</td>\n      <td>9.0</td>\n      <td>BLACK/AFRICAN AMERICAN</td>\n      <td>PROTESTANT QUAKER</td>\n      <td>{1.0, 2.0, 3.0, 4.0, 5.0, 6.0, 7.0, 8.0, 9.0, ...</td>\n      <td>{1, 2, 3, 4, 5}</td>\n      <td>{1, 2, 3, 4, 5, 6, 7, 8, 9, 10, 11, 12, 13, 14...</td>\n      <td>{1, 2, 3, 4, 5}</td>\n      <td>19819996</td>\n      <td>20124</td>\n      <td>172</td>\n    </tr>\n    <tr>\n      <th>50436</th>\n      <td>EMERGENCY ROOM</td>\n      <td>CLINIC REFERRAL/PREMATURE</td>\n      <td>EW EMER.</td>\n      <td>EMERGENCY</td>\n      <td>P38TI6</td>\n      <td>18:51:00</td>\n      <td>2191-03-07 18:51:00</td>\n      <td>2155-11-21 18:51:00</td>\n      <td>2008 - 2010</td>\n      <td>NaN</td>\n      <td>...</td>\n      <td>NaN</td>\n      <td>WHITE</td>\n      <td>JEWISH</td>\n      <td>{1.0, 2.0, 3.0, 4.0, 5.0, 6.0, 7.0, 8.0, 9.0, ...</td>\n      <td>NaN</td>\n      <td>{1, 2, 3, 4, 5, 6, 7, 8, 9, 10, 11, 12, 13, 14...</td>\n      <td>NaN</td>\n      <td>19857858</td>\n      <td>7589</td>\n      <td>178</td>\n    </tr>\n  </tbody>\n</table>\n<p>128 rows × 63 columns</p>\n</div>"
     },
     "execution_count": 39,
     "metadata": {},
     "output_type": "execute_result"
    }
   ],
   "source": [
    "matching_admissions_9ap[matching_admissions_9ap.earliest_possible_dischyear == 2013]"
   ],
   "metadata": {
    "collapsed": false,
    "ExecuteTime": {
     "end_time": "2023-09-08T12:55:05.461707800Z",
     "start_time": "2023-09-08T12:55:05.131946100Z"
    }
   }
  },
  {
   "cell_type": "code",
   "execution_count": 40,
   "outputs": [
    {
     "data": {
      "text/plain": "earliest_possible_dischyear_pre\n2011.0    5544\n2012.0    2258\n2008.0     799\n2010.0     330\n2009.0     312\nName: count, dtype: int64"
     },
     "execution_count": 40,
     "metadata": {},
     "output_type": "execute_result"
    }
   ],
   "source": [
    "pre2012_matching[(pre2012_matching.earliest_possible_dischyear.isna())].earliest_possible_dischyear_pre.value_counts()"
   ],
   "metadata": {
    "collapsed": false,
    "ExecuteTime": {
     "end_time": "2023-09-08T12:55:05.494427600Z",
     "start_time": "2023-09-08T12:55:05.164896500Z"
    }
   }
  },
  {
   "cell_type": "code",
   "execution_count": 41,
   "outputs": [
    {
     "data": {
      "text/plain": "       subject_id   hadm_id  earliest_possible_dischyear_pre  \\\n0        10000980  26913865                           2011.0   \n1        10001217  24597018                           2011.0   \n2        10001217  27703517                           2011.0   \n3        10001725  25563031                           2011.0   \n5        10002155  20345487                           2011.0   \n...           ...       ...                              ...   \n31700    19998330  21135114                           2012.0   \n31708    19998770  28494258                           2011.0   \n31709    19998843  24842066                           2011.0   \n31713    19999297  21439025                           2008.0   \n31717    19999987  23865745                           2011.0   \n\n      admission_location admission_location_iii admission_type  \\\n0                    NaN                    NaN            NaN   \n1                    NaN                    NaN            NaN   \n2                    NaN                    NaN            NaN   \n3                    NaN                    NaN            NaN   \n5                    NaN                    NaN            NaN   \n...                  ...                    ...            ...   \n31700                NaN                    NaN            NaN   \n31708                NaN                    NaN            NaN   \n31709                NaN                    NaN            NaN   \n31713                NaN                    NaN            NaN   \n31717                NaN                    NaN            NaN   \n\n      admission_type_iii admit_provider_id admitmoment admittime  ...  \\\n0                    NaN               NaN         NaN       NaT  ...   \n1                    NaN               NaN         NaN       NaT  ...   \n2                    NaN               NaN         NaN       NaT  ...   \n3                    NaN               NaN         NaN       NaT  ...   \n5                    NaN               NaN         NaN       NaT  ...   \n...                  ...               ...         ...       ...  ...   \n31700                NaN               NaN         NaN       NaT  ...   \n31708                NaN               NaN         NaN       NaT  ...   \n31709                NaN               NaN         NaN       NaT  ...   \n31713                NaN               NaN         NaN       NaT  ...   \n31717                NaN               NaN         NaN       NaT  ...   \n\n      pro_codes_iii pro_version race  religion  seq_num_x seq_num_y  \\\n0               NaN         NaN  NaN       NaN        NaN       NaN   \n1               NaN         NaN  NaN       NaN        NaN       NaN   \n2               NaN         NaN  NaN       NaN        NaN       NaN   \n3               NaN         NaN  NaN       NaN        NaN       NaN   \n5               NaN         NaN  NaN       NaN        NaN       NaN   \n...             ...         ...  ...       ...        ...       ...   \n31700           NaN         NaN  NaN       NaN        NaN       NaN   \n31708           NaN         NaN  NaN       NaN        NaN       NaN   \n31709           NaN         NaN  NaN       NaN        NaN       NaN   \n31713           NaN         NaN  NaN       NaN        NaN       NaN   \n31717           NaN         NaN  NaN       NaN        NaN       NaN   \n\n      seq_numdia seq_numpro subject_id_iii year_diff  \n0            NaN        NaN            NaN       NaN  \n1            NaN        NaN            NaN       NaN  \n2            NaN        NaN            NaN       NaN  \n3            NaN        NaN            NaN       NaN  \n5            NaN        NaN            NaN       NaN  \n...          ...        ...            ...       ...  \n31700        NaN        NaN            NaN       NaN  \n31708        NaN        NaN            NaN       NaN  \n31709        NaN        NaN            NaN       NaN  \n31713        NaN        NaN            NaN       NaN  \n31717        NaN        NaN            NaN       NaN  \n\n[9243 rows x 64 columns]",
      "text/html": "<div>\n<style scoped>\n    .dataframe tbody tr th:only-of-type {\n        vertical-align: middle;\n    }\n\n    .dataframe tbody tr th {\n        vertical-align: top;\n    }\n\n    .dataframe thead th {\n        text-align: right;\n    }\n</style>\n<table border=\"1\" class=\"dataframe\">\n  <thead>\n    <tr style=\"text-align: right;\">\n      <th></th>\n      <th>subject_id</th>\n      <th>hadm_id</th>\n      <th>earliest_possible_dischyear_pre</th>\n      <th>admission_location</th>\n      <th>admission_location_iii</th>\n      <th>admission_type</th>\n      <th>admission_type_iii</th>\n      <th>admit_provider_id</th>\n      <th>admitmoment</th>\n      <th>admittime</th>\n      <th>...</th>\n      <th>pro_codes_iii</th>\n      <th>pro_version</th>\n      <th>race</th>\n      <th>religion</th>\n      <th>seq_num_x</th>\n      <th>seq_num_y</th>\n      <th>seq_numdia</th>\n      <th>seq_numpro</th>\n      <th>subject_id_iii</th>\n      <th>year_diff</th>\n    </tr>\n  </thead>\n  <tbody>\n    <tr>\n      <th>0</th>\n      <td>10000980</td>\n      <td>26913865</td>\n      <td>2011.0</td>\n      <td>NaN</td>\n      <td>NaN</td>\n      <td>NaN</td>\n      <td>NaN</td>\n      <td>NaN</td>\n      <td>NaN</td>\n      <td>NaT</td>\n      <td>...</td>\n      <td>NaN</td>\n      <td>NaN</td>\n      <td>NaN</td>\n      <td>NaN</td>\n      <td>NaN</td>\n      <td>NaN</td>\n      <td>NaN</td>\n      <td>NaN</td>\n      <td>NaN</td>\n      <td>NaN</td>\n    </tr>\n    <tr>\n      <th>1</th>\n      <td>10001217</td>\n      <td>24597018</td>\n      <td>2011.0</td>\n      <td>NaN</td>\n      <td>NaN</td>\n      <td>NaN</td>\n      <td>NaN</td>\n      <td>NaN</td>\n      <td>NaN</td>\n      <td>NaT</td>\n      <td>...</td>\n      <td>NaN</td>\n      <td>NaN</td>\n      <td>NaN</td>\n      <td>NaN</td>\n      <td>NaN</td>\n      <td>NaN</td>\n      <td>NaN</td>\n      <td>NaN</td>\n      <td>NaN</td>\n      <td>NaN</td>\n    </tr>\n    <tr>\n      <th>2</th>\n      <td>10001217</td>\n      <td>27703517</td>\n      <td>2011.0</td>\n      <td>NaN</td>\n      <td>NaN</td>\n      <td>NaN</td>\n      <td>NaN</td>\n      <td>NaN</td>\n      <td>NaN</td>\n      <td>NaT</td>\n      <td>...</td>\n      <td>NaN</td>\n      <td>NaN</td>\n      <td>NaN</td>\n      <td>NaN</td>\n      <td>NaN</td>\n      <td>NaN</td>\n      <td>NaN</td>\n      <td>NaN</td>\n      <td>NaN</td>\n      <td>NaN</td>\n    </tr>\n    <tr>\n      <th>3</th>\n      <td>10001725</td>\n      <td>25563031</td>\n      <td>2011.0</td>\n      <td>NaN</td>\n      <td>NaN</td>\n      <td>NaN</td>\n      <td>NaN</td>\n      <td>NaN</td>\n      <td>NaN</td>\n      <td>NaT</td>\n      <td>...</td>\n      <td>NaN</td>\n      <td>NaN</td>\n      <td>NaN</td>\n      <td>NaN</td>\n      <td>NaN</td>\n      <td>NaN</td>\n      <td>NaN</td>\n      <td>NaN</td>\n      <td>NaN</td>\n      <td>NaN</td>\n    </tr>\n    <tr>\n      <th>5</th>\n      <td>10002155</td>\n      <td>20345487</td>\n      <td>2011.0</td>\n      <td>NaN</td>\n      <td>NaN</td>\n      <td>NaN</td>\n      <td>NaN</td>\n      <td>NaN</td>\n      <td>NaN</td>\n      <td>NaT</td>\n      <td>...</td>\n      <td>NaN</td>\n      <td>NaN</td>\n      <td>NaN</td>\n      <td>NaN</td>\n      <td>NaN</td>\n      <td>NaN</td>\n      <td>NaN</td>\n      <td>NaN</td>\n      <td>NaN</td>\n      <td>NaN</td>\n    </tr>\n    <tr>\n      <th>...</th>\n      <td>...</td>\n      <td>...</td>\n      <td>...</td>\n      <td>...</td>\n      <td>...</td>\n      <td>...</td>\n      <td>...</td>\n      <td>...</td>\n      <td>...</td>\n      <td>...</td>\n      <td>...</td>\n      <td>...</td>\n      <td>...</td>\n      <td>...</td>\n      <td>...</td>\n      <td>...</td>\n      <td>...</td>\n      <td>...</td>\n      <td>...</td>\n      <td>...</td>\n      <td>...</td>\n    </tr>\n    <tr>\n      <th>31700</th>\n      <td>19998330</td>\n      <td>21135114</td>\n      <td>2012.0</td>\n      <td>NaN</td>\n      <td>NaN</td>\n      <td>NaN</td>\n      <td>NaN</td>\n      <td>NaN</td>\n      <td>NaN</td>\n      <td>NaT</td>\n      <td>...</td>\n      <td>NaN</td>\n      <td>NaN</td>\n      <td>NaN</td>\n      <td>NaN</td>\n      <td>NaN</td>\n      <td>NaN</td>\n      <td>NaN</td>\n      <td>NaN</td>\n      <td>NaN</td>\n      <td>NaN</td>\n    </tr>\n    <tr>\n      <th>31708</th>\n      <td>19998770</td>\n      <td>28494258</td>\n      <td>2011.0</td>\n      <td>NaN</td>\n      <td>NaN</td>\n      <td>NaN</td>\n      <td>NaN</td>\n      <td>NaN</td>\n      <td>NaN</td>\n      <td>NaT</td>\n      <td>...</td>\n      <td>NaN</td>\n      <td>NaN</td>\n      <td>NaN</td>\n      <td>NaN</td>\n      <td>NaN</td>\n      <td>NaN</td>\n      <td>NaN</td>\n      <td>NaN</td>\n      <td>NaN</td>\n      <td>NaN</td>\n    </tr>\n    <tr>\n      <th>31709</th>\n      <td>19998843</td>\n      <td>24842066</td>\n      <td>2011.0</td>\n      <td>NaN</td>\n      <td>NaN</td>\n      <td>NaN</td>\n      <td>NaN</td>\n      <td>NaN</td>\n      <td>NaN</td>\n      <td>NaT</td>\n      <td>...</td>\n      <td>NaN</td>\n      <td>NaN</td>\n      <td>NaN</td>\n      <td>NaN</td>\n      <td>NaN</td>\n      <td>NaN</td>\n      <td>NaN</td>\n      <td>NaN</td>\n      <td>NaN</td>\n      <td>NaN</td>\n    </tr>\n    <tr>\n      <th>31713</th>\n      <td>19999297</td>\n      <td>21439025</td>\n      <td>2008.0</td>\n      <td>NaN</td>\n      <td>NaN</td>\n      <td>NaN</td>\n      <td>NaN</td>\n      <td>NaN</td>\n      <td>NaN</td>\n      <td>NaT</td>\n      <td>...</td>\n      <td>NaN</td>\n      <td>NaN</td>\n      <td>NaN</td>\n      <td>NaN</td>\n      <td>NaN</td>\n      <td>NaN</td>\n      <td>NaN</td>\n      <td>NaN</td>\n      <td>NaN</td>\n      <td>NaN</td>\n    </tr>\n    <tr>\n      <th>31717</th>\n      <td>19999987</td>\n      <td>23865745</td>\n      <td>2011.0</td>\n      <td>NaN</td>\n      <td>NaN</td>\n      <td>NaN</td>\n      <td>NaN</td>\n      <td>NaN</td>\n      <td>NaN</td>\n      <td>NaT</td>\n      <td>...</td>\n      <td>NaN</td>\n      <td>NaN</td>\n      <td>NaN</td>\n      <td>NaN</td>\n      <td>NaN</td>\n      <td>NaN</td>\n      <td>NaN</td>\n      <td>NaN</td>\n      <td>NaN</td>\n      <td>NaN</td>\n    </tr>\n  </tbody>\n</table>\n<p>9243 rows × 64 columns</p>\n</div>"
     },
     "execution_count": 41,
     "metadata": {},
     "output_type": "execute_result"
    }
   ],
   "source": [
    "pre2012_matching[pre2012_matching.earliest_possible_dischyear.isna()]"
   ],
   "metadata": {
    "collapsed": false,
    "ExecuteTime": {
     "end_time": "2023-09-08T12:55:05.495355100Z",
     "start_time": "2023-09-08T12:55:05.179847900Z"
    }
   }
  },
  {
   "cell_type": "code",
   "execution_count": null,
   "outputs": [],
   "source": [
    "idx = 0\n",
    "print(notes.loc[20345487].text)"
   ],
   "metadata": {
    "collapsed": false
   }
  },
  {
   "cell_type": "code",
   "execution_count": null,
   "outputs": [],
   "source": [
    "print('\\n\\n'.join(iii_notes[iii_notes.hadm_id == 20345487\n",
    "].text))\n",
    "# iii_notes[iii_notes.text.str.contains('\\?CAD, peripheral vascular')]"
   ],
   "metadata": {
    "collapsed": false
   }
  },
  {
   "cell_type": "code",
   "execution_count": null,
   "outputs": [],
   "source": [
    "unique_patient_adms(pd.merge(icu_matching, pre2012_matching, on=adm_sub_ids)[(pd.merge(icu_matching, pre2012_matching, on=adm_sub_ids).los.isna() & pd.merge(icu_matching, pre2012_matching, on=adm_sub_ids).admittime_pre.isna())])"
   ],
   "metadata": {
    "collapsed": false,
    "ExecuteTime": {
     "start_time": "2023-09-08T12:55:05.516560600Z"
    }
   }
  },
  {
   "cell_type": "code",
   "execution_count": null,
   "outputs": [],
   "source": [
    "pre2012_matching.admittime_pre.isna().sum()"
   ],
   "metadata": {
    "collapsed": false,
    "ExecuteTime": {
     "start_time": "2023-09-08T12:55:05.518067600Z"
    }
   }
  },
  {
   "cell_type": "code",
   "execution_count": null,
   "outputs": [],
   "source": [
    "idx = 10\n",
    "print(matching_admissions_9ap.loc[idx].dia_codes)\n",
    "print(matching_admissions_9ap.loc[idx].dia_codes_iii)\n",
    "print(matching_admissions_9ap.loc[idx].dia_codes == matching_admissions_9.loc[idx].dia_codes_iii)"
   ],
   "metadata": {
    "collapsed": false,
    "ExecuteTime": {
     "start_time": "2023-09-08T12:55:05.519584100Z"
    }
   }
  },
  {
   "cell_type": "code",
   "execution_count": null,
   "outputs": [],
   "source": [
    "print('\\n\\n'.join(iii_notes[iii_notes.hadm_id == matching_admissions_9ap.loc[idx].hadm_id_iii].text))"
   ],
   "metadata": {
    "collapsed": false,
    "ExecuteTime": {
     "start_time": "2023-09-08T12:55:05.520584300Z"
    }
   }
  },
  {
   "cell_type": "code",
   "execution_count": null,
   "outputs": [],
   "source": [
    "print(notes.loc[matching_admissions_9ap.loc[idx].hadm_id].text)"
   ],
   "metadata": {
    "collapsed": false,
    "ExecuteTime": {
     "start_time": "2023-09-08T12:55:05.522586400Z"
    }
   }
  },
  {
   "cell_type": "code",
   "execution_count": null,
   "outputs": [],
   "source": [
    "counts_with_percentage(matching_admissions.earliest_possible_dischyear)"
   ],
   "metadata": {
    "collapsed": false,
    "ExecuteTime": {
     "start_time": "2023-09-08T12:55:05.523589200Z"
    }
   }
  },
  {
   "cell_type": "code",
   "execution_count": null,
   "outputs": [],
   "source": [
    "unique_patient_adms(matching_admissions, ['subject_id_iii', 'hadm_id_iii'])"
   ],
   "metadata": {
    "collapsed": false,
    "ExecuteTime": {
     "start_time": "2023-09-08T12:55:05.525590300Z"
    }
   }
  },
  {
   "cell_type": "code",
   "execution_count": null,
   "outputs": [],
   "source": [
    "unique_patient_adms(matching_admissions, ['subject_id', 'hadm_id'])"
   ],
   "metadata": {
    "collapsed": false,
    "ExecuteTime": {
     "start_time": "2023-09-08T12:55:05.526598Z"
    }
   }
  },
  {
   "cell_type": "code",
   "execution_count": null,
   "outputs": [],
   "source": [
    "matching_and_pre2012 = pd.merge(matching_admissions, pre2012_icu_admissions, how='outer', on=adm_sub_ids)\n",
    "unique_patient_adms(matching_and_pre2012, ['subject_id', 'hadm_id'])"
   ],
   "metadata": {
    "collapsed": false,
    "ExecuteTime": {
     "start_time": "2023-09-08T12:55:05.528634500Z"
    }
   }
  },
  {
   "cell_type": "markdown",
   "source": [
    "# Notes"
   ],
   "metadata": {
    "collapsed": false
   }
  },
  {
   "cell_type": "code",
   "execution_count": 39,
   "outputs": [],
   "source": [
    "mimic4_notes_dir = data_dir / 'mimic-iv-note-deidentified-free-text-clinical-notes-2.2/note/'\n",
    "\n",
    "notes = pd.read_csv(mimic4_notes_dir / 'discharge.csv.gz', index_col='hadm_id')"
   ],
   "metadata": {
    "collapsed": false,
    "ExecuteTime": {
     "end_time": "2023-09-08T13:31:42.986796800Z",
     "start_time": "2023-09-08T13:31:07.643072600Z"
    }
   }
  },
  {
   "cell_type": "code",
   "execution_count": 40,
   "outputs": [
    {
     "name": "stderr",
     "output_type": "stream",
     "text": [
      "C:\\Users\\tsteffek\\AppData\\Local\\Temp\\ipykernel_49448\\1037434142.py:1: DtypeWarning: Columns (4,5) have mixed types. Specify dtype option on import or set low_memory=False.\n",
      "  iii_notes = pd.read_csv(mimiciii_dir / 'NOTEEVENTS.csv')\n"
     ]
    }
   ],
   "source": [
    "iii_notes = pd.read_csv(mimiciii_dir / 'NOTEEVENTS.csv')\n",
    "iii_notes.columns = iii_notes.columns.str.lower()\n",
    "iii_disch_summaries = iii_notes[iii_notes.category == 'Discharge summary']"
   ],
   "metadata": {
    "collapsed": false,
    "ExecuteTime": {
     "end_time": "2023-09-08T13:32:11.306021300Z",
     "start_time": "2023-09-08T13:31:42.989298900Z"
    }
   }
  },
  {
   "cell_type": "code",
   "execution_count": null,
   "outputs": [],
   "source": [
    "print(notes.loc[28494258].text)\n",
    "print('\\n\\n'.join(iii_notes[iii_notes.hadm_id == 150767.0].text))"
   ],
   "metadata": {
    "collapsed": false,
    "ExecuteTime": {
     "start_time": "2023-09-08T12:55:05.533644600Z"
    }
   }
  },
  {
   "cell_type": "code",
   "execution_count": null,
   "outputs": [],
   "source": [
    "iii_notes[iii_notes.text.str.contains('Temporal Lobe Epilepsy')]"
   ],
   "metadata": {
    "collapsed": false,
    "ExecuteTime": {
     "start_time": "2023-09-08T12:55:05.534642Z"
    }
   }
  },
  {
   "cell_type": "code",
   "execution_count": null,
   "outputs": [],
   "source": [
    "print('\\n\\n'.join(iii_notes[iii_notes.hadm_id == 150767.0].text))"
   ],
   "metadata": {
    "collapsed": false,
    "ExecuteTime": {
     "start_time": "2023-09-08T12:55:05.536642900Z"
    }
   }
  },
  {
   "cell_type": "code",
   "execution_count": null,
   "outputs": [],
   "source": [
    "icu_matching_diagnoses = pd.merge(matching_admissions, icu_stays[adm_sub_ids + ['los']], how='left',\n",
    "                                  right_on=adm_sub_ids, left_on=[i + '_iv' for i in adm_sub_ids])\n",
    "icu_matching_diagnoses[icu_matching_diagnoses.los.isna()][['hadm_id_iii', 'hadm_id_iv']]"
   ],
   "metadata": {
    "collapsed": false,
    "ExecuteTime": {
     "start_time": "2023-09-08T12:55:05.538201100Z"
    }
   }
  },
  {
   "cell_type": "code",
   "execution_count": null,
   "outputs": [],
   "source": [
    "icu_matching_diagnoses"
   ],
   "metadata": {
    "collapsed": false,
    "ExecuteTime": {
     "start_time": "2023-09-08T12:55:05.539959400Z"
    }
   }
  },
  {
   "cell_type": "code",
   "execution_count": null,
   "outputs": [],
   "source": [
    "counts_with_percentage(matching_admissions.anchor_year_group)"
   ],
   "metadata": {
    "collapsed": false,
    "ExecuteTime": {
     "start_time": "2023-09-08T12:55:05.541957800Z"
    }
   }
  },
  {
   "cell_type": "code",
   "execution_count": null,
   "outputs": [],
   "source": [
    "matching_admissions.sort_values('str_icd_codes', key=lambda x: x.str.len())[\n",
    "    ['str_icd_codes', 'hadm_id_iii', 'hadm_id_iv']]"
   ],
   "metadata": {
    "collapsed": false,
    "ExecuteTime": {
     "start_time": "2023-09-08T12:55:05.542945500Z"
    }
   }
  },
  {
   "cell_type": "code",
   "execution_count": null,
   "outputs": [],
   "source": [
    "print('\\n\\n'.join(iii_notes[iii_notes.hadm_id == 188170].text))"
   ],
   "metadata": {
    "collapsed": false,
    "ExecuteTime": {
     "start_time": "2023-09-08T12:55:05.544959800Z"
    }
   }
  },
  {
   "cell_type": "code",
   "execution_count": null,
   "outputs": [],
   "source": [
    "print(notes.loc[25232863]['text'])"
   ],
   "metadata": {
    "collapsed": false,
    "ExecuteTime": {
     "start_time": "2023-09-08T12:55:05.545945500Z"
    }
   }
  },
  {
   "cell_type": "code",
   "execution_count": null,
   "outputs": [],
   "source": [
    "iii_notes_with_diagnoses = pd.merge(iii_notes, iii_diagnoses, on=adm_sub_ids)"
   ],
   "metadata": {
    "collapsed": false,
    "ExecuteTime": {
     "start_time": "2023-09-08T12:55:05.546945600Z"
    }
   }
  },
  {
   "cell_type": "code",
   "execution_count": null,
   "outputs": [],
   "source": [
    "epy_wo_matching = pre2012_icu_admissions[~pre2012_icu_admissions.hadm_id.isin(matching_admissions_9ap.hadm_id)]\n",
    "epy_wo_matching"
   ],
   "metadata": {
    "collapsed": false,
    "ExecuteTime": {
     "start_time": "2023-09-08T12:55:05.550000900Z"
    }
   }
  },
  {
   "cell_type": "code",
   "execution_count": null,
   "outputs": [],
   "source": [
    "idx += 1\n",
    "iv_id = epy_wo_matching.iloc[idx].hadm_id\n",
    "idx"
   ],
   "metadata": {
    "collapsed": false,
    "ExecuteTime": {
     "start_time": "2023-09-08T12:55:05.551015400Z"
    }
   }
  },
  {
   "cell_type": "code",
   "execution_count": null,
   "outputs": [],
   "source": [
    "print(notes.loc[iv_id].text)"
   ],
   "metadata": {
    "collapsed": false,
    "ExecuteTime": {
     "start_time": "2023-09-08T12:55:05.552012200Z"
    }
   }
  },
  {
   "cell_type": "code",
   "execution_count": null,
   "outputs": [],
   "source": [
    "text = 'cell lung cancer, CAD and CKD who presents with'\n",
    "detected_summaries = iii_disch_summaries[iii_disch_summaries.text.str.contains(text.replace('(', '\\(').replace(')', '\\)').replace(' ', '\\s*'))]\n",
    "iii_idx = 0; iii_id = detected_summaries.hadm_id.iloc[iii_idx]\n",
    "print(detected_summaries.hadm_id, '\\n\\n'); print(detected_summaries.iloc[iii_idx].text)"
   ],
   "metadata": {
    "collapsed": false,
    "ExecuteTime": {
     "start_time": "2023-09-08T12:55:05.553016900Z"
    }
   }
  },
  {
   "cell_type": "code",
   "execution_count": null,
   "outputs": [],
   "source": [
    "iv = admissions[admissions.hadm_id == iv_id].iloc[0]\n",
    "iii = iii_adm[iii_adm.hadm_id == iii_id].iloc[0]\n",
    "print('dia_codes', iii.dia_codes == iv.dia_codes,'\\n', iii.dia_codes, '\\n',iv.dia_codes)\n",
    "print('pro_codes', iii.pro_codes == iv.pro_codes, '\\n',iii.pro_codes, '\\n',iv.pro_codes)\n",
    "for moment in moments:\n",
    "    print(moment, iii[moment] == iv[moment], iii[moment], iv[moment])\n",
    "for interval in intervals:\n",
    "    print(interval, iii[interval] == iv[interval], iii[interval], iv[interval])"
   ],
   "metadata": {
    "collapsed": false,
    "ExecuteTime": {
     "start_time": "2023-09-08T12:55:05.554024200Z"
    }
   }
  },
  {
   "cell_type": "code",
   "execution_count": null,
   "outputs": [],
   "source": [
    "print(iii_adm[iii_adm.hadm_id == 196292].text.iloc[0])"
   ],
   "metadata": {
    "collapsed": false,
    "ExecuteTime": {
     "start_time": "2023-09-08T12:55:05.555030100Z"
    }
   }
  },
  {
   "cell_type": "code",
   "execution_count": null,
   "outputs": [],
   "source": [
    "iii_adm_but_not_matching = just_iii_adm[~just_iii_adm.hadm_id.isin(matching_admissions_9ap.hadm_id_iii)]\n",
    "iii_adm_but_not_matching.iloc[80:91]"
   ],
   "metadata": {
    "collapsed": false,
    "ExecuteTime": {
     "start_time": "2023-09-08T12:55:05.557012700Z"
    }
   }
  },
  {
   "cell_type": "code",
   "execution_count": null,
   "outputs": [],
   "source": [
    "iii_id = 111426\n",
    "print(iii_disch_summaries[iii_disch_summaries.hadm_id == iii_id].text.iloc[0])"
   ],
   "metadata": {
    "collapsed": false,
    "ExecuteTime": {
     "start_time": "2023-09-08T12:55:05.558517600Z"
    }
   }
  },
  {
   "cell_type": "code",
   "execution_count": null,
   "outputs": [],
   "source": [
    "text = 'She was was started on antifungals receiving her first'\n",
    "notes[notes.text.str.contains(text.replace('(', '\\(').replace(')', '\\)').replace(' ', '\\s*'))]"
   ],
   "metadata": {
    "collapsed": false,
    "ExecuteTime": {
     "start_time": "2023-09-08T12:55:05.560038200Z"
    }
   }
  },
  {
   "cell_type": "code",
   "execution_count": null,
   "outputs": [],
   "source": [
    "iv_id = 28447722\n",
    "print(notes.loc[iv_id].text)"
   ],
   "metadata": {
    "collapsed": false,
    "ExecuteTime": {
     "start_time": "2023-09-08T12:55:05.561047Z"
    }
   }
  },
  {
   "cell_type": "code",
   "execution_count": null,
   "outputs": [],
   "source": [
    "iv = admissions[admissions.hadm_id == iv_id].iloc[0]\n",
    "iii = iii_adm[iii_adm.hadm_id == iii_id].iloc[0]\n",
    "print('dia_codes', iii.dia_codes == iv.dia_codes,'\\n', iii.dia_codes, '\\n',iv.dia_codes)\n",
    "print('pro_codes', iii.pro_codes == iv.pro_codes, '\\n',iii.pro_codes, '\\n',iv.pro_codes)\n",
    "for interval in intervals:\n",
    "    print(interval, iii[interval] == iv[interval], iii[interval], iv[interval])"
   ],
   "metadata": {
    "collapsed": false,
    "ExecuteTime": {
     "start_time": "2023-09-08T12:55:05.562045200Z"
    }
   }
  },
  {
   "cell_type": "code",
   "execution_count": null,
   "outputs": [],
   "source": [
    "iv"
   ],
   "metadata": {
    "collapsed": false,
    "ExecuteTime": {
     "start_time": "2023-09-08T12:55:05.563042600Z"
    }
   }
  },
  {
   "cell_type": "code",
   "execution_count": null,
   "outputs": [],
   "source": [
    "iii"
   ],
   "metadata": {
    "collapsed": false,
    "ExecuteTime": {
     "start_time": "2023-09-08T12:55:05.564044200Z"
    }
   }
  },
  {
   "cell_type": "code",
   "execution_count": null,
   "outputs": [],
   "source": [
    "pd.merge(adm_icu[adm_icu.hadm_id == iv_id], iii_adm[iii_adm.hadm_id == iii_id], on=intervals)"
   ],
   "metadata": {
    "collapsed": false,
    "ExecuteTime": {
     "start_time": "2023-09-08T12:55:05.565053400Z"
    }
   }
  }
 ],
 "metadata": {
  "kernelspec": {
   "display_name": "Python 3",
   "language": "python",
   "name": "python3"
  },
  "language_info": {
   "codemirror_mode": {
    "name": "ipython",
    "version": 2
   },
   "file_extension": ".py",
   "mimetype": "text/x-python",
   "name": "python",
   "nbconvert_exporter": "python",
   "pygments_lexer": "ipython2",
   "version": "2.7.6"
  }
 },
 "nbformat": 4,
 "nbformat_minor": 0
}
