{
 "cells": [
  {
   "cell_type": "code",
   "execution_count": 2,
   "outputs": [],
   "source": [
    "import pandas as pd"
   ],
   "metadata": {
    "collapsed": false,
    "ExecuteTime": {
     "end_time": "2023-07-30T14:24:55.692584700Z",
     "start_time": "2023-07-30T14:24:54.175083800Z"
    }
   },
   "id": "a1146d21e5fc696f"
  },
  {
   "cell_type": "code",
   "execution_count": 3,
   "id": "initial_id",
   "metadata": {
    "collapsed": true,
    "ExecuteTime": {
     "end_time": "2023-07-30T14:25:06.943934800Z",
     "start_time": "2023-07-30T14:24:55.694090500Z"
    }
   },
   "outputs": [
    {
     "data": {
      "text/plain": "count    190030.000000\nmean        437.121155\nstd         219.646469\nmin          18.000000\n25%         273.000000\n50%         419.000000\n75%         567.000000\nmax        4665.000000\nName: text, dtype: float64"
     },
     "execution_count": 3,
     "metadata": {},
     "output_type": "execute_result"
    }
   ],
   "source": [
    "cm_con = pd.read_csv('../output/cm_contaminated.csv')\n",
    "cm_con.text.str.split().map(len).describe()"
   ]
  },
  {
   "cell_type": "code",
   "execution_count": 4,
   "outputs": [
    {
     "data": {
      "text/plain": "count    119144.000000\nmean        403.267332\nstd         216.885273\nmin          18.000000\n25%         234.000000\n50%         377.500000\n75%         535.000000\nmax        4665.000000\nName: text, dtype: float64"
     },
     "execution_count": 4,
     "metadata": {},
     "output_type": "execute_result"
    }
   ],
   "source": [
    "pcs_con = pd.read_csv('../output/pcs_contaminated.csv')\n",
    "pcs_con.text.str.split().map(len).describe()"
   ],
   "metadata": {
    "collapsed": false,
    "ExecuteTime": {
     "end_time": "2023-07-30T14:25:13.567957Z",
     "start_time": "2023-07-30T14:25:06.945939100Z"
    }
   },
   "id": "35dabe5e79a5c139"
  },
  {
   "cell_type": "code",
   "execution_count": 5,
   "outputs": [
    {
     "data": {
      "text/plain": "count    198112.000000\nmean        438.244589\nstd         219.081719\nmin          18.000000\n25%         275.000000\n50%         420.000000\n75%         567.000000\nmax        4665.000000\nName: text, dtype: float64"
     },
     "execution_count": 5,
     "metadata": {},
     "output_type": "execute_result"
    }
   ],
   "source": [
    "merged_con = pd.merge(pcs_con, cm_con, on='text', how='outer')\n",
    "merged_con.text.str.split().map(len).describe()"
   ],
   "metadata": {
    "collapsed": false,
    "ExecuteTime": {
     "end_time": "2023-07-30T14:25:20.935663100Z",
     "start_time": "2023-07-30T14:25:13.566952200Z"
    }
   },
   "id": "96d7c54a76a2466f"
  },
  {
   "cell_type": "code",
   "execution_count": 6,
   "outputs": [
    {
     "data": {
      "text/plain": "count    190030.000000\nmean        437.121155\nstd         219.646469\nmin          18.000000\n25%         273.000000\n50%         419.000000\n75%         567.000000\nmax        4665.000000\nName: text, dtype: float64"
     },
     "execution_count": 6,
     "metadata": {},
     "output_type": "execute_result"
    }
   ],
   "source": [
    "cm_non = pd.read_csv('../output/cm_noncontaminated.csv')\n",
    "cm_con.text.str.split().map(len).describe()"
   ],
   "metadata": {
    "collapsed": false,
    "ExecuteTime": {
     "end_time": "2023-07-30T14:25:29.727215900Z",
     "start_time": "2023-07-30T14:25:20.935663100Z"
    }
   },
   "id": "c712903ed78eef55"
  },
  {
   "cell_type": "code",
   "execution_count": 7,
   "outputs": [
    {
     "data": {
      "text/plain": "count    119144.000000\nmean        403.267332\nstd         216.885273\nmin          18.000000\n25%         234.000000\n50%         377.500000\n75%         535.000000\nmax        4665.000000\nName: text, dtype: float64"
     },
     "execution_count": 7,
     "metadata": {},
     "output_type": "execute_result"
    }
   ],
   "source": [
    "pcs_non = pd.read_csv('../output/pcs_noncontaminated.csv')\n",
    "pcs_con.text.str.split().map(len).describe()"
   ],
   "metadata": {
    "collapsed": false,
    "ExecuteTime": {
     "end_time": "2023-07-30T14:25:34.965825700Z",
     "start_time": "2023-07-30T14:25:29.726218800Z"
    }
   },
   "id": "b9ceacba106360de"
  },
  {
   "cell_type": "code",
   "execution_count": 8,
   "outputs": [
    {
     "data": {
      "text/plain": "count    198112.000000\nmean        438.244589\nstd         219.081719\nmin          18.000000\n25%         275.000000\n50%         420.000000\n75%         567.000000\nmax        4665.000000\nName: text, dtype: float64"
     },
     "execution_count": 8,
     "metadata": {},
     "output_type": "execute_result"
    }
   ],
   "source": [
    "merged_non = pd.merge(pcs_con, cm_con, on='text', how='outer')\n",
    "merged_non.text.str.split().map(len).describe()"
   ],
   "metadata": {
    "collapsed": false,
    "ExecuteTime": {
     "end_time": "2023-07-30T14:25:43.393848400Z",
     "start_time": "2023-07-30T14:25:34.964820500Z"
    }
   },
   "id": "caf52e528e63f937"
  },
  {
   "cell_type": "code",
   "execution_count": 9,
   "outputs": [],
   "source": [
    "from utils.mimic_utils import filter_notes\n",
    "from pathlib import Path\n",
    "\n",
    "data_dir = Path('../../mimic4-pg/data/')\n",
    "notes = pd.read_csv(data_dir / 'mimic-iv-note-deidentified-free-text-clinical-notes-2.2' / 'note' / 'discharge.csv.gz', index_col='hadm_id')\n",
    "filtered_notes = filter_notes(notes, admission_text_only=True)"
   ],
   "metadata": {
    "collapsed": false,
    "ExecuteTime": {
     "end_time": "2023-07-30T14:27:33.488861Z",
     "start_time": "2023-07-30T14:25:43.390337500Z"
    }
   },
   "id": "7896662861e47bc7"
  },
  {
   "cell_type": "code",
   "execution_count": 10,
   "outputs": [
    {
     "data": {
      "text/plain": "count    328629.000000\nmean        427.873590\nstd         216.563531\nmin          18.000000\n25%         269.000000\n50%         406.000000\n75%         550.000000\nmax        4665.000000\nName: text, dtype: float64"
     },
     "execution_count": 10,
     "metadata": {},
     "output_type": "execute_result"
    }
   ],
   "source": [
    "filtered_notes.str.split().map(len).describe()"
   ],
   "metadata": {
    "collapsed": false,
    "ExecuteTime": {
     "end_time": "2023-07-30T14:27:48.408398200Z",
     "start_time": "2023-07-30T14:27:33.489860100Z"
    }
   },
   "id": "e478b70e457c8773"
  },
  {
   "cell_type": "code",
   "execution_count": 20,
   "outputs": [
    {
     "data": {
      "text/plain": "count    328629.000000\nmean         28.439024\nstd          17.375135\nmin           1.000000\n25%          15.000000\n50%          26.000000\n75%          38.000000\nmax         420.000000\nName: text, dtype: float64"
     },
     "execution_count": 20,
     "metadata": {},
     "output_type": "execute_result"
    }
   ],
   "source": [
    "from spacy.lang.en import English\n",
    "\n",
    "nlp = English()\n",
    "nlp.add_pipe(\"sentencizer\")\n",
    "filtered_notes.apply(lambda note: len(list(nlp(note).sents))).describe()"
   ],
   "metadata": {
    "collapsed": false,
    "ExecuteTime": {
     "end_time": "2023-07-30T16:43:49.680058Z",
     "start_time": "2023-07-30T16:36:19.114660400Z"
    }
   },
   "id": "c852a9007f76bf65"
  }
 ],
 "metadata": {
  "kernelspec": {
   "display_name": "Python 3",
   "language": "python",
   "name": "python3"
  },
  "language_info": {
   "codemirror_mode": {
    "name": "ipython",
    "version": 2
   },
   "file_extension": ".py",
   "mimetype": "text/x-python",
   "name": "python",
   "nbconvert_exporter": "python",
   "pygments_lexer": "ipython2",
   "version": "2.7.6"
  }
 },
 "nbformat": 4,
 "nbformat_minor": 5
}
