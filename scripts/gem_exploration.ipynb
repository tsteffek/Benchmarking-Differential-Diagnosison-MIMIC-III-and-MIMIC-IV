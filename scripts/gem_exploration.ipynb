{
 "cells": [
  {
   "cell_type": "code",
   "execution_count": 30,
   "outputs": [],
   "source": [
    "from pathlib import Path\n",
    "from pandas import DataFrame\n",
    "\n",
    "from utils.gem import GEMTransform\n",
    "import pandas as pd\n",
    "\n",
    "dtypes = dict(icd10cm='string', icd9cm='string', flags='string', approximate=bool, no_map=bool, combination=bool,\n",
    "              scenario='int8', choice_list='int8')\n",
    "data_dir = Path('../../mimic4-pg/data/')"
   ],
   "metadata": {
    "collapsed": false,
    "ExecuteTime": {
     "end_time": "2023-09-09T23:24:13.804634100Z",
     "start_time": "2023-09-09T23:24:13.756485500Z"
    }
   }
  },
  {
   "cell_type": "markdown",
   "source": [
    "# Data Loading"
   ],
   "metadata": {
    "collapsed": false
   }
  },
  {
   "cell_type": "code",
   "execution_count": 31,
   "outputs": [
    {
     "data": {
      "text/plain": "(69832, 71920)"
     },
     "execution_count": 31,
     "metadata": {},
     "output_type": "execute_result"
    }
   ],
   "source": [
    "icd10cmtoicd9gem = pd.read_csv(data_dir / 'gem/icd10cmtoicd9gem.csv', dtype=dtypes, index_col='icd10cm')\n",
    "icd10pcstoicd9gem = pd.read_csv(data_dir / 'gem/icd10pcstoicd9gem.csv', dtype=dtypes, index_col='icd10cm')\n",
    "icd10cmtoicd9gem.index.nunique(), icd10pcstoicd9gem.index.nunique()"
   ],
   "metadata": {
    "collapsed": false,
    "ExecuteTime": {
     "end_time": "2023-09-09T23:24:14.063518800Z",
     "start_time": "2023-09-09T23:24:13.763995700Z"
    }
   }
  },
  {
   "cell_type": "code",
   "execution_count": 32,
   "outputs": [
    {
     "data": {
      "text/plain": "(14567, 3878)"
     },
     "execution_count": 32,
     "metadata": {},
     "output_type": "execute_result"
    }
   ],
   "source": [
    "icd9toicd10cmgem = pd.read_csv(data_dir / 'gem/icd9toicd10cmgem.csv', dtype=dtypes, index_col='icd9cm')\n",
    "icd9toicd10pcsgem = pd.read_csv(data_dir / 'gem/icd9toicd10pcsgem.csv', dtype=dtypes, index_col='icd9cm')\n",
    "icd9toicd10cmgem.index.nunique(), icd9toicd10pcsgem.index.nunique()"
   ],
   "metadata": {
    "collapsed": false,
    "ExecuteTime": {
     "end_time": "2023-09-09T23:24:14.063518800Z",
     "start_time": "2023-09-09T23:24:13.893680Z"
    }
   }
  },
  {
   "cell_type": "code",
   "execution_count": 33,
   "outputs": [],
   "source": [
    "dia_codes = pd.read_csv(data_dir / 'mimic-iv-2.2/hosp/diagnoses_icd.csv.gz',\n",
    "                        dtype={'icd_version': int, 'subject_id': int, 'icd_code': str},\n",
    "                        usecols=('icd_version', 'subject_id', 'icd_code', 'hadm_id'))\n",
    "pcs_codes = pd.read_csv(data_dir / 'mimic-iv-2.2/hosp/procedures_icd.csv.gz',\n",
    "                        dtype={'icd_version': int, 'subject_id': int, 'icd_code': str},\n",
    "                        usecols=('icd_version', 'subject_id', 'icd_code', 'hadm_id'))"
   ],
   "metadata": {
    "collapsed": false,
    "ExecuteTime": {
     "end_time": "2023-09-09T23:24:15.950516700Z",
     "start_time": "2023-09-09T23:24:13.957694500Z"
    }
   }
  },
  {
   "cell_type": "code",
   "execution_count": 34,
   "outputs": [],
   "source": [
    "# icu_stays = pd.read_csv(data_dir / 'mimic-iv-2.2/icu/icustays.csv.gz', usecols=['hadm_id', 'subject_id'])\n",
    "# dia_codes = pd.merge(dia_codes, icu_stays, on=['hadm_id', 'subject_id'])\n",
    "# pcs_codes = pd.merge(pcs_codes, icu_stays, on=['hadm_id', 'subject_id'])"
   ],
   "metadata": {
    "collapsed": false,
    "ExecuteTime": {
     "end_time": "2023-09-09T23:24:15.951523200Z",
     "start_time": "2023-09-09T23:24:15.949359300Z"
    }
   }
  },
  {
   "cell_type": "code",
   "execution_count": 35,
   "outputs": [],
   "source": [
    "# dia_desc = pd.read_csv(f'../../mimic4-pg/data/mimic-iv-2.2/hosp/d_icd_diagnoses.csv.gz',\n",
    "#                        dtype={'icd_version': int, 'subject_id': int, 'icd_code': str}, index_col='icd_code')\n",
    "# pro_desc = pd.read_csv(f'../../mimic4-pg/data/mimic-iv-2.2/hosp/d_icd_procedures.csv.gz',\n",
    "#                        dtype={'icd_version': int, 'subject_id': int, 'icd_code': str}, index_col='icd_code')"
   ],
   "metadata": {
    "collapsed": false,
    "ExecuteTime": {
     "end_time": "2023-09-09T23:24:15.956323Z",
     "start_time": "2023-09-09T23:24:15.953521700Z"
    }
   }
  },
  {
   "cell_type": "markdown",
   "source": [
    "# Mapping Types for each Code"
   ],
   "metadata": {
    "collapsed": false
   }
  },
  {
   "cell_type": "code",
   "execution_count": 36,
   "outputs": [],
   "source": [
    "def split_single_scenario_to_ident_approx_comb(df: pd.DataFrame, icd_col: str, suffix: str):\n",
    "    comb = df['combination'].groupby(icd_col, dropna=False).max().rename('comb' + suffix)\n",
    "    approx = (df['approximate'].groupby(icd_col, dropna=False).max() & ~comb).rename('approx' + suffix)\n",
    "    identical = (~approx & ~comb).rename('ident' + suffix)\n",
    "    assert not any(approx & comb & identical)\n",
    "    assert all(approx | comb | identical)\n",
    "    if identical.sum() != 0:\n",
    "        return pd.concat([approx, comb, identical], axis=1)\n",
    "    else:\n",
    "        return pd.concat([approx, comb], axis=1)\n",
    "\n",
    "\n",
    "BREAKDOWN_TYPES = ['ident', 'approx', 'comb', 'approx_alts', 'comb_alts', 'multi_scenario', 'no_map']\n",
    "SOLVABLE_TYPES = ['ident', 'approx', 'comb']\n",
    "UNSOLVABLE_TYPES = ['approx_alts', 'comb_alts', 'multi_scenario', 'no_map']\n",
    "\n",
    "\n",
    "def break_down_per_code(df: pd.DataFrame):\n",
    "    icd_col = df.index.name\n",
    "\n",
    "    mappings = df[~df['no_map']]\n",
    "\n",
    "    mask_ms = (mappings.groupby(icd_col, dropna=False).scenario.nunique() > 1).rename('multi_scenario')\n",
    "    mappings_ss = mappings.loc[~mask_ms]\n",
    "\n",
    "    options_per_choice_list = mappings_ss.groupby([icd_col, 'choice_list'], dropna=False).size()\n",
    "    mask_ss_wo_alt = options_per_choice_list.groupby(icd_col, dropna=False).max() == 1\n",
    "\n",
    "    mappings_ss_wo_alt = mappings_ss.loc[mask_ss_wo_alt]\n",
    "    mappings_ss_w_alt = mappings_ss.loc[~mask_ss_wo_alt]\n",
    "\n",
    "    codes_no_map = df['no_map'][df['no_map']]\n",
    "    codes_ms = mask_ms[mask_ms]\n",
    "\n",
    "    result = pd.concat([\n",
    "        codes_no_map,\n",
    "        codes_ms,\n",
    "        split_single_scenario_to_ident_approx_comb(mappings_ss_wo_alt, icd_col, ''),\n",
    "        split_single_scenario_to_ident_approx_comb(mappings_ss_w_alt, icd_col, '_alts')\n",
    "    ], axis=1).fillna(False)\n",
    "\n",
    "    assert all(result.any(axis=1))\n",
    "    assert not any(\n",
    "        result.no_map & result.multi_scenario & result.approx & result.comb & result.ident & result.approx_alts & result.comb_alts)\n",
    "\n",
    "    return result[BREAKDOWN_TYPES]\n",
    "\n",
    "\n",
    "def shares(df: pd.DataFrame):\n",
    "    return pd.concat([\n",
    "        df.sum().rename('total'),\n",
    "        round(df.mean() * 100, 1).rename('freq')\n",
    "    ], axis=1)\n",
    "\n",
    "\n",
    "def break_down_per_code_with_simplified(df: pd.DataFrame):\n",
    "    source_col = df.index.name\n",
    "    target_col = 'icd10cm' if 'icd9cm' == source_col else 'icd9cm'\n",
    "    df_4 = GEMTransform.simplify_mappings(df, 4, source_col, target_col)\n",
    "    df_3 = GEMTransform.simplify_mappings(df, 3, source_col, target_col)\n",
    "\n",
    "    bd = break_down_per_code(df)\n",
    "    bd_4 = break_down_per_code(df_4)\n",
    "    bd_3 = break_down_per_code(df_3)\n",
    "    return {5: bd, 4: bd_4, 3: bd_3}\n",
    "\n",
    "\n",
    "def shares_of_all_breakdowns(dfs: dict[int, pd.DataFrame]):\n",
    "    return pd.concat((shares(df).add_suffix(f'_{num}') for num, df in dfs.items()), axis=1)"
   ],
   "metadata": {
    "collapsed": false,
    "ExecuteTime": {
     "end_time": "2023-09-09T23:24:15.971161300Z",
     "start_time": "2023-09-09T23:24:15.956323Z"
    }
   }
  },
  {
   "cell_type": "code",
   "execution_count": 37,
   "outputs": [
    {
     "data": {
      "text/plain": "total_5    4483.0\nfreq_5        6.4\ntotal_4    2452.0\nfreq_4        3.5\ntotal_3    1269.0\nfreq_3        1.9\ndtype: float64"
     },
     "execution_count": 37,
     "metadata": {},
     "output_type": "execute_result"
    }
   ],
   "source": [
    "icd10cmtoicd9gem_bds = break_down_per_code_with_simplified(icd10cmtoicd9gem)\n",
    "shares_of_all_breakdowns(icd10cmtoicd9gem_bds).loc[UNSOLVABLE_TYPES].sum()"
   ],
   "metadata": {
    "collapsed": false,
    "ExecuteTime": {
     "end_time": "2023-09-09T23:24:20.812322800Z",
     "start_time": "2023-09-09T23:24:15.966650500Z"
    }
   }
  },
  {
   "cell_type": "code",
   "execution_count": 38,
   "outputs": [
    {
     "data": {
      "text/plain": "total_5    5639.0\nfreq_5        7.8\ntotal_4    5639.0\nfreq_4        7.8\ntotal_3    3631.0\nfreq_3        5.1\ndtype: float64"
     },
     "execution_count": 38,
     "metadata": {},
     "output_type": "execute_result"
    }
   ],
   "source": [
    "icd10pcstoicd9gem_bds = break_down_per_code_with_simplified(icd10pcstoicd9gem)\n",
    "shares_of_all_breakdowns(icd10pcstoicd9gem_bds).loc[UNSOLVABLE_TYPES].sum()"
   ],
   "metadata": {
    "collapsed": false,
    "ExecuteTime": {
     "end_time": "2023-09-09T23:24:25.593990600Z",
     "start_time": "2023-09-09T23:24:20.812322800Z"
    }
   }
  },
  {
   "cell_type": "code",
   "execution_count": 39,
   "outputs": [
    {
     "data": {
      "text/plain": "total_5    3298.0\nfreq_5       22.7\ntotal_4    2104.0\nfreq_4       14.5\ntotal_3     936.0\nfreq_3        6.4\ndtype: float64"
     },
     "execution_count": 39,
     "metadata": {},
     "output_type": "execute_result"
    }
   ],
   "source": [
    "icd9toicd10cmgem_bds = break_down_per_code_with_simplified(icd9toicd10cmgem)\n",
    "shares_of_all_breakdowns(icd9toicd10cmgem_bds).loc[UNSOLVABLE_TYPES].sum()"
   ],
   "metadata": {
    "collapsed": false,
    "ExecuteTime": {
     "end_time": "2023-09-09T23:24:26.486985100Z",
     "start_time": "2023-09-09T23:24:25.590981400Z"
    }
   }
  },
  {
   "cell_type": "code",
   "execution_count": 57,
   "outputs": [
    {
     "data": {
      "text/plain": "total_5    3460.0\nfreq_5       89.2\ntotal_4    2679.0\nfreq_4       69.1\ntotal_3    1301.0\nfreq_3       33.5\ndtype: float64"
     },
     "execution_count": 57,
     "metadata": {},
     "output_type": "execute_result"
    }
   ],
   "source": [
    "icd9toicd10pcsgem_bds = break_down_per_code_with_simplified(icd9toicd10pcsgem)\n",
    "shares_of_all_breakdowns(icd9toicd10pcsgem_bds).loc[UNSOLVABLE_TYPES].sum()"
   ],
   "metadata": {
    "collapsed": false,
    "ExecuteTime": {
     "end_time": "2023-09-09T23:32:07.801954200Z",
     "start_time": "2023-09-09T23:32:07.396248800Z"
    }
   }
  },
  {
   "cell_type": "markdown",
   "source": [
    "# Applied to Admissions"
   ],
   "metadata": {
    "collapsed": false
   }
  },
  {
   "cell_type": "code",
   "execution_count": 120,
   "outputs": [],
   "source": [
    "def compute_per_adm_probs_with_simpl(admissions: DataFrame, bd_dfs: dict[int, DataFrame]):\n",
    "    dfs = {}\n",
    "    all_shares = []\n",
    "    for num, bd_df in bd_dfs.items():\n",
    "        dfs[num] = pd.merge(admissions[['hadm_id', 'icd_code']], bd_df, right_index=True, left_on='icd_code')\n",
    "        per_adm_shares, df = compute_per_adm_probs(dfs[num])\n",
    "        all_shares.append(per_adm_shares)\n",
    "\n",
    "    return pd.concat((per_adm_shares.add_suffix(f'_{num}') for per_adm_shares, num in zip(all_shares, bd_dfs.keys())),\n",
    "                     axis=1), dfs\n",
    "\n",
    "\n",
    "def compute_per_adm_probs(bd_df_with_admissions: DataFrame):\n",
    "    group_by_admission = bd_df_with_admissions.groupby('hadm_id')[BREAKDOWN_TYPES]\n",
    "    num_per_type = group_by_admission.sum()\n",
    "    num_per_type['unsolvable'] = num_per_type[UNSOLVABLE_TYPES].sum(axis=1)\n",
    "    ex1, ex2 = (num_per_type == 1).mean().rename('exact1'), (num_per_type == 2).mean().rename('exact2')\n",
    "    least3 = (num_per_type >= 3).mean().rename('least3')\n",
    "    least1 = (ex1 + ex2 + least3).rename('least1')\n",
    "    return pd.concat([\n",
    "        # round(num_per_type.sum(), 0).rename('total'),\n",
    "        # bd_df_with_admissions[BREAKDOWN_TYPES].sum().rename('total').astype(int),\n",
    "        least1, (ex2 + least3).rename('least2'),\n",
    "        ex1, ex2, least3,\n",
    "        (1 - least1).rename('none'),\n",
    "        round(num_per_type.mean(), 1).rename('avg')\n",
    "    ], axis=1), bd_df_with_admissions\n",
    "\n",
    "\n",
    "def least_columns(df: DataFrame):\n",
    "    return round(df[[col for col in df.columns if 'least' in col or 'avg' in col]] * 100, 1)\n",
    "\n",
    "\n",
    "def exact_columns(df: DataFrame):\n",
    "    return df[[col for col in df.columns if 'exact' in col or 'least3' in col or 'none' in col]]"
   ],
   "metadata": {
    "collapsed": false,
    "ExecuteTime": {
     "end_time": "2023-09-10T09:26:27.732763900Z",
     "start_time": "2023-09-10T09:26:27.719543500Z"
    }
   }
  },
  {
   "cell_type": "code",
   "execution_count": 122,
   "outputs": [
    {
     "data": {
      "text/plain": "                least1_5  least2_5  least3_5  avg_5  least1_4  least2_4  \\\nident               93.2      80.8      68.0  480.0      93.2      80.8   \napprox              96.5      88.4      77.7  530.0      97.8      90.9   \ncomb                24.9       7.8       2.5   40.0      25.0       7.8   \napprox_alts         84.5      55.8      30.5  190.0      77.8      46.6   \ncomb_alts            0.3       0.0       0.0    0.0       0.2       0.0   \nmulti_scenario      17.3       1.3       0.0   20.0      17.3       1.3   \nno_map               6.7       0.6       0.4   10.0       6.7       0.6   \nunsolvable          85.5      60.1      37.1  220.0      81.2      51.8   \n\n                least3_4  avg_4  least1_3  least2_3  least3_3  avg_3  \nident               68.0  480.0      93.2      80.8      68.0  480.0  \napprox              80.8  560.0      98.6      93.5      86.0  670.0  \ncomb                 2.5   40.0      25.0       7.9       2.5   40.0  \napprox_alts         22.8  160.0      47.9      14.4       3.3   70.0  \ncomb_alts            0.0    0.0       0.1       0.0       0.0    0.0  \nmulti_scenario       0.0   20.0       3.9       0.0       0.0    0.0  \nno_map               0.4   10.0       6.7       0.6       0.4   10.0  \nunsolvable          29.3  190.0      53.5      18.1       5.1   80.0  ",
      "text/html": "<div>\n<style scoped>\n    .dataframe tbody tr th:only-of-type {\n        vertical-align: middle;\n    }\n\n    .dataframe tbody tr th {\n        vertical-align: top;\n    }\n\n    .dataframe thead th {\n        text-align: right;\n    }\n</style>\n<table border=\"1\" class=\"dataframe\">\n  <thead>\n    <tr style=\"text-align: right;\">\n      <th></th>\n      <th>least1_5</th>\n      <th>least2_5</th>\n      <th>least3_5</th>\n      <th>avg_5</th>\n      <th>least1_4</th>\n      <th>least2_4</th>\n      <th>least3_4</th>\n      <th>avg_4</th>\n      <th>least1_3</th>\n      <th>least2_3</th>\n      <th>least3_3</th>\n      <th>avg_3</th>\n    </tr>\n  </thead>\n  <tbody>\n    <tr>\n      <th>ident</th>\n      <td>93.2</td>\n      <td>80.8</td>\n      <td>68.0</td>\n      <td>480.0</td>\n      <td>93.2</td>\n      <td>80.8</td>\n      <td>68.0</td>\n      <td>480.0</td>\n      <td>93.2</td>\n      <td>80.8</td>\n      <td>68.0</td>\n      <td>480.0</td>\n    </tr>\n    <tr>\n      <th>approx</th>\n      <td>96.5</td>\n      <td>88.4</td>\n      <td>77.7</td>\n      <td>530.0</td>\n      <td>97.8</td>\n      <td>90.9</td>\n      <td>80.8</td>\n      <td>560.0</td>\n      <td>98.6</td>\n      <td>93.5</td>\n      <td>86.0</td>\n      <td>670.0</td>\n    </tr>\n    <tr>\n      <th>comb</th>\n      <td>24.9</td>\n      <td>7.8</td>\n      <td>2.5</td>\n      <td>40.0</td>\n      <td>25.0</td>\n      <td>7.8</td>\n      <td>2.5</td>\n      <td>40.0</td>\n      <td>25.0</td>\n      <td>7.9</td>\n      <td>2.5</td>\n      <td>40.0</td>\n    </tr>\n    <tr>\n      <th>approx_alts</th>\n      <td>84.5</td>\n      <td>55.8</td>\n      <td>30.5</td>\n      <td>190.0</td>\n      <td>77.8</td>\n      <td>46.6</td>\n      <td>22.8</td>\n      <td>160.0</td>\n      <td>47.9</td>\n      <td>14.4</td>\n      <td>3.3</td>\n      <td>70.0</td>\n    </tr>\n    <tr>\n      <th>comb_alts</th>\n      <td>0.3</td>\n      <td>0.0</td>\n      <td>0.0</td>\n      <td>0.0</td>\n      <td>0.2</td>\n      <td>0.0</td>\n      <td>0.0</td>\n      <td>0.0</td>\n      <td>0.1</td>\n      <td>0.0</td>\n      <td>0.0</td>\n      <td>0.0</td>\n    </tr>\n    <tr>\n      <th>multi_scenario</th>\n      <td>17.3</td>\n      <td>1.3</td>\n      <td>0.0</td>\n      <td>20.0</td>\n      <td>17.3</td>\n      <td>1.3</td>\n      <td>0.0</td>\n      <td>20.0</td>\n      <td>3.9</td>\n      <td>0.0</td>\n      <td>0.0</td>\n      <td>0.0</td>\n    </tr>\n    <tr>\n      <th>no_map</th>\n      <td>6.7</td>\n      <td>0.6</td>\n      <td>0.4</td>\n      <td>10.0</td>\n      <td>6.7</td>\n      <td>0.6</td>\n      <td>0.4</td>\n      <td>10.0</td>\n      <td>6.7</td>\n      <td>0.6</td>\n      <td>0.4</td>\n      <td>10.0</td>\n    </tr>\n    <tr>\n      <th>unsolvable</th>\n      <td>85.5</td>\n      <td>60.1</td>\n      <td>37.1</td>\n      <td>220.0</td>\n      <td>81.2</td>\n      <td>51.8</td>\n      <td>29.3</td>\n      <td>190.0</td>\n      <td>53.5</td>\n      <td>18.1</td>\n      <td>5.1</td>\n      <td>80.0</td>\n    </tr>\n  </tbody>\n</table>\n</div>"
     },
     "execution_count": 122,
     "metadata": {},
     "output_type": "execute_result"
    }
   ],
   "source": [
    "dia10_codes = dia_codes[dia_codes.icd_version == 10]\n",
    "icd10cmtoicd9adm_probs, icd10cmtoicd9adm_bd_dfs = compute_per_adm_probs_with_simpl(dia10_codes, icd10cmtoicd9gem_bds)\n",
    "least_columns(icd10cmtoicd9adm_probs)"
   ],
   "metadata": {
    "collapsed": false,
    "ExecuteTime": {
     "end_time": "2023-09-10T09:26:35.872145900Z",
     "start_time": "2023-09-10T09:26:33.122374300Z"
    }
   }
  },
  {
   "cell_type": "code",
   "execution_count": 123,
   "outputs": [
    {
     "data": {
      "text/plain": "                least1_5  least2_5  least3_5  avg_5  least1_4  least2_4  \\\nident                2.5       0.1       0.0    0.0       2.5       0.1   \napprox              81.9      44.1      24.5  190.0      81.9      44.1   \ncomb                 5.1       1.0       0.2   10.0       5.1       1.0   \napprox_alts         53.0      22.3       8.5   90.0      53.0      22.3   \ncomb_alts            2.2       0.3       0.1    0.0       2.2       0.3   \nmulti_scenario       1.5       0.4       0.2    0.0       1.5       0.4   \nno_map               0.0       0.0       0.0    0.0       0.0       0.0   \nunsolvable          55.3      23.6       9.1   90.0      55.3      23.6   \n\n                least3_4  avg_4  least1_3  least2_3  least3_3  avg_3  \nident                0.0    0.0       2.5       0.1       0.0    0.0  \napprox              24.5  190.0      89.7      53.1      32.2  230.0  \ncomb                 0.2   10.0       6.7       1.4       0.4   10.0  \napprox_alts          8.5   90.0      35.8       8.4       2.6   50.0  \ncomb_alts            0.1    0.0       0.5       0.0       0.0    0.0  \nmulti_scenario       0.2    0.0       1.5       0.4       0.2    0.0  \nno_map               0.0    0.0       0.0       0.0       0.0    0.0  \nunsolvable           9.1   90.0      37.2       9.1       2.9   50.0  ",
      "text/html": "<div>\n<style scoped>\n    .dataframe tbody tr th:only-of-type {\n        vertical-align: middle;\n    }\n\n    .dataframe tbody tr th {\n        vertical-align: top;\n    }\n\n    .dataframe thead th {\n        text-align: right;\n    }\n</style>\n<table border=\"1\" class=\"dataframe\">\n  <thead>\n    <tr style=\"text-align: right;\">\n      <th></th>\n      <th>least1_5</th>\n      <th>least2_5</th>\n      <th>least3_5</th>\n      <th>avg_5</th>\n      <th>least1_4</th>\n      <th>least2_4</th>\n      <th>least3_4</th>\n      <th>avg_4</th>\n      <th>least1_3</th>\n      <th>least2_3</th>\n      <th>least3_3</th>\n      <th>avg_3</th>\n    </tr>\n  </thead>\n  <tbody>\n    <tr>\n      <th>ident</th>\n      <td>2.5</td>\n      <td>0.1</td>\n      <td>0.0</td>\n      <td>0.0</td>\n      <td>2.5</td>\n      <td>0.1</td>\n      <td>0.0</td>\n      <td>0.0</td>\n      <td>2.5</td>\n      <td>0.1</td>\n      <td>0.0</td>\n      <td>0.0</td>\n    </tr>\n    <tr>\n      <th>approx</th>\n      <td>81.9</td>\n      <td>44.1</td>\n      <td>24.5</td>\n      <td>190.0</td>\n      <td>81.9</td>\n      <td>44.1</td>\n      <td>24.5</td>\n      <td>190.0</td>\n      <td>89.7</td>\n      <td>53.1</td>\n      <td>32.2</td>\n      <td>230.0</td>\n    </tr>\n    <tr>\n      <th>comb</th>\n      <td>5.1</td>\n      <td>1.0</td>\n      <td>0.2</td>\n      <td>10.0</td>\n      <td>5.1</td>\n      <td>1.0</td>\n      <td>0.2</td>\n      <td>10.0</td>\n      <td>6.7</td>\n      <td>1.4</td>\n      <td>0.4</td>\n      <td>10.0</td>\n    </tr>\n    <tr>\n      <th>approx_alts</th>\n      <td>53.0</td>\n      <td>22.3</td>\n      <td>8.5</td>\n      <td>90.0</td>\n      <td>53.0</td>\n      <td>22.3</td>\n      <td>8.5</td>\n      <td>90.0</td>\n      <td>35.8</td>\n      <td>8.4</td>\n      <td>2.6</td>\n      <td>50.0</td>\n    </tr>\n    <tr>\n      <th>comb_alts</th>\n      <td>2.2</td>\n      <td>0.3</td>\n      <td>0.1</td>\n      <td>0.0</td>\n      <td>2.2</td>\n      <td>0.3</td>\n      <td>0.1</td>\n      <td>0.0</td>\n      <td>0.5</td>\n      <td>0.0</td>\n      <td>0.0</td>\n      <td>0.0</td>\n    </tr>\n    <tr>\n      <th>multi_scenario</th>\n      <td>1.5</td>\n      <td>0.4</td>\n      <td>0.2</td>\n      <td>0.0</td>\n      <td>1.5</td>\n      <td>0.4</td>\n      <td>0.2</td>\n      <td>0.0</td>\n      <td>1.5</td>\n      <td>0.4</td>\n      <td>0.2</td>\n      <td>0.0</td>\n    </tr>\n    <tr>\n      <th>no_map</th>\n      <td>0.0</td>\n      <td>0.0</td>\n      <td>0.0</td>\n      <td>0.0</td>\n      <td>0.0</td>\n      <td>0.0</td>\n      <td>0.0</td>\n      <td>0.0</td>\n      <td>0.0</td>\n      <td>0.0</td>\n      <td>0.0</td>\n      <td>0.0</td>\n    </tr>\n    <tr>\n      <th>unsolvable</th>\n      <td>55.3</td>\n      <td>23.6</td>\n      <td>9.1</td>\n      <td>90.0</td>\n      <td>55.3</td>\n      <td>23.6</td>\n      <td>9.1</td>\n      <td>90.0</td>\n      <td>37.2</td>\n      <td>9.1</td>\n      <td>2.9</td>\n      <td>50.0</td>\n    </tr>\n  </tbody>\n</table>\n</div>"
     },
     "execution_count": 123,
     "metadata": {},
     "output_type": "execute_result"
    }
   ],
   "source": [
    "pcs10_codes = pcs_codes[pcs_codes.icd_version == 10]\n",
    "icd10pcstoicd9adm_probs, icd10pcstoicd9adm_bd_dfs = compute_per_adm_probs_with_simpl(pcs10_codes,\n",
    "                                                                                     icd10pcstoicd9gem_bds)\n",
    "least_columns(icd10pcstoicd9adm_probs)"
   ],
   "metadata": {
    "collapsed": false,
    "ExecuteTime": {
     "end_time": "2023-09-10T09:26:36.211184700Z",
     "start_time": "2023-09-10T09:26:35.871126100Z"
    }
   }
  },
  {
   "cell_type": "code",
   "execution_count": 124,
   "outputs": [
    {
     "data": {
      "text/plain": "                least1_5  least2_5  least3_5  avg_5  least1_4  least2_4  \\\nident               88.1      70.6      55.6  370.0      88.1      70.6   \napprox              94.2      81.1      66.7  440.0      96.1      85.2   \ncomb                 2.1       0.7       0.2    0.0       2.3       0.9   \napprox_alts         75.9      47.5      26.1  170.0      64.5      33.1   \ncomb_alts            1.1       0.0       0.0    0.0       0.5       0.0   \nmulti_scenario       0.2       0.0       0.0    0.0       0.1       0.0   \nno_map              10.9       1.7       0.3   10.0      10.9       1.7   \nunsolvable          76.9      49.9      29.0  190.0      66.6      36.4   \n\n                least3_4  avg_4  least1_3  least2_3  least3_3  avg_3  \nident               55.6  370.0      88.1      70.6      55.6  370.0  \napprox              72.5  490.0      97.2      88.0      77.6  570.0  \ncomb                 0.4    0.0       2.7       0.9       0.4    0.0  \napprox_alts         14.6  120.0      30.2       6.2       1.1   40.0  \ncomb_alts            0.0    0.0       0.1       0.0       0.0    0.0  \nmulti_scenario       0.0    0.0       0.0       0.0       0.0    0.0  \nno_map               0.3   10.0      10.9       1.7       0.3   10.0  \nunsolvable          17.7  140.0      36.2      10.5       2.9   50.0  ",
      "text/html": "<div>\n<style scoped>\n    .dataframe tbody tr th:only-of-type {\n        vertical-align: middle;\n    }\n\n    .dataframe tbody tr th {\n        vertical-align: top;\n    }\n\n    .dataframe thead th {\n        text-align: right;\n    }\n</style>\n<table border=\"1\" class=\"dataframe\">\n  <thead>\n    <tr style=\"text-align: right;\">\n      <th></th>\n      <th>least1_5</th>\n      <th>least2_5</th>\n      <th>least3_5</th>\n      <th>avg_5</th>\n      <th>least1_4</th>\n      <th>least2_4</th>\n      <th>least3_4</th>\n      <th>avg_4</th>\n      <th>least1_3</th>\n      <th>least2_3</th>\n      <th>least3_3</th>\n      <th>avg_3</th>\n    </tr>\n  </thead>\n  <tbody>\n    <tr>\n      <th>ident</th>\n      <td>88.1</td>\n      <td>70.6</td>\n      <td>55.6</td>\n      <td>370.0</td>\n      <td>88.1</td>\n      <td>70.6</td>\n      <td>55.6</td>\n      <td>370.0</td>\n      <td>88.1</td>\n      <td>70.6</td>\n      <td>55.6</td>\n      <td>370.0</td>\n    </tr>\n    <tr>\n      <th>approx</th>\n      <td>94.2</td>\n      <td>81.1</td>\n      <td>66.7</td>\n      <td>440.0</td>\n      <td>96.1</td>\n      <td>85.2</td>\n      <td>72.5</td>\n      <td>490.0</td>\n      <td>97.2</td>\n      <td>88.0</td>\n      <td>77.6</td>\n      <td>570.0</td>\n    </tr>\n    <tr>\n      <th>comb</th>\n      <td>2.1</td>\n      <td>0.7</td>\n      <td>0.2</td>\n      <td>0.0</td>\n      <td>2.3</td>\n      <td>0.9</td>\n      <td>0.4</td>\n      <td>0.0</td>\n      <td>2.7</td>\n      <td>0.9</td>\n      <td>0.4</td>\n      <td>0.0</td>\n    </tr>\n    <tr>\n      <th>approx_alts</th>\n      <td>75.9</td>\n      <td>47.5</td>\n      <td>26.1</td>\n      <td>170.0</td>\n      <td>64.5</td>\n      <td>33.1</td>\n      <td>14.6</td>\n      <td>120.0</td>\n      <td>30.2</td>\n      <td>6.2</td>\n      <td>1.1</td>\n      <td>40.0</td>\n    </tr>\n    <tr>\n      <th>comb_alts</th>\n      <td>1.1</td>\n      <td>0.0</td>\n      <td>0.0</td>\n      <td>0.0</td>\n      <td>0.5</td>\n      <td>0.0</td>\n      <td>0.0</td>\n      <td>0.0</td>\n      <td>0.1</td>\n      <td>0.0</td>\n      <td>0.0</td>\n      <td>0.0</td>\n    </tr>\n    <tr>\n      <th>multi_scenario</th>\n      <td>0.2</td>\n      <td>0.0</td>\n      <td>0.0</td>\n      <td>0.0</td>\n      <td>0.1</td>\n      <td>0.0</td>\n      <td>0.0</td>\n      <td>0.0</td>\n      <td>0.0</td>\n      <td>0.0</td>\n      <td>0.0</td>\n      <td>0.0</td>\n    </tr>\n    <tr>\n      <th>no_map</th>\n      <td>10.9</td>\n      <td>1.7</td>\n      <td>0.3</td>\n      <td>10.0</td>\n      <td>10.9</td>\n      <td>1.7</td>\n      <td>0.3</td>\n      <td>10.0</td>\n      <td>10.9</td>\n      <td>1.7</td>\n      <td>0.3</td>\n      <td>10.0</td>\n    </tr>\n    <tr>\n      <th>unsolvable</th>\n      <td>76.9</td>\n      <td>49.9</td>\n      <td>29.0</td>\n      <td>190.0</td>\n      <td>66.6</td>\n      <td>36.4</td>\n      <td>17.7</td>\n      <td>140.0</td>\n      <td>36.2</td>\n      <td>10.5</td>\n      <td>2.9</td>\n      <td>50.0</td>\n    </tr>\n  </tbody>\n</table>\n</div>"
     },
     "execution_count": 124,
     "metadata": {},
     "output_type": "execute_result"
    }
   ],
   "source": [
    "dia9_codes = dia_codes[dia_codes.icd_version == 9]\n",
    "icd9toicd10cmadm_probs, icd9toicd10cmadm_bd_dfs = compute_per_adm_probs_with_simpl(dia9_codes, icd9toicd10cmgem_bds)\n",
    "least_columns(icd9toicd10cmadm_probs)"
   ],
   "metadata": {
    "collapsed": false,
    "ExecuteTime": {
     "end_time": "2023-09-10T09:26:39.692361700Z",
     "start_time": "2023-09-10T09:26:36.211184700Z"
    }
   }
  },
  {
   "cell_type": "code",
   "execution_count": 125,
   "outputs": [
    {
     "data": {
      "text/plain": "                least1_5  least2_5  least3_5  avg_5  least1_4  least2_4  \\\nident                2.3       0.1       0.0    0.0       2.3       0.1   \napprox              28.4       7.8       1.4   40.0      52.9      20.9   \ncomb                 1.1       0.5       0.0    0.0       1.5       0.5   \napprox_alts         89.8      51.1      28.6  210.0      76.6      38.0   \ncomb_alts            8.8       0.7       0.1   10.0       8.4       0.7   \nmulti_scenario       2.9       0.2       0.0    0.0       2.9       0.2   \nno_map               8.4       5.2       4.5   20.0       8.4       5.2   \nunsolvable          92.6      55.5      32.7  240.0      80.1      42.9   \n\n                least3_4  avg_4  least1_3  least2_3  least3_3  avg_3  \nident                0.0    0.0       2.4       0.1       0.0    0.0  \napprox              10.9   90.0      76.7      36.6      18.8  150.0  \ncomb                 0.0    0.0       4.5       0.7       0.0   10.0  \napprox_alts         18.5  160.0      58.3      21.8       8.9  100.0  \ncomb_alts            0.1   10.0       6.3       0.5       0.1   10.0  \nmulti_scenario       0.0    0.0       1.8       0.1       0.0    0.0  \nno_map               4.5   20.0       8.4       5.2       4.5   20.0  \nunsolvable          23.6  190.0      63.5      28.0      14.6  130.0  ",
      "text/html": "<div>\n<style scoped>\n    .dataframe tbody tr th:only-of-type {\n        vertical-align: middle;\n    }\n\n    .dataframe tbody tr th {\n        vertical-align: top;\n    }\n\n    .dataframe thead th {\n        text-align: right;\n    }\n</style>\n<table border=\"1\" class=\"dataframe\">\n  <thead>\n    <tr style=\"text-align: right;\">\n      <th></th>\n      <th>least1_5</th>\n      <th>least2_5</th>\n      <th>least3_5</th>\n      <th>avg_5</th>\n      <th>least1_4</th>\n      <th>least2_4</th>\n      <th>least3_4</th>\n      <th>avg_4</th>\n      <th>least1_3</th>\n      <th>least2_3</th>\n      <th>least3_3</th>\n      <th>avg_3</th>\n    </tr>\n  </thead>\n  <tbody>\n    <tr>\n      <th>ident</th>\n      <td>2.3</td>\n      <td>0.1</td>\n      <td>0.0</td>\n      <td>0.0</td>\n      <td>2.3</td>\n      <td>0.1</td>\n      <td>0.0</td>\n      <td>0.0</td>\n      <td>2.4</td>\n      <td>0.1</td>\n      <td>0.0</td>\n      <td>0.0</td>\n    </tr>\n    <tr>\n      <th>approx</th>\n      <td>28.4</td>\n      <td>7.8</td>\n      <td>1.4</td>\n      <td>40.0</td>\n      <td>52.9</td>\n      <td>20.9</td>\n      <td>10.9</td>\n      <td>90.0</td>\n      <td>76.7</td>\n      <td>36.6</td>\n      <td>18.8</td>\n      <td>150.0</td>\n    </tr>\n    <tr>\n      <th>comb</th>\n      <td>1.1</td>\n      <td>0.5</td>\n      <td>0.0</td>\n      <td>0.0</td>\n      <td>1.5</td>\n      <td>0.5</td>\n      <td>0.0</td>\n      <td>0.0</td>\n      <td>4.5</td>\n      <td>0.7</td>\n      <td>0.0</td>\n      <td>10.0</td>\n    </tr>\n    <tr>\n      <th>approx_alts</th>\n      <td>89.8</td>\n      <td>51.1</td>\n      <td>28.6</td>\n      <td>210.0</td>\n      <td>76.6</td>\n      <td>38.0</td>\n      <td>18.5</td>\n      <td>160.0</td>\n      <td>58.3</td>\n      <td>21.8</td>\n      <td>8.9</td>\n      <td>100.0</td>\n    </tr>\n    <tr>\n      <th>comb_alts</th>\n      <td>8.8</td>\n      <td>0.7</td>\n      <td>0.1</td>\n      <td>10.0</td>\n      <td>8.4</td>\n      <td>0.7</td>\n      <td>0.1</td>\n      <td>10.0</td>\n      <td>6.3</td>\n      <td>0.5</td>\n      <td>0.1</td>\n      <td>10.0</td>\n    </tr>\n    <tr>\n      <th>multi_scenario</th>\n      <td>2.9</td>\n      <td>0.2</td>\n      <td>0.0</td>\n      <td>0.0</td>\n      <td>2.9</td>\n      <td>0.2</td>\n      <td>0.0</td>\n      <td>0.0</td>\n      <td>1.8</td>\n      <td>0.1</td>\n      <td>0.0</td>\n      <td>0.0</td>\n    </tr>\n    <tr>\n      <th>no_map</th>\n      <td>8.4</td>\n      <td>5.2</td>\n      <td>4.5</td>\n      <td>20.0</td>\n      <td>8.4</td>\n      <td>5.2</td>\n      <td>4.5</td>\n      <td>20.0</td>\n      <td>8.4</td>\n      <td>5.2</td>\n      <td>4.5</td>\n      <td>20.0</td>\n    </tr>\n    <tr>\n      <th>unsolvable</th>\n      <td>92.6</td>\n      <td>55.5</td>\n      <td>32.7</td>\n      <td>240.0</td>\n      <td>80.1</td>\n      <td>42.9</td>\n      <td>23.6</td>\n      <td>190.0</td>\n      <td>63.5</td>\n      <td>28.0</td>\n      <td>14.6</td>\n      <td>130.0</td>\n    </tr>\n  </tbody>\n</table>\n</div>"
     },
     "execution_count": 125,
     "metadata": {},
     "output_type": "execute_result"
    }
   ],
   "source": [
    "pcs9_codes = pcs_codes[pcs_codes.icd_version == 9]\n",
    "icd9toicd10pcsadm_probs, icd9toicd10pcsadm_bd_dfs = compute_per_adm_probs_with_simpl(pcs9_codes,\n",
    "                                                                                     icd9toicd10pcsgem_bds)\n",
    "least_columns(icd9toicd10pcsadm_probs)"
   ],
   "metadata": {
    "collapsed": false,
    "ExecuteTime": {
     "end_time": "2023-09-10T09:26:40.732731Z",
     "start_time": "2023-09-10T09:26:39.694355300Z"
    }
   }
  },
  {
   "cell_type": "code",
   "execution_count": 46,
   "outputs": [],
   "source": [
    "def top_10_unsolvable(df: DataFrame, gem_df: DataFrame):\n",
    "    any_unsolvable = df[UNSOLVABLE_TYPES].max(axis=1)\n",
    "    vcs = df[any_unsolvable].icd_code.value_counts()\n",
    "    return pd.merge(\n",
    "        pd.concat([vcs, round(vcs / vcs.sum() * 100, 2).rename('rel')], axis=1),\n",
    "        gem_df, left_index=True, right_index=True\n",
    "    )"
   ],
   "metadata": {
    "collapsed": false,
    "ExecuteTime": {
     "end_time": "2023-09-09T23:24:33.450664400Z",
     "start_time": "2023-09-09T23:24:33.439774300Z"
    }
   }
  },
  {
   "cell_type": "code",
   "execution_count": 47,
   "outputs": [
    {
     "data": {
      "text/plain": "        count    rel  ident  approx   comb  approx_alts  comb_alts  \\\nF329    28787  23.92  False   False  False         True      False   \nI2510   25398  21.10  False   False  False         True      False   \nJ449    11250   9.35  False   False  False         True      False   \nG92      4988   4.14  False   False  False         True      False   \nZ8249    4383   3.64  False   False  False         True      False   \n...       ...    ...    ...     ...    ...          ...        ...   \nY742        1   0.00  False   False  False        False      False   \nR99         1   0.00  False   False  False         True      False   \nR899        1   0.00  False   False  False         True      False   \nL02619      1   0.00  False   False  False         True      False   \nY701        1   0.00  False   False  False        False      False   \n\n        multi_scenario  no_map  \nF329             False   False  \nI2510            False   False  \nJ449             False   False  \nG92              False   False  \nZ8249            False   False  \n...                ...     ...  \nY742             False    True  \nR99              False   False  \nR899             False   False  \nL02619           False   False  \nY701             False    True  \n\n[544 rows x 9 columns]",
      "text/html": "<div>\n<style scoped>\n    .dataframe tbody tr th:only-of-type {\n        vertical-align: middle;\n    }\n\n    .dataframe tbody tr th {\n        vertical-align: top;\n    }\n\n    .dataframe thead th {\n        text-align: right;\n    }\n</style>\n<table border=\"1\" class=\"dataframe\">\n  <thead>\n    <tr style=\"text-align: right;\">\n      <th></th>\n      <th>count</th>\n      <th>rel</th>\n      <th>ident</th>\n      <th>approx</th>\n      <th>comb</th>\n      <th>approx_alts</th>\n      <th>comb_alts</th>\n      <th>multi_scenario</th>\n      <th>no_map</th>\n    </tr>\n  </thead>\n  <tbody>\n    <tr>\n      <th>F329</th>\n      <td>28787</td>\n      <td>23.92</td>\n      <td>False</td>\n      <td>False</td>\n      <td>False</td>\n      <td>True</td>\n      <td>False</td>\n      <td>False</td>\n      <td>False</td>\n    </tr>\n    <tr>\n      <th>I2510</th>\n      <td>25398</td>\n      <td>21.10</td>\n      <td>False</td>\n      <td>False</td>\n      <td>False</td>\n      <td>True</td>\n      <td>False</td>\n      <td>False</td>\n      <td>False</td>\n    </tr>\n    <tr>\n      <th>J449</th>\n      <td>11250</td>\n      <td>9.35</td>\n      <td>False</td>\n      <td>False</td>\n      <td>False</td>\n      <td>True</td>\n      <td>False</td>\n      <td>False</td>\n      <td>False</td>\n    </tr>\n    <tr>\n      <th>G92</th>\n      <td>4988</td>\n      <td>4.14</td>\n      <td>False</td>\n      <td>False</td>\n      <td>False</td>\n      <td>True</td>\n      <td>False</td>\n      <td>False</td>\n      <td>False</td>\n    </tr>\n    <tr>\n      <th>Z8249</th>\n      <td>4383</td>\n      <td>3.64</td>\n      <td>False</td>\n      <td>False</td>\n      <td>False</td>\n      <td>True</td>\n      <td>False</td>\n      <td>False</td>\n      <td>False</td>\n    </tr>\n    <tr>\n      <th>...</th>\n      <td>...</td>\n      <td>...</td>\n      <td>...</td>\n      <td>...</td>\n      <td>...</td>\n      <td>...</td>\n      <td>...</td>\n      <td>...</td>\n      <td>...</td>\n    </tr>\n    <tr>\n      <th>Y742</th>\n      <td>1</td>\n      <td>0.00</td>\n      <td>False</td>\n      <td>False</td>\n      <td>False</td>\n      <td>False</td>\n      <td>False</td>\n      <td>False</td>\n      <td>True</td>\n    </tr>\n    <tr>\n      <th>R99</th>\n      <td>1</td>\n      <td>0.00</td>\n      <td>False</td>\n      <td>False</td>\n      <td>False</td>\n      <td>True</td>\n      <td>False</td>\n      <td>False</td>\n      <td>False</td>\n    </tr>\n    <tr>\n      <th>R899</th>\n      <td>1</td>\n      <td>0.00</td>\n      <td>False</td>\n      <td>False</td>\n      <td>False</td>\n      <td>True</td>\n      <td>False</td>\n      <td>False</td>\n      <td>False</td>\n    </tr>\n    <tr>\n      <th>L02619</th>\n      <td>1</td>\n      <td>0.00</td>\n      <td>False</td>\n      <td>False</td>\n      <td>False</td>\n      <td>True</td>\n      <td>False</td>\n      <td>False</td>\n      <td>False</td>\n    </tr>\n    <tr>\n      <th>Y701</th>\n      <td>1</td>\n      <td>0.00</td>\n      <td>False</td>\n      <td>False</td>\n      <td>False</td>\n      <td>False</td>\n      <td>False</td>\n      <td>False</td>\n      <td>True</td>\n    </tr>\n  </tbody>\n</table>\n<p>544 rows × 9 columns</p>\n</div>"
     },
     "execution_count": 47,
     "metadata": {},
     "output_type": "execute_result"
    }
   ],
   "source": [
    "top_10_unsolvable(icd10cmtoicd9adm_bd_dfs[3], icd10cmtoicd9gem_bds[3])"
   ],
   "metadata": {
    "collapsed": false,
    "ExecuteTime": {
     "end_time": "2023-09-09T23:24:33.609652300Z",
     "start_time": "2023-09-09T23:24:33.445402800Z"
    }
   }
  },
  {
   "cell_type": "code",
   "execution_count": 48,
   "outputs": [
    {
     "data": {
      "text/plain": "         count    rel  ident  approx   comb  approx_alts  comb_alts  \\\n3E0G76Z   4871  13.11  False   False  False         True      False   \n0DJ08ZZ   3219   8.67  False   False  False         True      False   \n3E04305   2306   6.21  False   False  False         True      False   \n0KQM0ZZ   1649   4.44  False   False  False         True      False   \n0DJD8ZZ   1577   4.25  False   False  False         True      False   \n...        ...    ...    ...     ...    ...          ...        ...   \n0DJ0XZZ      1   0.00  False   False  False         True      False   \n06BR4ZZ      1   0.00  False   False  False         True      False   \n0SBL0ZZ      1   0.00  False   False  False         True      False   \n01Q30ZZ      1   0.00  False   False  False         True      False   \n0MQ60ZZ      1   0.00  False   False  False         True      False   \n\n         multi_scenario  no_map  \n3E0G76Z           False   False  \n0DJ08ZZ           False   False  \n3E04305           False   False  \n0KQM0ZZ           False   False  \n0DJD8ZZ           False   False  \n...                 ...     ...  \n0DJ0XZZ           False   False  \n06BR4ZZ           False   False  \n0SBL0ZZ           False   False  \n01Q30ZZ           False   False  \n0MQ60ZZ           False   False  \n\n[962 rows x 9 columns]",
      "text/html": "<div>\n<style scoped>\n    .dataframe tbody tr th:only-of-type {\n        vertical-align: middle;\n    }\n\n    .dataframe tbody tr th {\n        vertical-align: top;\n    }\n\n    .dataframe thead th {\n        text-align: right;\n    }\n</style>\n<table border=\"1\" class=\"dataframe\">\n  <thead>\n    <tr style=\"text-align: right;\">\n      <th></th>\n      <th>count</th>\n      <th>rel</th>\n      <th>ident</th>\n      <th>approx</th>\n      <th>comb</th>\n      <th>approx_alts</th>\n      <th>comb_alts</th>\n      <th>multi_scenario</th>\n      <th>no_map</th>\n    </tr>\n  </thead>\n  <tbody>\n    <tr>\n      <th>3E0G76Z</th>\n      <td>4871</td>\n      <td>13.11</td>\n      <td>False</td>\n      <td>False</td>\n      <td>False</td>\n      <td>True</td>\n      <td>False</td>\n      <td>False</td>\n      <td>False</td>\n    </tr>\n    <tr>\n      <th>0DJ08ZZ</th>\n      <td>3219</td>\n      <td>8.67</td>\n      <td>False</td>\n      <td>False</td>\n      <td>False</td>\n      <td>True</td>\n      <td>False</td>\n      <td>False</td>\n      <td>False</td>\n    </tr>\n    <tr>\n      <th>3E04305</th>\n      <td>2306</td>\n      <td>6.21</td>\n      <td>False</td>\n      <td>False</td>\n      <td>False</td>\n      <td>True</td>\n      <td>False</td>\n      <td>False</td>\n      <td>False</td>\n    </tr>\n    <tr>\n      <th>0KQM0ZZ</th>\n      <td>1649</td>\n      <td>4.44</td>\n      <td>False</td>\n      <td>False</td>\n      <td>False</td>\n      <td>True</td>\n      <td>False</td>\n      <td>False</td>\n      <td>False</td>\n    </tr>\n    <tr>\n      <th>0DJD8ZZ</th>\n      <td>1577</td>\n      <td>4.25</td>\n      <td>False</td>\n      <td>False</td>\n      <td>False</td>\n      <td>True</td>\n      <td>False</td>\n      <td>False</td>\n      <td>False</td>\n    </tr>\n    <tr>\n      <th>...</th>\n      <td>...</td>\n      <td>...</td>\n      <td>...</td>\n      <td>...</td>\n      <td>...</td>\n      <td>...</td>\n      <td>...</td>\n      <td>...</td>\n      <td>...</td>\n    </tr>\n    <tr>\n      <th>0DJ0XZZ</th>\n      <td>1</td>\n      <td>0.00</td>\n      <td>False</td>\n      <td>False</td>\n      <td>False</td>\n      <td>True</td>\n      <td>False</td>\n      <td>False</td>\n      <td>False</td>\n    </tr>\n    <tr>\n      <th>06BR4ZZ</th>\n      <td>1</td>\n      <td>0.00</td>\n      <td>False</td>\n      <td>False</td>\n      <td>False</td>\n      <td>True</td>\n      <td>False</td>\n      <td>False</td>\n      <td>False</td>\n    </tr>\n    <tr>\n      <th>0SBL0ZZ</th>\n      <td>1</td>\n      <td>0.00</td>\n      <td>False</td>\n      <td>False</td>\n      <td>False</td>\n      <td>True</td>\n      <td>False</td>\n      <td>False</td>\n      <td>False</td>\n    </tr>\n    <tr>\n      <th>01Q30ZZ</th>\n      <td>1</td>\n      <td>0.00</td>\n      <td>False</td>\n      <td>False</td>\n      <td>False</td>\n      <td>True</td>\n      <td>False</td>\n      <td>False</td>\n      <td>False</td>\n    </tr>\n    <tr>\n      <th>0MQ60ZZ</th>\n      <td>1</td>\n      <td>0.00</td>\n      <td>False</td>\n      <td>False</td>\n      <td>False</td>\n      <td>True</td>\n      <td>False</td>\n      <td>False</td>\n      <td>False</td>\n    </tr>\n  </tbody>\n</table>\n<p>962 rows × 9 columns</p>\n</div>"
     },
     "execution_count": 48,
     "metadata": {},
     "output_type": "execute_result"
    }
   ],
   "source": [
    "top_10_unsolvable(icd10pcstoicd9adm_bd_dfs[3], icd10pcstoicd9gem_bds[3])"
   ],
   "metadata": {
    "collapsed": false,
    "ExecuteTime": {
     "end_time": "2023-09-09T23:24:33.658806800Z",
     "start_time": "2023-09-09T23:24:33.600089500Z"
    }
   }
  },
  {
   "cell_type": "code",
   "execution_count": 49,
   "outputs": [
    {
     "data": {
      "text/plain": "       count   rel  ident  approx   comb  approx_alts  comb_alts  \\\n3572    8925  6.35  False   False  False         True      False   \n42789   8864  6.30  False   False  False         True      False   \n78791   7856  5.59  False   False  False         True      False   \n71590   7335  5.21  False   False  False         True      False   \n7840    5000  3.55  False   False  False         True      False   \n...      ...   ...    ...     ...    ...          ...        ...   \nE9480      1  0.00  False   False  False        False      False   \n8973       1  0.00  False   False  False         True      False   \nE9409      1  0.00  False   False  False        False      False   \nE9427      1  0.00  False   False  False        False      False   \nE9463      1  0.00  False   False  False        False      False   \n\n       multi_scenario  no_map  \n3572            False   False  \n42789           False   False  \n78791           False   False  \n71590           False   False  \n7840            False   False  \n...               ...     ...  \nE9480           False    True  \n8973            False   False  \nE9409           False    True  \nE9427           False    True  \nE9463           False    True  \n\n[670 rows x 9 columns]",
      "text/html": "<div>\n<style scoped>\n    .dataframe tbody tr th:only-of-type {\n        vertical-align: middle;\n    }\n\n    .dataframe tbody tr th {\n        vertical-align: top;\n    }\n\n    .dataframe thead th {\n        text-align: right;\n    }\n</style>\n<table border=\"1\" class=\"dataframe\">\n  <thead>\n    <tr style=\"text-align: right;\">\n      <th></th>\n      <th>count</th>\n      <th>rel</th>\n      <th>ident</th>\n      <th>approx</th>\n      <th>comb</th>\n      <th>approx_alts</th>\n      <th>comb_alts</th>\n      <th>multi_scenario</th>\n      <th>no_map</th>\n    </tr>\n  </thead>\n  <tbody>\n    <tr>\n      <th>3572</th>\n      <td>8925</td>\n      <td>6.35</td>\n      <td>False</td>\n      <td>False</td>\n      <td>False</td>\n      <td>True</td>\n      <td>False</td>\n      <td>False</td>\n      <td>False</td>\n    </tr>\n    <tr>\n      <th>42789</th>\n      <td>8864</td>\n      <td>6.30</td>\n      <td>False</td>\n      <td>False</td>\n      <td>False</td>\n      <td>True</td>\n      <td>False</td>\n      <td>False</td>\n      <td>False</td>\n    </tr>\n    <tr>\n      <th>78791</th>\n      <td>7856</td>\n      <td>5.59</td>\n      <td>False</td>\n      <td>False</td>\n      <td>False</td>\n      <td>True</td>\n      <td>False</td>\n      <td>False</td>\n      <td>False</td>\n    </tr>\n    <tr>\n      <th>71590</th>\n      <td>7335</td>\n      <td>5.21</td>\n      <td>False</td>\n      <td>False</td>\n      <td>False</td>\n      <td>True</td>\n      <td>False</td>\n      <td>False</td>\n      <td>False</td>\n    </tr>\n    <tr>\n      <th>7840</th>\n      <td>5000</td>\n      <td>3.55</td>\n      <td>False</td>\n      <td>False</td>\n      <td>False</td>\n      <td>True</td>\n      <td>False</td>\n      <td>False</td>\n      <td>False</td>\n    </tr>\n    <tr>\n      <th>...</th>\n      <td>...</td>\n      <td>...</td>\n      <td>...</td>\n      <td>...</td>\n      <td>...</td>\n      <td>...</td>\n      <td>...</td>\n      <td>...</td>\n      <td>...</td>\n    </tr>\n    <tr>\n      <th>E9480</th>\n      <td>1</td>\n      <td>0.00</td>\n      <td>False</td>\n      <td>False</td>\n      <td>False</td>\n      <td>False</td>\n      <td>False</td>\n      <td>False</td>\n      <td>True</td>\n    </tr>\n    <tr>\n      <th>8973</th>\n      <td>1</td>\n      <td>0.00</td>\n      <td>False</td>\n      <td>False</td>\n      <td>False</td>\n      <td>True</td>\n      <td>False</td>\n      <td>False</td>\n      <td>False</td>\n    </tr>\n    <tr>\n      <th>E9409</th>\n      <td>1</td>\n      <td>0.00</td>\n      <td>False</td>\n      <td>False</td>\n      <td>False</td>\n      <td>False</td>\n      <td>False</td>\n      <td>False</td>\n      <td>True</td>\n    </tr>\n    <tr>\n      <th>E9427</th>\n      <td>1</td>\n      <td>0.00</td>\n      <td>False</td>\n      <td>False</td>\n      <td>False</td>\n      <td>False</td>\n      <td>False</td>\n      <td>False</td>\n      <td>True</td>\n    </tr>\n    <tr>\n      <th>E9463</th>\n      <td>1</td>\n      <td>0.00</td>\n      <td>False</td>\n      <td>False</td>\n      <td>False</td>\n      <td>False</td>\n      <td>False</td>\n      <td>False</td>\n      <td>True</td>\n    </tr>\n  </tbody>\n</table>\n<p>670 rows × 9 columns</p>\n</div>"
     },
     "execution_count": 49,
     "metadata": {},
     "output_type": "execute_result"
    }
   ],
   "source": [
    "top_10_unsolvable(icd9toicd10cmadm_bd_dfs[3], icd9toicd10cmgem_bds[3])"
   ],
   "metadata": {
    "collapsed": false,
    "ExecuteTime": {
     "end_time": "2023-09-09T23:24:33.835331300Z",
     "start_time": "2023-09-09T23:24:33.638729Z"
    }
   }
  },
  {
   "cell_type": "code",
   "execution_count": 50,
   "outputs": [
    {
     "data": {
      "text/plain": "      count   rel  ident  approx   comb  approx_alts  comb_alts  \\\n3893  13928  7.12  False   False  False         True      False   \n3897   9843  5.03  False   False  False        False       True   \n8856   9043  4.62  False   False  False         True      False   \n0040   7158  3.66  False   False  False        False      False   \n5491   6245  3.19  False   False  False         True      False   \n...     ...   ...    ...     ...    ...          ...        ...   \n6499      1  0.00  False   False  False         True      False   \n8033      1  0.00  False   False  False         True      False   \n8699      1  0.00  False   False  False         True      False   \n2061      1  0.00  False   False  False        False      False   \n5683      1  0.00  False   False  False        False      False   \n\n      multi_scenario  no_map  \n3893           False   False  \n3897           False   False  \n8856           False   False  \n0040           False    True  \n5491           False   False  \n...              ...     ...  \n6499           False   False  \n8033           False   False  \n8699           False   False  \n2061           False    True  \n5683            True   False  \n\n[881 rows x 9 columns]",
      "text/html": "<div>\n<style scoped>\n    .dataframe tbody tr th:only-of-type {\n        vertical-align: middle;\n    }\n\n    .dataframe tbody tr th {\n        vertical-align: top;\n    }\n\n    .dataframe thead th {\n        text-align: right;\n    }\n</style>\n<table border=\"1\" class=\"dataframe\">\n  <thead>\n    <tr style=\"text-align: right;\">\n      <th></th>\n      <th>count</th>\n      <th>rel</th>\n      <th>ident</th>\n      <th>approx</th>\n      <th>comb</th>\n      <th>approx_alts</th>\n      <th>comb_alts</th>\n      <th>multi_scenario</th>\n      <th>no_map</th>\n    </tr>\n  </thead>\n  <tbody>\n    <tr>\n      <th>3893</th>\n      <td>13928</td>\n      <td>7.12</td>\n      <td>False</td>\n      <td>False</td>\n      <td>False</td>\n      <td>True</td>\n      <td>False</td>\n      <td>False</td>\n      <td>False</td>\n    </tr>\n    <tr>\n      <th>3897</th>\n      <td>9843</td>\n      <td>5.03</td>\n      <td>False</td>\n      <td>False</td>\n      <td>False</td>\n      <td>False</td>\n      <td>True</td>\n      <td>False</td>\n      <td>False</td>\n    </tr>\n    <tr>\n      <th>8856</th>\n      <td>9043</td>\n      <td>4.62</td>\n      <td>False</td>\n      <td>False</td>\n      <td>False</td>\n      <td>True</td>\n      <td>False</td>\n      <td>False</td>\n      <td>False</td>\n    </tr>\n    <tr>\n      <th>0040</th>\n      <td>7158</td>\n      <td>3.66</td>\n      <td>False</td>\n      <td>False</td>\n      <td>False</td>\n      <td>False</td>\n      <td>False</td>\n      <td>False</td>\n      <td>True</td>\n    </tr>\n    <tr>\n      <th>5491</th>\n      <td>6245</td>\n      <td>3.19</td>\n      <td>False</td>\n      <td>False</td>\n      <td>False</td>\n      <td>True</td>\n      <td>False</td>\n      <td>False</td>\n      <td>False</td>\n    </tr>\n    <tr>\n      <th>...</th>\n      <td>...</td>\n      <td>...</td>\n      <td>...</td>\n      <td>...</td>\n      <td>...</td>\n      <td>...</td>\n      <td>...</td>\n      <td>...</td>\n      <td>...</td>\n    </tr>\n    <tr>\n      <th>6499</th>\n      <td>1</td>\n      <td>0.00</td>\n      <td>False</td>\n      <td>False</td>\n      <td>False</td>\n      <td>True</td>\n      <td>False</td>\n      <td>False</td>\n      <td>False</td>\n    </tr>\n    <tr>\n      <th>8033</th>\n      <td>1</td>\n      <td>0.00</td>\n      <td>False</td>\n      <td>False</td>\n      <td>False</td>\n      <td>True</td>\n      <td>False</td>\n      <td>False</td>\n      <td>False</td>\n    </tr>\n    <tr>\n      <th>8699</th>\n      <td>1</td>\n      <td>0.00</td>\n      <td>False</td>\n      <td>False</td>\n      <td>False</td>\n      <td>True</td>\n      <td>False</td>\n      <td>False</td>\n      <td>False</td>\n    </tr>\n    <tr>\n      <th>2061</th>\n      <td>1</td>\n      <td>0.00</td>\n      <td>False</td>\n      <td>False</td>\n      <td>False</td>\n      <td>False</td>\n      <td>False</td>\n      <td>False</td>\n      <td>True</td>\n    </tr>\n    <tr>\n      <th>5683</th>\n      <td>1</td>\n      <td>0.00</td>\n      <td>False</td>\n      <td>False</td>\n      <td>False</td>\n      <td>False</td>\n      <td>False</td>\n      <td>True</td>\n      <td>False</td>\n    </tr>\n  </tbody>\n</table>\n<p>881 rows × 9 columns</p>\n</div>"
     },
     "execution_count": 50,
     "metadata": {},
     "output_type": "execute_result"
    }
   ],
   "source": [
    "top_10_unsolvable(icd9toicd10pcsadm_bd_dfs[3], icd9toicd10pcsgem_bds[3])"
   ],
   "metadata": {
    "collapsed": false,
    "ExecuteTime": {
     "end_time": "2023-09-09T23:24:33.942885200Z",
     "start_time": "2023-09-09T23:24:33.831815700Z"
    }
   }
  },
  {
   "cell_type": "code",
   "execution_count": 51,
   "outputs": [
    {
     "data": {
      "text/plain": "        icd10cm  flags  approximate  no_map  combination  scenario  \\\nicd9cm                                                               \n3897    05H533Z  10111         True   False         True         1   \n3897    05H633Z  10111         True   False         True         1   \n3897    05HM33Z  10111         True   False         True         1   \n3897    05HN33Z  10111         True   False         True         1   \n3897    05HP33Z  10111         True   False         True         1   \n3897    05HQ33Z  10111         True   False         True         1   \n3897    06HM33Z  10111         True   False         True         1   \n3897    06HN33Z  10111         True   False         True         1   \n3897    4A02X4A  10112         True   False         True         1   \n3897    B5130ZA  10112         True   False         True         1   \n3897    B5131ZA  10112         True   False         True         1   \n3897    B513YZA  10112         True   False         True         1   \n3897    B513ZZA  10112         True   False         True         1   \n3897    B5140ZA  10112         True   False         True         1   \n3897    B5141ZA  10112         True   False         True         1   \n3897    B514YZA  10112         True   False         True         1   \n3897    B514ZZA  10112         True   False         True         1   \n3897    B5150ZA  10112         True   False         True         1   \n3897    B5151ZA  10112         True   False         True         1   \n3897    B515YZA  10112         True   False         True         1   \n3897    B515ZZA  10112         True   False         True         1   \n3897    B5160ZA  10112         True   False         True         1   \n3897    B5161ZA  10112         True   False         True         1   \n3897    B516YZA  10112         True   False         True         1   \n3897    B516ZZA  10112         True   False         True         1   \n3897    B5170ZA  10112         True   False         True         1   \n3897    B5171ZA  10112         True   False         True         1   \n3897    B517YZA  10112         True   False         True         1   \n3897    B517ZZA  10112         True   False         True         1   \n3897    B51B0ZA  10112         True   False         True         1   \n3897    B51B1ZA  10112         True   False         True         1   \n3897    B51BYZA  10112         True   False         True         1   \n3897    B51BZZA  10112         True   False         True         1   \n3897    B51C0ZA  10112         True   False         True         1   \n3897    B51C1ZA  10112         True   False         True         1   \n3897    B51CYZA  10112         True   False         True         1   \n3897    B51CZZA  10112         True   False         True         1   \n3897    B51D0ZA  10112         True   False         True         1   \n3897    B51D1ZA  10112         True   False         True         1   \n3897    B51DYZA  10112         True   False         True         1   \n3897    B51DZZA  10112         True   False         True         1   \n3897    B543ZZA  10112         True   False         True         1   \n3897    B544ZZA  10112         True   False         True         1   \n3897    B546ZZA  10112         True   False         True         1   \n3897    B547ZZA  10112         True   False         True         1   \n3897    B54BZZA  10112         True   False         True         1   \n3897    B54CZZA  10112         True   False         True         1   \n3897    B54DZZA  10112         True   False         True         1   \n\n        choice_list  \nicd9cm               \n3897              1  \n3897              1  \n3897              1  \n3897              1  \n3897              1  \n3897              1  \n3897              1  \n3897              1  \n3897              2  \n3897              2  \n3897              2  \n3897              2  \n3897              2  \n3897              2  \n3897              2  \n3897              2  \n3897              2  \n3897              2  \n3897              2  \n3897              2  \n3897              2  \n3897              2  \n3897              2  \n3897              2  \n3897              2  \n3897              2  \n3897              2  \n3897              2  \n3897              2  \n3897              2  \n3897              2  \n3897              2  \n3897              2  \n3897              2  \n3897              2  \n3897              2  \n3897              2  \n3897              2  \n3897              2  \n3897              2  \n3897              2  \n3897              2  \n3897              2  \n3897              2  \n3897              2  \n3897              2  \n3897              2  \n3897              2  ",
      "text/html": "<div>\n<style scoped>\n    .dataframe tbody tr th:only-of-type {\n        vertical-align: middle;\n    }\n\n    .dataframe tbody tr th {\n        vertical-align: top;\n    }\n\n    .dataframe thead th {\n        text-align: right;\n    }\n</style>\n<table border=\"1\" class=\"dataframe\">\n  <thead>\n    <tr style=\"text-align: right;\">\n      <th></th>\n      <th>icd10cm</th>\n      <th>flags</th>\n      <th>approximate</th>\n      <th>no_map</th>\n      <th>combination</th>\n      <th>scenario</th>\n      <th>choice_list</th>\n    </tr>\n    <tr>\n      <th>icd9cm</th>\n      <th></th>\n      <th></th>\n      <th></th>\n      <th></th>\n      <th></th>\n      <th></th>\n      <th></th>\n    </tr>\n  </thead>\n  <tbody>\n    <tr>\n      <th>3897</th>\n      <td>05H533Z</td>\n      <td>10111</td>\n      <td>True</td>\n      <td>False</td>\n      <td>True</td>\n      <td>1</td>\n      <td>1</td>\n    </tr>\n    <tr>\n      <th>3897</th>\n      <td>05H633Z</td>\n      <td>10111</td>\n      <td>True</td>\n      <td>False</td>\n      <td>True</td>\n      <td>1</td>\n      <td>1</td>\n    </tr>\n    <tr>\n      <th>3897</th>\n      <td>05HM33Z</td>\n      <td>10111</td>\n      <td>True</td>\n      <td>False</td>\n      <td>True</td>\n      <td>1</td>\n      <td>1</td>\n    </tr>\n    <tr>\n      <th>3897</th>\n      <td>05HN33Z</td>\n      <td>10111</td>\n      <td>True</td>\n      <td>False</td>\n      <td>True</td>\n      <td>1</td>\n      <td>1</td>\n    </tr>\n    <tr>\n      <th>3897</th>\n      <td>05HP33Z</td>\n      <td>10111</td>\n      <td>True</td>\n      <td>False</td>\n      <td>True</td>\n      <td>1</td>\n      <td>1</td>\n    </tr>\n    <tr>\n      <th>3897</th>\n      <td>05HQ33Z</td>\n      <td>10111</td>\n      <td>True</td>\n      <td>False</td>\n      <td>True</td>\n      <td>1</td>\n      <td>1</td>\n    </tr>\n    <tr>\n      <th>3897</th>\n      <td>06HM33Z</td>\n      <td>10111</td>\n      <td>True</td>\n      <td>False</td>\n      <td>True</td>\n      <td>1</td>\n      <td>1</td>\n    </tr>\n    <tr>\n      <th>3897</th>\n      <td>06HN33Z</td>\n      <td>10111</td>\n      <td>True</td>\n      <td>False</td>\n      <td>True</td>\n      <td>1</td>\n      <td>1</td>\n    </tr>\n    <tr>\n      <th>3897</th>\n      <td>4A02X4A</td>\n      <td>10112</td>\n      <td>True</td>\n      <td>False</td>\n      <td>True</td>\n      <td>1</td>\n      <td>2</td>\n    </tr>\n    <tr>\n      <th>3897</th>\n      <td>B5130ZA</td>\n      <td>10112</td>\n      <td>True</td>\n      <td>False</td>\n      <td>True</td>\n      <td>1</td>\n      <td>2</td>\n    </tr>\n    <tr>\n      <th>3897</th>\n      <td>B5131ZA</td>\n      <td>10112</td>\n      <td>True</td>\n      <td>False</td>\n      <td>True</td>\n      <td>1</td>\n      <td>2</td>\n    </tr>\n    <tr>\n      <th>3897</th>\n      <td>B513YZA</td>\n      <td>10112</td>\n      <td>True</td>\n      <td>False</td>\n      <td>True</td>\n      <td>1</td>\n      <td>2</td>\n    </tr>\n    <tr>\n      <th>3897</th>\n      <td>B513ZZA</td>\n      <td>10112</td>\n      <td>True</td>\n      <td>False</td>\n      <td>True</td>\n      <td>1</td>\n      <td>2</td>\n    </tr>\n    <tr>\n      <th>3897</th>\n      <td>B5140ZA</td>\n      <td>10112</td>\n      <td>True</td>\n      <td>False</td>\n      <td>True</td>\n      <td>1</td>\n      <td>2</td>\n    </tr>\n    <tr>\n      <th>3897</th>\n      <td>B5141ZA</td>\n      <td>10112</td>\n      <td>True</td>\n      <td>False</td>\n      <td>True</td>\n      <td>1</td>\n      <td>2</td>\n    </tr>\n    <tr>\n      <th>3897</th>\n      <td>B514YZA</td>\n      <td>10112</td>\n      <td>True</td>\n      <td>False</td>\n      <td>True</td>\n      <td>1</td>\n      <td>2</td>\n    </tr>\n    <tr>\n      <th>3897</th>\n      <td>B514ZZA</td>\n      <td>10112</td>\n      <td>True</td>\n      <td>False</td>\n      <td>True</td>\n      <td>1</td>\n      <td>2</td>\n    </tr>\n    <tr>\n      <th>3897</th>\n      <td>B5150ZA</td>\n      <td>10112</td>\n      <td>True</td>\n      <td>False</td>\n      <td>True</td>\n      <td>1</td>\n      <td>2</td>\n    </tr>\n    <tr>\n      <th>3897</th>\n      <td>B5151ZA</td>\n      <td>10112</td>\n      <td>True</td>\n      <td>False</td>\n      <td>True</td>\n      <td>1</td>\n      <td>2</td>\n    </tr>\n    <tr>\n      <th>3897</th>\n      <td>B515YZA</td>\n      <td>10112</td>\n      <td>True</td>\n      <td>False</td>\n      <td>True</td>\n      <td>1</td>\n      <td>2</td>\n    </tr>\n    <tr>\n      <th>3897</th>\n      <td>B515ZZA</td>\n      <td>10112</td>\n      <td>True</td>\n      <td>False</td>\n      <td>True</td>\n      <td>1</td>\n      <td>2</td>\n    </tr>\n    <tr>\n      <th>3897</th>\n      <td>B5160ZA</td>\n      <td>10112</td>\n      <td>True</td>\n      <td>False</td>\n      <td>True</td>\n      <td>1</td>\n      <td>2</td>\n    </tr>\n    <tr>\n      <th>3897</th>\n      <td>B5161ZA</td>\n      <td>10112</td>\n      <td>True</td>\n      <td>False</td>\n      <td>True</td>\n      <td>1</td>\n      <td>2</td>\n    </tr>\n    <tr>\n      <th>3897</th>\n      <td>B516YZA</td>\n      <td>10112</td>\n      <td>True</td>\n      <td>False</td>\n      <td>True</td>\n      <td>1</td>\n      <td>2</td>\n    </tr>\n    <tr>\n      <th>3897</th>\n      <td>B516ZZA</td>\n      <td>10112</td>\n      <td>True</td>\n      <td>False</td>\n      <td>True</td>\n      <td>1</td>\n      <td>2</td>\n    </tr>\n    <tr>\n      <th>3897</th>\n      <td>B5170ZA</td>\n      <td>10112</td>\n      <td>True</td>\n      <td>False</td>\n      <td>True</td>\n      <td>1</td>\n      <td>2</td>\n    </tr>\n    <tr>\n      <th>3897</th>\n      <td>B5171ZA</td>\n      <td>10112</td>\n      <td>True</td>\n      <td>False</td>\n      <td>True</td>\n      <td>1</td>\n      <td>2</td>\n    </tr>\n    <tr>\n      <th>3897</th>\n      <td>B517YZA</td>\n      <td>10112</td>\n      <td>True</td>\n      <td>False</td>\n      <td>True</td>\n      <td>1</td>\n      <td>2</td>\n    </tr>\n    <tr>\n      <th>3897</th>\n      <td>B517ZZA</td>\n      <td>10112</td>\n      <td>True</td>\n      <td>False</td>\n      <td>True</td>\n      <td>1</td>\n      <td>2</td>\n    </tr>\n    <tr>\n      <th>3897</th>\n      <td>B51B0ZA</td>\n      <td>10112</td>\n      <td>True</td>\n      <td>False</td>\n      <td>True</td>\n      <td>1</td>\n      <td>2</td>\n    </tr>\n    <tr>\n      <th>3897</th>\n      <td>B51B1ZA</td>\n      <td>10112</td>\n      <td>True</td>\n      <td>False</td>\n      <td>True</td>\n      <td>1</td>\n      <td>2</td>\n    </tr>\n    <tr>\n      <th>3897</th>\n      <td>B51BYZA</td>\n      <td>10112</td>\n      <td>True</td>\n      <td>False</td>\n      <td>True</td>\n      <td>1</td>\n      <td>2</td>\n    </tr>\n    <tr>\n      <th>3897</th>\n      <td>B51BZZA</td>\n      <td>10112</td>\n      <td>True</td>\n      <td>False</td>\n      <td>True</td>\n      <td>1</td>\n      <td>2</td>\n    </tr>\n    <tr>\n      <th>3897</th>\n      <td>B51C0ZA</td>\n      <td>10112</td>\n      <td>True</td>\n      <td>False</td>\n      <td>True</td>\n      <td>1</td>\n      <td>2</td>\n    </tr>\n    <tr>\n      <th>3897</th>\n      <td>B51C1ZA</td>\n      <td>10112</td>\n      <td>True</td>\n      <td>False</td>\n      <td>True</td>\n      <td>1</td>\n      <td>2</td>\n    </tr>\n    <tr>\n      <th>3897</th>\n      <td>B51CYZA</td>\n      <td>10112</td>\n      <td>True</td>\n      <td>False</td>\n      <td>True</td>\n      <td>1</td>\n      <td>2</td>\n    </tr>\n    <tr>\n      <th>3897</th>\n      <td>B51CZZA</td>\n      <td>10112</td>\n      <td>True</td>\n      <td>False</td>\n      <td>True</td>\n      <td>1</td>\n      <td>2</td>\n    </tr>\n    <tr>\n      <th>3897</th>\n      <td>B51D0ZA</td>\n      <td>10112</td>\n      <td>True</td>\n      <td>False</td>\n      <td>True</td>\n      <td>1</td>\n      <td>2</td>\n    </tr>\n    <tr>\n      <th>3897</th>\n      <td>B51D1ZA</td>\n      <td>10112</td>\n      <td>True</td>\n      <td>False</td>\n      <td>True</td>\n      <td>1</td>\n      <td>2</td>\n    </tr>\n    <tr>\n      <th>3897</th>\n      <td>B51DYZA</td>\n      <td>10112</td>\n      <td>True</td>\n      <td>False</td>\n      <td>True</td>\n      <td>1</td>\n      <td>2</td>\n    </tr>\n    <tr>\n      <th>3897</th>\n      <td>B51DZZA</td>\n      <td>10112</td>\n      <td>True</td>\n      <td>False</td>\n      <td>True</td>\n      <td>1</td>\n      <td>2</td>\n    </tr>\n    <tr>\n      <th>3897</th>\n      <td>B543ZZA</td>\n      <td>10112</td>\n      <td>True</td>\n      <td>False</td>\n      <td>True</td>\n      <td>1</td>\n      <td>2</td>\n    </tr>\n    <tr>\n      <th>3897</th>\n      <td>B544ZZA</td>\n      <td>10112</td>\n      <td>True</td>\n      <td>False</td>\n      <td>True</td>\n      <td>1</td>\n      <td>2</td>\n    </tr>\n    <tr>\n      <th>3897</th>\n      <td>B546ZZA</td>\n      <td>10112</td>\n      <td>True</td>\n      <td>False</td>\n      <td>True</td>\n      <td>1</td>\n      <td>2</td>\n    </tr>\n    <tr>\n      <th>3897</th>\n      <td>B547ZZA</td>\n      <td>10112</td>\n      <td>True</td>\n      <td>False</td>\n      <td>True</td>\n      <td>1</td>\n      <td>2</td>\n    </tr>\n    <tr>\n      <th>3897</th>\n      <td>B54BZZA</td>\n      <td>10112</td>\n      <td>True</td>\n      <td>False</td>\n      <td>True</td>\n      <td>1</td>\n      <td>2</td>\n    </tr>\n    <tr>\n      <th>3897</th>\n      <td>B54CZZA</td>\n      <td>10112</td>\n      <td>True</td>\n      <td>False</td>\n      <td>True</td>\n      <td>1</td>\n      <td>2</td>\n    </tr>\n    <tr>\n      <th>3897</th>\n      <td>B54DZZA</td>\n      <td>10112</td>\n      <td>True</td>\n      <td>False</td>\n      <td>True</td>\n      <td>1</td>\n      <td>2</td>\n    </tr>\n  </tbody>\n</table>\n</div>"
     },
     "execution_count": 51,
     "metadata": {},
     "output_type": "execute_result"
    }
   ],
   "source": [
    "icd9toicd10pcsgem.loc['3897']"
   ],
   "metadata": {
    "collapsed": false,
    "ExecuteTime": {
     "end_time": "2023-09-09T23:24:33.943886200Z",
     "start_time": "2023-09-09T23:24:33.889085800Z"
    }
   }
  },
  {
   "cell_type": "code",
   "execution_count": 52,
   "outputs": [
    {
     "data": {
      "text/plain": "       icd10cm  flags  approximate  no_map  combination  scenario  choice_list\nicd9cm                                                                        \n2724      E784  10000         True   False        False         0            0\n2724      E785  10000         True   False        False         0            0",
      "text/html": "<div>\n<style scoped>\n    .dataframe tbody tr th:only-of-type {\n        vertical-align: middle;\n    }\n\n    .dataframe tbody tr th {\n        vertical-align: top;\n    }\n\n    .dataframe thead th {\n        text-align: right;\n    }\n</style>\n<table border=\"1\" class=\"dataframe\">\n  <thead>\n    <tr style=\"text-align: right;\">\n      <th></th>\n      <th>icd10cm</th>\n      <th>flags</th>\n      <th>approximate</th>\n      <th>no_map</th>\n      <th>combination</th>\n      <th>scenario</th>\n      <th>choice_list</th>\n    </tr>\n    <tr>\n      <th>icd9cm</th>\n      <th></th>\n      <th></th>\n      <th></th>\n      <th></th>\n      <th></th>\n      <th></th>\n      <th></th>\n    </tr>\n  </thead>\n  <tbody>\n    <tr>\n      <th>2724</th>\n      <td>E784</td>\n      <td>10000</td>\n      <td>True</td>\n      <td>False</td>\n      <td>False</td>\n      <td>0</td>\n      <td>0</td>\n    </tr>\n    <tr>\n      <th>2724</th>\n      <td>E785</td>\n      <td>10000</td>\n      <td>True</td>\n      <td>False</td>\n      <td>False</td>\n      <td>0</td>\n      <td>0</td>\n    </tr>\n  </tbody>\n</table>\n</div>"
     },
     "execution_count": 52,
     "metadata": {},
     "output_type": "execute_result"
    }
   ],
   "source": [
    "icd9toicd10cmgem.loc['2724']"
   ],
   "metadata": {
    "collapsed": false,
    "ExecuteTime": {
     "end_time": "2023-09-09T23:24:33.943886200Z",
     "start_time": "2023-09-09T23:24:33.901362800Z"
    }
   }
  },
  {
   "cell_type": "code",
   "execution_count": 129,
   "outputs": [],
   "source": [
    "icd_shares = {\n",
    "    \"dia\": {\n",
    "        10: 41.8,\n",
    "        9: 58.2,\n",
    "    },\n",
    "    'pro': {\n",
    "        10: 33.3,\n",
    "        9: 66.7\n",
    "    }\n",
    "}\n",
    "\n",
    "\n",
    "def calculate_relative_shares(df: DataFrame, code_type: str, code_version: int):\n",
    "    return round(df * icd_shares[code_type][code_version] / 100, 1)"
   ],
   "metadata": {
    "collapsed": false,
    "ExecuteTime": {
     "end_time": "2023-09-10T09:29:51.631130700Z",
     "start_time": "2023-09-10T09:29:51.616348100Z"
    }
   }
  },
  {
   "cell_type": "code",
   "execution_count": 137,
   "outputs": [
    {
     "data": {
      "text/plain": "                exact1_5  exact2_5  least3_5  none_5  exact1_4  exact2_4  \\\nident                5.2       5.3      28.4     2.9       5.2       5.3   \napprox               3.3       4.5      32.5     1.5       2.9       4.2   \ncomb                 7.1       2.2       1.0    31.4       7.2       2.2   \napprox_alts         12.0      10.6      12.7     6.5      13.0      10.0   \ncomb_alts            0.1       0.0       0.0    41.7       0.1       0.0   \nmulti_scenario       6.7       0.5       0.0    34.6       6.7       0.5   \nno_map               2.6       0.1       0.2    39.0       2.6       0.1   \nunsolvable          10.6       9.6      15.5     6.1      12.3       9.4   \n\n                least3_4  none_4  exact1_3  exact2_3  least3_3  none_3  \nident               28.4     2.9       5.2       5.3      28.4     2.9  \napprox              33.8     0.9       2.1       3.2      35.9     0.6  \ncomb                 1.0    31.4       7.2       2.2       1.0    31.3  \napprox_alts          9.5     9.3      14.0       4.6       1.4    21.8  \ncomb_alts            0.0    41.7       0.1       0.0       0.0    41.7  \nmulti_scenario       0.0    34.6       1.6       0.0       0.0    40.2  \nno_map               0.2    39.0       2.6       0.1       0.2    39.0  \nunsolvable          12.2     7.9      14.8       5.4       2.1    19.5  ",
      "text/html": "<div>\n<style scoped>\n    .dataframe tbody tr th:only-of-type {\n        vertical-align: middle;\n    }\n\n    .dataframe tbody tr th {\n        vertical-align: top;\n    }\n\n    .dataframe thead th {\n        text-align: right;\n    }\n</style>\n<table border=\"1\" class=\"dataframe\">\n  <thead>\n    <tr style=\"text-align: right;\">\n      <th></th>\n      <th>exact1_5</th>\n      <th>exact2_5</th>\n      <th>least3_5</th>\n      <th>none_5</th>\n      <th>exact1_4</th>\n      <th>exact2_4</th>\n      <th>least3_4</th>\n      <th>none_4</th>\n      <th>exact1_3</th>\n      <th>exact2_3</th>\n      <th>least3_3</th>\n      <th>none_3</th>\n    </tr>\n  </thead>\n  <tbody>\n    <tr>\n      <th>ident</th>\n      <td>5.2</td>\n      <td>5.3</td>\n      <td>28.4</td>\n      <td>2.9</td>\n      <td>5.2</td>\n      <td>5.3</td>\n      <td>28.4</td>\n      <td>2.9</td>\n      <td>5.2</td>\n      <td>5.3</td>\n      <td>28.4</td>\n      <td>2.9</td>\n    </tr>\n    <tr>\n      <th>approx</th>\n      <td>3.3</td>\n      <td>4.5</td>\n      <td>32.5</td>\n      <td>1.5</td>\n      <td>2.9</td>\n      <td>4.2</td>\n      <td>33.8</td>\n      <td>0.9</td>\n      <td>2.1</td>\n      <td>3.2</td>\n      <td>35.9</td>\n      <td>0.6</td>\n    </tr>\n    <tr>\n      <th>comb</th>\n      <td>7.1</td>\n      <td>2.2</td>\n      <td>1.0</td>\n      <td>31.4</td>\n      <td>7.2</td>\n      <td>2.2</td>\n      <td>1.0</td>\n      <td>31.4</td>\n      <td>7.2</td>\n      <td>2.2</td>\n      <td>1.0</td>\n      <td>31.3</td>\n    </tr>\n    <tr>\n      <th>approx_alts</th>\n      <td>12.0</td>\n      <td>10.6</td>\n      <td>12.7</td>\n      <td>6.5</td>\n      <td>13.0</td>\n      <td>10.0</td>\n      <td>9.5</td>\n      <td>9.3</td>\n      <td>14.0</td>\n      <td>4.6</td>\n      <td>1.4</td>\n      <td>21.8</td>\n    </tr>\n    <tr>\n      <th>comb_alts</th>\n      <td>0.1</td>\n      <td>0.0</td>\n      <td>0.0</td>\n      <td>41.7</td>\n      <td>0.1</td>\n      <td>0.0</td>\n      <td>0.0</td>\n      <td>41.7</td>\n      <td>0.1</td>\n      <td>0.0</td>\n      <td>0.0</td>\n      <td>41.7</td>\n    </tr>\n    <tr>\n      <th>multi_scenario</th>\n      <td>6.7</td>\n      <td>0.5</td>\n      <td>0.0</td>\n      <td>34.6</td>\n      <td>6.7</td>\n      <td>0.5</td>\n      <td>0.0</td>\n      <td>34.6</td>\n      <td>1.6</td>\n      <td>0.0</td>\n      <td>0.0</td>\n      <td>40.2</td>\n    </tr>\n    <tr>\n      <th>no_map</th>\n      <td>2.6</td>\n      <td>0.1</td>\n      <td>0.2</td>\n      <td>39.0</td>\n      <td>2.6</td>\n      <td>0.1</td>\n      <td>0.2</td>\n      <td>39.0</td>\n      <td>2.6</td>\n      <td>0.1</td>\n      <td>0.2</td>\n      <td>39.0</td>\n    </tr>\n    <tr>\n      <th>unsolvable</th>\n      <td>10.6</td>\n      <td>9.6</td>\n      <td>15.5</td>\n      <td>6.1</td>\n      <td>12.3</td>\n      <td>9.4</td>\n      <td>12.2</td>\n      <td>7.9</td>\n      <td>14.8</td>\n      <td>5.4</td>\n      <td>2.1</td>\n      <td>19.5</td>\n    </tr>\n  </tbody>\n</table>\n</div>"
     },
     "execution_count": 137,
     "metadata": {},
     "output_type": "execute_result"
    }
   ],
   "source": [
    "calculate_relative_shares(exact_columns(icd10cmtoicd9adm_probs), 'dia', 10)"
   ],
   "metadata": {
    "collapsed": false,
    "ExecuteTime": {
     "end_time": "2023-09-10T10:00:46.448131Z",
     "start_time": "2023-09-10T10:00:46.440611200Z"
    }
   }
  },
  {
   "cell_type": "code",
   "execution_count": 138,
   "outputs": [
    {
     "data": {
      "text/plain": "                exact1_5  exact2_5  least3_5  none_5  exact1_4  exact2_4  \\\nident                0.8       0.0       0.0    32.5       0.8       0.0   \napprox              12.6       6.5       8.2     6.0      12.6       6.5   \ncomb                 1.4       0.2       0.1    31.6       1.4       0.2   \napprox_alts         10.2       4.6       2.8    15.7      10.2       4.6   \ncomb_alts            0.6       0.1       0.0    32.6       0.6       0.1   \nmulti_scenario       0.3       0.1       0.1    32.8       0.3       0.1   \nno_map               0.0       0.0       0.0    33.3       0.0       0.0   \nunsolvable          10.5       4.8       3.0    14.9      10.5       4.8   \n\n                least3_4  none_4  exact1_3  exact2_3  least3_3  none_3  \nident                0.0    32.5       0.8       0.0       0.0    32.5  \napprox               8.2     6.0      12.2       7.0      10.7     3.4  \ncomb                 0.1    31.6       1.8       0.3       0.1    31.1  \napprox_alts          2.8    15.7       9.1       1.9       0.9    21.4  \ncomb_alts            0.0    32.6       0.1       0.0       0.0    33.1  \nmulti_scenario       0.1    32.8       0.3       0.1       0.1    32.8  \nno_map               0.0    33.3       0.0       0.0       0.0    33.3  \nunsolvable           3.0    14.9       9.4       2.1       1.0    20.9  ",
      "text/html": "<div>\n<style scoped>\n    .dataframe tbody tr th:only-of-type {\n        vertical-align: middle;\n    }\n\n    .dataframe tbody tr th {\n        vertical-align: top;\n    }\n\n    .dataframe thead th {\n        text-align: right;\n    }\n</style>\n<table border=\"1\" class=\"dataframe\">\n  <thead>\n    <tr style=\"text-align: right;\">\n      <th></th>\n      <th>exact1_5</th>\n      <th>exact2_5</th>\n      <th>least3_5</th>\n      <th>none_5</th>\n      <th>exact1_4</th>\n      <th>exact2_4</th>\n      <th>least3_4</th>\n      <th>none_4</th>\n      <th>exact1_3</th>\n      <th>exact2_3</th>\n      <th>least3_3</th>\n      <th>none_3</th>\n    </tr>\n  </thead>\n  <tbody>\n    <tr>\n      <th>ident</th>\n      <td>0.8</td>\n      <td>0.0</td>\n      <td>0.0</td>\n      <td>32.5</td>\n      <td>0.8</td>\n      <td>0.0</td>\n      <td>0.0</td>\n      <td>32.5</td>\n      <td>0.8</td>\n      <td>0.0</td>\n      <td>0.0</td>\n      <td>32.5</td>\n    </tr>\n    <tr>\n      <th>approx</th>\n      <td>12.6</td>\n      <td>6.5</td>\n      <td>8.2</td>\n      <td>6.0</td>\n      <td>12.6</td>\n      <td>6.5</td>\n      <td>8.2</td>\n      <td>6.0</td>\n      <td>12.2</td>\n      <td>7.0</td>\n      <td>10.7</td>\n      <td>3.4</td>\n    </tr>\n    <tr>\n      <th>comb</th>\n      <td>1.4</td>\n      <td>0.2</td>\n      <td>0.1</td>\n      <td>31.6</td>\n      <td>1.4</td>\n      <td>0.2</td>\n      <td>0.1</td>\n      <td>31.6</td>\n      <td>1.8</td>\n      <td>0.3</td>\n      <td>0.1</td>\n      <td>31.1</td>\n    </tr>\n    <tr>\n      <th>approx_alts</th>\n      <td>10.2</td>\n      <td>4.6</td>\n      <td>2.8</td>\n      <td>15.7</td>\n      <td>10.2</td>\n      <td>4.6</td>\n      <td>2.8</td>\n      <td>15.7</td>\n      <td>9.1</td>\n      <td>1.9</td>\n      <td>0.9</td>\n      <td>21.4</td>\n    </tr>\n    <tr>\n      <th>comb_alts</th>\n      <td>0.6</td>\n      <td>0.1</td>\n      <td>0.0</td>\n      <td>32.6</td>\n      <td>0.6</td>\n      <td>0.1</td>\n      <td>0.0</td>\n      <td>32.6</td>\n      <td>0.1</td>\n      <td>0.0</td>\n      <td>0.0</td>\n      <td>33.1</td>\n    </tr>\n    <tr>\n      <th>multi_scenario</th>\n      <td>0.3</td>\n      <td>0.1</td>\n      <td>0.1</td>\n      <td>32.8</td>\n      <td>0.3</td>\n      <td>0.1</td>\n      <td>0.1</td>\n      <td>32.8</td>\n      <td>0.3</td>\n      <td>0.1</td>\n      <td>0.1</td>\n      <td>32.8</td>\n    </tr>\n    <tr>\n      <th>no_map</th>\n      <td>0.0</td>\n      <td>0.0</td>\n      <td>0.0</td>\n      <td>33.3</td>\n      <td>0.0</td>\n      <td>0.0</td>\n      <td>0.0</td>\n      <td>33.3</td>\n      <td>0.0</td>\n      <td>0.0</td>\n      <td>0.0</td>\n      <td>33.3</td>\n    </tr>\n    <tr>\n      <th>unsolvable</th>\n      <td>10.5</td>\n      <td>4.8</td>\n      <td>3.0</td>\n      <td>14.9</td>\n      <td>10.5</td>\n      <td>4.8</td>\n      <td>3.0</td>\n      <td>14.9</td>\n      <td>9.4</td>\n      <td>2.1</td>\n      <td>1.0</td>\n      <td>20.9</td>\n    </tr>\n  </tbody>\n</table>\n</div>"
     },
     "execution_count": 138,
     "metadata": {},
     "output_type": "execute_result"
    }
   ],
   "source": [
    "calculate_relative_shares(exact_columns(icd10pcstoicd9adm_probs), 'pro', 10)"
   ],
   "metadata": {
    "collapsed": false,
    "ExecuteTime": {
     "end_time": "2023-09-10T10:00:46.813141600Z",
     "start_time": "2023-09-10T10:00:46.797506400Z"
    }
   }
  },
  {
   "cell_type": "code",
   "execution_count": 139,
   "outputs": [
    {
     "data": {
      "text/plain": "                exact1_5  exact2_5  least3_5  none_5  exact1_4  exact2_4  \\\nident               10.2       8.8      32.3     6.9      10.2       8.8   \napprox               7.7       8.3      38.8     3.4       6.4       7.4   \ncomb                 0.8       0.3       0.1    57.0       0.9       0.3   \napprox_alts         16.5      12.4      15.2    14.0      18.3      10.8   \ncomb_alts            0.6       0.0       0.0    57.6       0.3       0.0   \nmulti_scenario       0.1       0.0       0.0    58.1       0.0       0.0   \nno_map               5.4       0.8       0.2    51.9       5.4       0.8   \nunsolvable          15.8      12.1      16.9    13.4      17.6      10.9   \n\n                least3_4  none_4  exact1_3  exact2_3  least3_3  none_3  \nident               32.3     6.9      10.2       8.8      32.3     6.9  \napprox              42.2     2.3       5.3       6.1      45.2     1.6  \ncomb                 0.2    56.8       1.0       0.3       0.2    56.6  \napprox_alts          8.5    20.7      14.0       2.9       0.6    40.6  \ncomb_alts            0.0    57.9       0.1       0.0       0.0    58.1  \nmulti_scenario       0.0    58.1       0.0       0.0       0.0    58.2  \nno_map               0.2    51.9       5.4       0.8       0.2    51.9  \nunsolvable          10.3    19.5      15.0       4.4       1.7    37.1  ",
      "text/html": "<div>\n<style scoped>\n    .dataframe tbody tr th:only-of-type {\n        vertical-align: middle;\n    }\n\n    .dataframe tbody tr th {\n        vertical-align: top;\n    }\n\n    .dataframe thead th {\n        text-align: right;\n    }\n</style>\n<table border=\"1\" class=\"dataframe\">\n  <thead>\n    <tr style=\"text-align: right;\">\n      <th></th>\n      <th>exact1_5</th>\n      <th>exact2_5</th>\n      <th>least3_5</th>\n      <th>none_5</th>\n      <th>exact1_4</th>\n      <th>exact2_4</th>\n      <th>least3_4</th>\n      <th>none_4</th>\n      <th>exact1_3</th>\n      <th>exact2_3</th>\n      <th>least3_3</th>\n      <th>none_3</th>\n    </tr>\n  </thead>\n  <tbody>\n    <tr>\n      <th>ident</th>\n      <td>10.2</td>\n      <td>8.8</td>\n      <td>32.3</td>\n      <td>6.9</td>\n      <td>10.2</td>\n      <td>8.8</td>\n      <td>32.3</td>\n      <td>6.9</td>\n      <td>10.2</td>\n      <td>8.8</td>\n      <td>32.3</td>\n      <td>6.9</td>\n    </tr>\n    <tr>\n      <th>approx</th>\n      <td>7.7</td>\n      <td>8.3</td>\n      <td>38.8</td>\n      <td>3.4</td>\n      <td>6.4</td>\n      <td>7.4</td>\n      <td>42.2</td>\n      <td>2.3</td>\n      <td>5.3</td>\n      <td>6.1</td>\n      <td>45.2</td>\n      <td>1.6</td>\n    </tr>\n    <tr>\n      <th>comb</th>\n      <td>0.8</td>\n      <td>0.3</td>\n      <td>0.1</td>\n      <td>57.0</td>\n      <td>0.9</td>\n      <td>0.3</td>\n      <td>0.2</td>\n      <td>56.8</td>\n      <td>1.0</td>\n      <td>0.3</td>\n      <td>0.2</td>\n      <td>56.6</td>\n    </tr>\n    <tr>\n      <th>approx_alts</th>\n      <td>16.5</td>\n      <td>12.4</td>\n      <td>15.2</td>\n      <td>14.0</td>\n      <td>18.3</td>\n      <td>10.8</td>\n      <td>8.5</td>\n      <td>20.7</td>\n      <td>14.0</td>\n      <td>2.9</td>\n      <td>0.6</td>\n      <td>40.6</td>\n    </tr>\n    <tr>\n      <th>comb_alts</th>\n      <td>0.6</td>\n      <td>0.0</td>\n      <td>0.0</td>\n      <td>57.6</td>\n      <td>0.3</td>\n      <td>0.0</td>\n      <td>0.0</td>\n      <td>57.9</td>\n      <td>0.1</td>\n      <td>0.0</td>\n      <td>0.0</td>\n      <td>58.1</td>\n    </tr>\n    <tr>\n      <th>multi_scenario</th>\n      <td>0.1</td>\n      <td>0.0</td>\n      <td>0.0</td>\n      <td>58.1</td>\n      <td>0.0</td>\n      <td>0.0</td>\n      <td>0.0</td>\n      <td>58.1</td>\n      <td>0.0</td>\n      <td>0.0</td>\n      <td>0.0</td>\n      <td>58.2</td>\n    </tr>\n    <tr>\n      <th>no_map</th>\n      <td>5.4</td>\n      <td>0.8</td>\n      <td>0.2</td>\n      <td>51.9</td>\n      <td>5.4</td>\n      <td>0.8</td>\n      <td>0.2</td>\n      <td>51.9</td>\n      <td>5.4</td>\n      <td>0.8</td>\n      <td>0.2</td>\n      <td>51.9</td>\n    </tr>\n    <tr>\n      <th>unsolvable</th>\n      <td>15.8</td>\n      <td>12.1</td>\n      <td>16.9</td>\n      <td>13.4</td>\n      <td>17.6</td>\n      <td>10.9</td>\n      <td>10.3</td>\n      <td>19.5</td>\n      <td>15.0</td>\n      <td>4.4</td>\n      <td>1.7</td>\n      <td>37.1</td>\n    </tr>\n  </tbody>\n</table>\n</div>"
     },
     "execution_count": 139,
     "metadata": {},
     "output_type": "execute_result"
    }
   ],
   "source": [
    "calculate_relative_shares(exact_columns(icd9toicd10cmadm_probs), 'dia', 9)"
   ],
   "metadata": {
    "collapsed": false,
    "ExecuteTime": {
     "end_time": "2023-09-10T10:00:47.623934400Z",
     "start_time": "2023-09-10T10:00:47.325741900Z"
    }
   }
  },
  {
   "cell_type": "code",
   "execution_count": 140,
   "outputs": [
    {
     "data": {
      "text/plain": "                exact1_5  exact2_5  least3_5  none_5  exact1_4  exact2_4  \\\nident                1.5       0.0       0.0    65.2       1.5       0.0   \napprox              13.8       4.3       0.9    47.7      21.3       6.6   \ncomb                 0.4       0.3       0.0    66.0       0.6       0.3   \napprox_alts         25.8      15.0      19.1     6.8      25.7      13.0   \ncomb_alts            5.4       0.4       0.1    60.8       5.2       0.4   \nmulti_scenario       1.8       0.1       0.0    64.7       1.8       0.1   \nno_map               2.1       0.4       3.0    61.1       2.1       0.4   \nunsolvable          24.7      15.3      21.8     4.9      24.8      12.8   \n\n                least3_4  none_4  exact1_3  exact2_3  least3_3  none_3  \nident                0.0    65.2       1.6       0.0       0.0    65.1  \napprox               7.3    31.4      26.8      11.8      12.6    15.5  \ncomb                 0.0    65.7       2.6       0.4       0.0    63.7  \napprox_alts         12.3    15.6      24.4       8.6       5.9    27.8  \ncomb_alts            0.1    61.1       3.9       0.3       0.0    62.5  \nmulti_scenario       0.0    64.7       1.1       0.1       0.0    65.5  \nno_map               3.0    61.1       2.1       0.4       3.0    61.1  \nunsolvable          15.7    13.3      23.7       9.0       9.7    24.3  ",
      "text/html": "<div>\n<style scoped>\n    .dataframe tbody tr th:only-of-type {\n        vertical-align: middle;\n    }\n\n    .dataframe tbody tr th {\n        vertical-align: top;\n    }\n\n    .dataframe thead th {\n        text-align: right;\n    }\n</style>\n<table border=\"1\" class=\"dataframe\">\n  <thead>\n    <tr style=\"text-align: right;\">\n      <th></th>\n      <th>exact1_5</th>\n      <th>exact2_5</th>\n      <th>least3_5</th>\n      <th>none_5</th>\n      <th>exact1_4</th>\n      <th>exact2_4</th>\n      <th>least3_4</th>\n      <th>none_4</th>\n      <th>exact1_3</th>\n      <th>exact2_3</th>\n      <th>least3_3</th>\n      <th>none_3</th>\n    </tr>\n  </thead>\n  <tbody>\n    <tr>\n      <th>ident</th>\n      <td>1.5</td>\n      <td>0.0</td>\n      <td>0.0</td>\n      <td>65.2</td>\n      <td>1.5</td>\n      <td>0.0</td>\n      <td>0.0</td>\n      <td>65.2</td>\n      <td>1.6</td>\n      <td>0.0</td>\n      <td>0.0</td>\n      <td>65.1</td>\n    </tr>\n    <tr>\n      <th>approx</th>\n      <td>13.8</td>\n      <td>4.3</td>\n      <td>0.9</td>\n      <td>47.7</td>\n      <td>21.3</td>\n      <td>6.6</td>\n      <td>7.3</td>\n      <td>31.4</td>\n      <td>26.8</td>\n      <td>11.8</td>\n      <td>12.6</td>\n      <td>15.5</td>\n    </tr>\n    <tr>\n      <th>comb</th>\n      <td>0.4</td>\n      <td>0.3</td>\n      <td>0.0</td>\n      <td>66.0</td>\n      <td>0.6</td>\n      <td>0.3</td>\n      <td>0.0</td>\n      <td>65.7</td>\n      <td>2.6</td>\n      <td>0.4</td>\n      <td>0.0</td>\n      <td>63.7</td>\n    </tr>\n    <tr>\n      <th>approx_alts</th>\n      <td>25.8</td>\n      <td>15.0</td>\n      <td>19.1</td>\n      <td>6.8</td>\n      <td>25.7</td>\n      <td>13.0</td>\n      <td>12.3</td>\n      <td>15.6</td>\n      <td>24.4</td>\n      <td>8.6</td>\n      <td>5.9</td>\n      <td>27.8</td>\n    </tr>\n    <tr>\n      <th>comb_alts</th>\n      <td>5.4</td>\n      <td>0.4</td>\n      <td>0.1</td>\n      <td>60.8</td>\n      <td>5.2</td>\n      <td>0.4</td>\n      <td>0.1</td>\n      <td>61.1</td>\n      <td>3.9</td>\n      <td>0.3</td>\n      <td>0.0</td>\n      <td>62.5</td>\n    </tr>\n    <tr>\n      <th>multi_scenario</th>\n      <td>1.8</td>\n      <td>0.1</td>\n      <td>0.0</td>\n      <td>64.7</td>\n      <td>1.8</td>\n      <td>0.1</td>\n      <td>0.0</td>\n      <td>64.7</td>\n      <td>1.1</td>\n      <td>0.1</td>\n      <td>0.0</td>\n      <td>65.5</td>\n    </tr>\n    <tr>\n      <th>no_map</th>\n      <td>2.1</td>\n      <td>0.4</td>\n      <td>3.0</td>\n      <td>61.1</td>\n      <td>2.1</td>\n      <td>0.4</td>\n      <td>3.0</td>\n      <td>61.1</td>\n      <td>2.1</td>\n      <td>0.4</td>\n      <td>3.0</td>\n      <td>61.1</td>\n    </tr>\n    <tr>\n      <th>unsolvable</th>\n      <td>24.7</td>\n      <td>15.3</td>\n      <td>21.8</td>\n      <td>4.9</td>\n      <td>24.8</td>\n      <td>12.8</td>\n      <td>15.7</td>\n      <td>13.3</td>\n      <td>23.7</td>\n      <td>9.0</td>\n      <td>9.7</td>\n      <td>24.3</td>\n    </tr>\n  </tbody>\n</table>\n</div>"
     },
     "execution_count": 140,
     "metadata": {},
     "output_type": "execute_result"
    }
   ],
   "source": [
    "calculate_relative_shares(exact_columns(icd9toicd10pcsadm_probs), 'pro', 9)"
   ],
   "metadata": {
    "collapsed": false,
    "ExecuteTime": {
     "end_time": "2023-09-10T10:00:48.617343500Z",
     "start_time": "2023-09-10T10:00:48.412659200Z"
    }
   }
  },
  {
   "cell_type": "code",
   "execution_count": null,
   "outputs": [],
   "source": [],
   "metadata": {
    "collapsed": false
   }
  }
 ],
 "metadata": {
  "kernelspec": {
   "display_name": "Python 3",
   "language": "python",
   "name": "python3"
  },
  "language_info": {
   "codemirror_mode": {
    "name": "ipython",
    "version": 2
   },
   "file_extension": ".py",
   "mimetype": "text/x-python",
   "name": "python",
   "nbconvert_exporter": "python",
   "pygments_lexer": "ipython2",
   "version": "2.7.6"
  }
 },
 "nbformat": 4,
 "nbformat_minor": 0
}
